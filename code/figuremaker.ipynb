{
 "cells": [
  {
   "cell_type": "code",
   "execution_count": 1,
   "metadata": {
    "collapsed": true
   },
   "outputs": [],
   "source": [
    "import numpy as np\n",
    "import matplotlib.pyplot as plt\n",
    "import os\n",
    "%matplotlib inline"
   ]
  },
  {
   "cell_type": "code",
   "execution_count": 2,
   "metadata": {
    "collapsed": true
   },
   "outputs": [],
   "source": [
    "path = '/home/kpierce/Desktop/reverting-onecell/data/'\n",
    "files = [f for f in os.listdir(path) if f.endswith('.npy') and 'analysis' in f]\n",
    "data = [np.load(path+f,allow_pickle=True).item() for f in files]\n",
    "for d in data: # add in a flow attribute\n",
    "    d['flow'] = d['filename'].split('/')[-1].split('-')[0].split('_')[1]\n",
    "# colors for plotting\n",
    "colors = {'a':'red','g':'magenta', 'i':'green','l':'orange','n':'blue'}\n",
    "for d in data:\n",
    "    d['color']= colors[d['flow']]\n",
    "a = 0.3 # particle radius \n",
    "dx = 22.5 # control volume cell size \n",
    "phi = 0.6 # packing fraction \n",
    "n0 = 21 #initial number of moving particles \n",
    "m0 = 50000 # initial number of stationary particles \n",
    "z1 = np.pi*a**2/(phi*dx) # relevant length scale of bed elevations"
   ]
  },
  {
   "cell_type": "code",
   "execution_count": 3,
   "metadata": {
    "collapsed": true
   },
   "outputs": [],
   "source": [
    "lvals = [d['l'] for d in data]\n",
    "flows = [d['flow'] for d in data]\n",
    "n_means_anc = [d['ancey_n_stats']['n_mean'] for d in data]\n",
    "n_devs_anc = [np.sqrt(d['ancey_n_stats']['n_var']) for d in data]\n",
    "m_means = []\n",
    "m_devs = []\n",
    "n_means = []\n",
    "n_devs = []\n",
    "for d in data:\n",
    "    m,pm = d['m_pdf'].T\n",
    "    mean = (m*pm).sum()\n",
    "    std = np.sqrt(((m-mean)**2*pm).sum())\n",
    "    m_means.append(mean)\n",
    "    m_devs.append(std)\n",
    "    n,pn = d['n_pdf'].T\n",
    "    mean = (n*pn).sum()\n",
    "    std = np.sqrt(((n-mean)**2*pn).sum())\n",
    "    n_means.append(mean)\n",
    "    n_devs.append(std)"
   ]
  },
  {
   "cell_type": "code",
   "execution_count": null,
   "metadata": {
    "scrolled": true
   },
   "outputs": [],
   "source": [
    "plt.scatter(lvals,m_means,color = [colors[flow] for flow in flows])\n",
    "plt.xlabel('l')\n",
    "plt.ylabel('$mean(m)$')"
   ]
  },
  {
   "cell_type": "code",
   "execution_count": null,
   "metadata": {
    "scrolled": false
   },
   "outputs": [],
   "source": [
    "plt.scatter(lvals,m_devs,color = [colors[flow] for flow in flows])\n",
    "plt.xlabel('l')\n",
    "plt.ylabel('$std(m)$')"
   ]
  },
  {
   "cell_type": "code",
   "execution_count": null,
   "metadata": {
    "scrolled": true
   },
   "outputs": [],
   "source": [
    "plt.scatter(lvals,n_means,color = [colors[flow] for flow in flows])\n",
    "plt.xlabel('l')\n",
    "plt.ylabel('$mean(n)$')"
   ]
  },
  {
   "cell_type": "code",
   "execution_count": null,
   "metadata": {},
   "outputs": [],
   "source": [
    "plt.scatter(lvals,n_devs,color = [colors[flow] for flow in flows])\n",
    "plt.xlabel('l')\n",
    "plt.ylabel('$std(n)$')"
   ]
  },
  {
   "cell_type": "code",
   "execution_count": null,
   "metadata": {},
   "outputs": [],
   "source": [
    "for d in data:\n",
    "    t,cdf = d['rt_cdf'].T\n",
    "    l = d['l']\n",
    "    E = d['E']\n",
    "    plt.loglog(E*t*z1/l,cdf,color=colors[d['flow']])\n",
    "plt.ylim(1e-6,10)\n",
    "plt.xlim(1e-5,1e6)"
   ]
  },
  {
   "cell_type": "code",
   "execution_count": null,
   "metadata": {},
   "outputs": [],
   "source": [
    "# now look at deviations from ancey n statistics\n",
    "meanshift = np.array(n_means)-np.array(n_means_anc)\n",
    "plt.scatter(lvals,meanshift,color = [colors[flow] for flow in flows])\n",
    "plt.xlabel('l')\n",
    "plt.ylabel('$deviation between mean(n) ancey and me$')"
   ]
  },
  {
   "cell_type": "code",
   "execution_count": null,
   "metadata": {},
   "outputs": [],
   "source": [
    "# now look at deviations from ancey n statistics\n",
    "varshift = np.array(n_devs)-np.array(n_devs_anc)\n",
    "plt.scatter(lvals,varshift,color = [colors[flow] for flow in flows])\n",
    "plt.xlabel('l')\n",
    "plt.ylabel('$deviation between var(n) ancey and me$')"
   ]
  },
  {
   "cell_type": "markdown",
   "metadata": {},
   "source": [
    "# now make the publication figures"
   ]
  },
  {
   "cell_type": "code",
   "execution_count": null,
   "metadata": {
    "collapsed": true
   },
   "outputs": [],
   "source": [
    "from matplotlib import rcParams\n",
    "rcParams['axes.labelsize'] = 20\n",
    "rcParams['xtick.labelsize'] = 12\n",
    "rcParams['ytick.labelsize'] = 12\n",
    "rcParams['legend.fontsize'] = 16\n",
    "from matplotlib import rcParams\n",
    "rcParams['font.serif'] = ['Computer Modern Roman']\n",
    "rcParams['text.usetex'] = True\n",
    "rcParams['figure.figsize'] = 6,5\n",
    "rcParams.update({'font.size': 22})\n",
    "rcParams['lines.linewidth']=3\n",
    "rcParams['lines.markersize']=5"
   ]
  },
  {
   "cell_type": "code",
   "execution_count": null,
   "metadata": {
    "collapsed": true
   },
   "outputs": [],
   "source": [
    "colors=[colors[key] for key in flows]\n"
   ]
  },
  {
   "cell_type": "code",
   "execution_count": null,
   "metadata": {
    "scrolled": true
   },
   "outputs": [],
   "source": [
    "# make the variance plot ... \n",
    "#colors=[colors[key] for key in flows]\n",
    "lvals = np.array(lvals)\n",
    "m_devs = np.array(m_devs)\n",
    "plt.scatter(lvals/z1,m_devs,color=colors)\n",
    "#plt.xlim(1e-7,1e3)\n",
    "#plt.ylim(1e-6,1e2)\n",
    "#plt.legend()\n",
    "#plt.xlabel(r'$l\\text{ [units of }a$')\n",
    "#plt.ylabel(r'$\\text{var}(m)$')\n",
    "x = np.linspace(0,180,100)\n",
    "plt.plot(x,x,'--',color='black',zorder=-1,label='1-to-1 line: $R^2=0.997$')\n",
    "plt.xlim(0,165)\n",
    "plt.ylim(0,165)\n",
    "plt.ylabel(\"std$(m)$\")\n",
    "plt.xlabel(\"$l/z_1$ [unitless]\")\n",
    "\n",
    "plt.legend()\n",
    "\n",
    "\n",
    "\n",
    "#textstr = '$R^2=0.997$'\n",
    "#props = dict(boxstyle='round', facecolor='white', edgecolor='white', alpha=0.5)\n",
    "#ax = plt.gca()\n",
    "#ax.text(0.15, 0.8, textstr, transform=ax.transAxes, fontsize=16,\n",
    "#        verticalalignment='top', bbox=props)\n",
    "\n",
    "plt.savefig('../jgr/figures/variance.pdf',bbox_inches='tight',dpi=600)"
   ]
  },
  {
   "cell_type": "code",
   "execution_count": null,
   "metadata": {
    "scrolled": true
   },
   "outputs": [],
   "source": [
    "# panel (a) \n",
    "dats = sorted([d for d in data if d['l']==a and d['flow']!='l'],key=lambda x: x['flow'])\n",
    "for d in dats:\n",
    "    t,cdf = d['rt_cdf'].T\n",
    "    t = t/3600\n",
    "    plt.loglog(t,cdf,color=d['color'],label='flow ${}$, $l={}a$'.format(d['flow'],round(d['l']/a,1)))\n",
    "plt.xlim(1e-7,1e3)\n",
    "plt.ylim(1e-6,1e2)\n",
    "plt.legend()\n",
    "#plt.xlabel('Resting time $T$ [hours]')\n",
    "plt.ylabel('Non-exceedance probability')\n",
    "\n",
    "textstr = '(a)'\n",
    "props = dict(boxstyle='round', facecolor='white', edgecolor='white', alpha=0.5)\n",
    "ax = plt.gca()\n",
    "ax.text(0.07, 0.95, textstr, transform=ax.transAxes, fontsize=30,\n",
    "        verticalalignment='top', bbox=props)\n",
    "\n",
    "plt.savefig('../jgr/figures/1.pdf',bbox_inches='tight',dpi=600)"
   ]
  },
  {
   "cell_type": "code",
   "execution_count": null,
   "metadata": {},
   "outputs": [],
   "source": [
    "# panel (b) \n",
    "dats = sorted([d for d in data if d['l']==a and d['flow']!='l'],key=lambda x:x['flow'])\n",
    "for d in dats:\n",
    "    t,cdf = d['rt_cdf'].T\n",
    "    t = t\n",
    "    E = d['E']\n",
    "    l = d['l']\n",
    "    plt.loglog(t*E/l*z1,cdf,color=d['color'],label='flow ${}$, $l={}a$'.format(d['flow'],round(d['l']/a,1)))\n",
    "plt.xlim(1e-4,1e8)\n",
    "plt.ylim(1e-6,1e2)\n",
    "plt.legend()\n",
    "#plt.xlabel('Scaled resting time $T/T_0$ [unitless]')\n",
    "#plt.ylabel('Non-exceedance probability')\n",
    "\n",
    "textstr = '(b)'\n",
    "props = dict(boxstyle='round', facecolor='white', edgecolor='white', alpha=0.5)\n",
    "ax = plt.gca()\n",
    "ax.text(0.07, 0.95, textstr, transform=ax.transAxes, fontsize=30,\n",
    "        verticalalignment='top', bbox=props)\n",
    "x = np.geomspace(5e3,1e6)\n",
    "y = 1e-2*(x/1e3)**(-1.18)\n",
    "plt.loglog(x,y,'--',color='black')\n",
    "plt.savefig('../jgr/figures/2.pdf',bbox_inches='tight',dpi=600)"
   ]
  },
  {
   "cell_type": "code",
   "execution_count": null,
   "metadata": {},
   "outputs": [],
   "source": [
    "# panel c \n",
    "incl = [1.0,2.0,5.0,10.0]\n",
    "dats = sorted([d for d in data if d['flow']=='g' and round(d['l']/a,1) in incl],key=lambda x:x['l'])\n",
    "lines = ['-','--','-.',':']\n",
    "i=0\n",
    "for d in dats:\n",
    "    t,cdf = d['rt_cdf'].T\n",
    "    t = t/3600\n",
    "    E = d['E']\n",
    "    l = d['l']\n",
    "    plt.loglog(t,cdf,linestyle=lines[i],color=d['color'],label='flow ${}$, $l={}a$'.format(d['flow'],round(d['l']/a,1)))\n",
    "    i+=1\n",
    "plt.xlim(1e-7,1e3)\n",
    "plt.ylim(1e-6,1e2)\n",
    "plt.legend()\n",
    "plt.xlabel('Resting time $T$')\n",
    "plt.ylabel('Non-exceedance probability')\n",
    "\n",
    "textstr = '(c)'\n",
    "props = dict(boxstyle='round', facecolor='white', edgecolor='white', alpha=0.5)\n",
    "ax = plt.gca()\n",
    "ax.text(0.07, 0.95, textstr, transform=ax.transAxes, fontsize=30,\n",
    "        verticalalignment='top', bbox=props)\n",
    "\n",
    "\n",
    "plt.savefig('../jgr/figures/3.pdf',bbox_inches='tight',dpi=600)"
   ]
  },
  {
   "cell_type": "code",
   "execution_count": null,
   "metadata": {
    "scrolled": true
   },
   "outputs": [],
   "source": [
    "# panel d \n",
    "incl = [1.0,2.0,5.0,10.0]\n",
    "dats = sorted([d for d in data if d['flow']=='g' and round(d['l']/a,1) in incl],key=lambda x:x['l'])\n",
    "lines = ['-','--','-.',':']\n",
    "i=0\n",
    "for d in dats:\n",
    "    t,cdf = d['rt_cdf'].T\n",
    "    t = t\n",
    "    E = d['E']\n",
    "    l = d['l']\n",
    "    plt.loglog(t*E/l*z1,cdf,linestyle=lines[i],color=d['color'],label='flow ${}$, $l={}a$'.format(d['flow'],round(d['l']/a,1)))\n",
    "    i+=1\n",
    "plt.xlim(1e-4,1e8)\n",
    "plt.ylim(1e-6,1e2)\n",
    "plt.legend()\n",
    "plt.xlabel('Scaled resting time $T/T_0$ [unitless]')\n",
    "#plt.ylabel('Non-exceedance probability')\n",
    "\n",
    "textstr = '(d)'\n",
    "props = dict(boxstyle='round', facecolor='white', edgecolor='white', alpha=0.5)\n",
    "ax = plt.gca()\n",
    "ax.text(0.07, 0.95, textstr, transform=ax.transAxes, fontsize=30,\n",
    "        verticalalignment='top', bbox=props)\n",
    "\n",
    "#ax.vlines(1e3,1e-7,1e3)\n",
    "x = np.geomspace(5e3,1e6)\n",
    "y = 1e-2*(x/1e3)**(-1.18)\n",
    "plt.loglog(x,y,'--',color='black')\n",
    "plt.text(0.85, 0.335,r'$ \\big( \\frac{T}{T_0}\\big)^{-1.18}$', horizontalalignment='center',\n",
    "     verticalalignment='center',\n",
    "     transform=ax.transAxes)\n",
    "\n",
    "\n",
    "plt.savefig('../jgr/figures/4.pdf',bbox_inches='tight',dpi=600)"
   ]
  },
  {
   "cell_type": "code",
   "execution_count": null,
   "metadata": {},
   "outputs": [],
   "source": [
    "from scipy import optimize\n",
    "from scipy.special import gamma, factorial\n",
    "def nbin(k,r,p):\n",
    "    return gamma(k+r)/gamma(r)/factorial(k)*p**r*(1-p)**k\n",
    "\n",
    "# now make the particle activity figure \n",
    "dats = sorted([x for x in data if round(x['l']/a,1)==1.0],key = lambda x: x['flow'])\n",
    "i = 0 \n",
    "for d in dats:\n",
    "    n,pn = d['n_pdf'].T\n",
    "    if i==0:\n",
    "        lam = 5.45+6.59 # sum of lambdas \n",
    "        mu = 3.74\n",
    "        alph = 4.64 + 0.77# sig + nu \n",
    "        ds = 1\n",
    "    elif i==1:\n",
    "        lam = 7.74 + 8.42\n",
    "        mu = 4.34\n",
    "        alph = 4.95 + 0.56\n",
    "        ds = 2\n",
    "    elif i==2:\n",
    "        lam = 15.56 + 22.07\n",
    "        mu = 3.56\n",
    "        alph = 4.52 + 0.68   \n",
    "        ds = 2\n",
    "    elif i==3:\n",
    "        lam = 15.52 + 14.64\n",
    "        mu = 4.32\n",
    "        alph = 4.77 + 0.48\n",
    "        ds = 3\n",
    "    elif i==4:\n",
    "        lam = 15.45 + 24.49\n",
    "        mu = 3.64\n",
    "        alph = 4.21 + 0.36\n",
    "        ds = 3\n",
    "    plt.scatter(n[::ds],pn[::ds],color=d['color'],label='flow ${}$, $l={}a$'.format(d['flow'],round(d['l']/a,1)))\n",
    "    popt, _ = optimize.curve_fit(nbin, n, pn,p0=[lam/mu,1-mu/alph])\n",
    "    \n",
    "    if i!=4:\n",
    "        plt.plot(n, nbin(n, *popt),color='grey',lw=2,zorder=-1)\n",
    "        if i==0:\n",
    "            POPT = np.copy(popt)\n",
    "    if i==4:\n",
    "        plt.plot(n, nbin(n, *popt),color='grey',lw=2,zorder=-1,label='NegBin fit')\n",
    "\n",
    "    i += 1\n",
    "plt.xlim(-2,80)\n",
    "plt.ylim(0,0.12)\n",
    "plt.xlabel('Particle activity $n$')\n",
    "plt.ylabel('Probability distribution')\n",
    "handles, labels = plt.gca().get_legend_handles_labels()\n",
    "order = [1,2,3,4,5,0]\n",
    "plt.legend([handles[idx] for idx in order],[labels[idx] for idx in order],borderpad=0.25,handlelength=1.0)\n",
    "\n",
    "textstr = '(a)'\n",
    "props = dict(boxstyle='round', facecolor='white', edgecolor='white', alpha=0.5)\n",
    "ax = plt.gca()\n",
    "ax.text(0.07, 0.95, textstr, transform=ax.transAxes, fontsize=30,\n",
    "        verticalalignment='top', bbox=props)\n",
    "\n",
    "plt.savefig('../jgr/figures/activity.pdf',bbox_inches='tight',dpi=600)"
   ]
  },
  {
   "cell_type": "code",
   "execution_count": null,
   "metadata": {
    "scrolled": false
   },
   "outputs": [],
   "source": [
    "lam = 5.45+6.59 # sum of lambdas \n",
    "mu = 3.74\n",
    "alph = 4.64 + 0.77# sig + nu \n",
    "r,p = lam/mu,1-mu/alph\n",
    "n = np.linspace(0,34,100)\n",
    "plt.plot(n,nbin(n,r,p), color='black')\n",
    "#plt.ylabel('$p(n)$',fontsize=35,rotation=0)\n",
    "#plt.xlabel('$n$')\n",
    "plt.xlim(0,36)\n",
    "plt.ylim(0,0.18)\n",
    "plt.tick_params(axis='both', which='both', bottom=False, left=False,labelleft=False)\n",
    "#plt.xticks([-0.5,31],['0','$n$'])\n",
    "ax = plt.gca()\n",
    "#ax.tick_params(axis='x', which='major', labelsize=35)\n",
    "ax.annotate('', xy=(0,0.99), xycoords='axes fraction', xytext=(0,15), \n",
    "            textcoords='offset points', ha='center',\n",
    "            arrowprops=dict(arrowstyle='<|-', shrinkA=0, shrinkB=0, \n",
    "                           facecolor='black'))\n",
    "ax.annotate('', xy=(0.99,0), xycoords='axes fraction', xytext=(15,0), \n",
    "            textcoords='offset points', ha='center',\n",
    "            arrowprops=dict(arrowstyle='<|-', shrinkA=0, shrinkB=0, \n",
    "                           facecolor='black'))\n",
    "ax.spines['right'].set_visible(False)\n",
    "ax.spines['left'].set_linewidth=8\n",
    "ax.spines['bottom'].set_linewidth=8\n",
    "#yaxis.set_label_coords(-0.1,1.02)\n",
    "\n",
    "ax.spines['top'].set_visible(False)\n",
    "ax.yaxis.set_label_coords(-0.1,0.8)\n",
    "plt.savefig('../jgr/figures/negbin.png',bbox_inches='tight',dpi=600,pad_inches=0)"
   ]
  },
  {
   "cell_type": "code",
   "execution_count": null,
   "metadata": {},
   "outputs": [],
   "source": [
    "from scipy import optimize\n",
    "\n",
    "def gaussian(x, amplitude, mean, stddev):\n",
    "    return amplitude * np.exp(-((x - mean) / 4 / stddev)**2)\n",
    "\n",
    "\n",
    "rcParams['lines.markersize']=6\n",
    "\n",
    "dats = sorted([x for x in data if round(x['l']/a,1) in [1.0,2.0,5.0] and x['flow']=='i'],key = lambda x: x['l'])\n",
    "i=0\n",
    "for d in dats:\n",
    "    m,pm = d['m_pdf'].T\n",
    "    m = m-(m*pm).sum()\n",
    "    m = z1*m/a\n",
    "    if i==0:\n",
    "        ds = 1\n",
    "        marker = '^'\n",
    "    elif i==1:\n",
    "        ds = 10\n",
    "        marker = 'o'\n",
    "    elif i==2:\n",
    "        ds = 10\n",
    "        marker = 'v'\n",
    "    plt.scatter(m[::ds],pm[::ds],color=d['color'],label='flow ${}$, $l={}a$'.format(d['flow'],round(d['l']/a,1)),marker=marker)\n",
    "    \n",
    "    mean = (m*pm).sum()\n",
    "    std = np.sqrt(((m-mean)**2*pm).sum())\n",
    "    popt, _ = optimize.curve_fit(gaussian, m, pm, p0 = [pm.max(),mean,std])\n",
    "    if i!=2:\n",
    "        plt.plot(m, gaussian(m, *popt),color='grey',lw=2,zorder=-1)\n",
    "    if i==2:\n",
    "        plt.plot(m, gaussian(m, *popt),color='grey',lw=2,zorder=-1,label='Gaussian fit')\n",
    "\n",
    "    \n",
    "    i+=1\n",
    "plt.xlim(-10,10)\n",
    "plt.ylim(0,0.03)\n",
    "plt.xlabel('Bed elevation $z_1 m$ [units of $a$]')\n",
    "#plt.ylabel('Probability distribution')\n",
    "handles, labels = plt.gca().get_legend_handles_labels()\n",
    "order = [1,2,3,0]\n",
    "plt.legend([handles[idx] for idx in order],[labels[idx] for idx in order],borderpad=0.25,handlelength=1.0)\n",
    "rcParams['lines.markersize']=5\n",
    "\n",
    "\n",
    "\n",
    "textstr = '(b)'\n",
    "props = dict(boxstyle='round', facecolor='white', edgecolor='white', alpha=0.5)\n",
    "ax = plt.gca()\n",
    "ax.text(0.07, 0.95, textstr, transform=ax.transAxes, fontsize=30,\n",
    "        verticalalignment='top', bbox=props)\n",
    "\n",
    "\n",
    "\n",
    "\n",
    "plt.savefig('../jgr/figures/ele.pdf',bbox_inches='tight',dpi=600)\n",
    "#plt.legend(borderpad=0,handlelength=1.0)"
   ]
  },
  {
   "cell_type": "code",
   "execution_count": null,
   "metadata": {
    "collapsed": true
   },
   "outputs": [],
   "source": [
    "m = np.linspace(-25,25,100)\n",
    "plt.plot(m,gaussian(m,0.05,0,2), color='black')\n",
    "#plt.ylabel('$p(m)$',fontsize=35)\n",
    "plt.xlim(-20,20)\n",
    "plt.ylim(0,0.055)\n",
    "plt.tick_params(axis=None, which='both', bottom=False, left=False,labelleft=False)\n",
    "plt.xticks(None)\n",
    "ax = plt.gca()\n",
    "ax.tick_params(axis='x', which='major', labelsize=35)\n",
    "\n",
    "ax.annotate('', xy=(0.99,0), xycoords='axes fraction', xytext=(15,0), \n",
    "            textcoords='offset points', ha='center',\n",
    "            arrowprops=dict(arrowstyle='<|-', shrinkA=0, shrinkB=0, \n",
    "                           facecolor='black'))\n",
    "ax.annotate('', xy=(0.5,0.99), xycoords='axes fraction', xytext=(0,15), \n",
    "            textcoords='offset points', ha='center',\n",
    "            arrowprops=dict(arrowstyle='<|-', shrinkA=0, shrinkB=0, \n",
    "                           facecolor='black'))\n",
    "ax.annotate('', xy=(0.01,0), xycoords='axes fraction', xytext=(-15,0), \n",
    "            textcoords='offset points', ha='center',\n",
    "            arrowprops=dict(arrowstyle='<|-', shrinkA=0, shrinkB=0, \n",
    "                           facecolor='black'))\n",
    "ax.spines['right'].set_visible(False)\n",
    "ax.spines['left'].set_visible(False)\n",
    "ax.spines['left'].set_position('center')\n",
    "\n",
    "ax.spines['left'].set_linewidth=8\n",
    "ax.spines['bottom'].set_linewidth=8\n",
    "ax.spines['top'].set_visible(False)\n",
    "ax.yaxis.set_label_coords(0.48,0.25)\n",
    "plt.savefig('../jgr/figures/gauss.png',bbox_inches='tight',dpi=600,pad_inches=0)"
   ]
  },
  {
   "cell_type": "code",
   "execution_count": 4,
   "metadata": {
    "collapsed": true
   },
   "outputs": [],
   "source": [
    "# get the real pdf\n",
    "dats = np.load('../data/flow_a-l_0.6-time_1500.0hr_CAT.npy')"
   ]
  },
  {
   "cell_type": "code",
   "execution_count": null,
   "metadata": {
    "collapsed": true
   },
   "outputs": [],
   "source": [
    "# final figure .. show series of bedload transport and bed elevation"
   ]
  },
  {
   "cell_type": "code",
   "execution_count": 5,
   "metadata": {
    "collapsed": true
   },
   "outputs": [],
   "source": [
    "n,m,t = dats.T"
   ]
  },
  {
   "cell_type": "code",
   "execution_count": null,
   "metadata": {
    "collapsed": true
   },
   "outputs": [],
   "source": [
    "mask = ( t > 500 ) & ( t < 500 + 3600*3 ) "
   ]
  },
  {
   "cell_type": "code",
   "execution_count": null,
   "metadata": {
    "collapsed": true
   },
   "outputs": [],
   "source": [
    "from matplotlib import rcParams\n",
    "rcParams['axes.labelsize'] = 20\n",
    "rcParams['xtick.labelsize'] = 12\n",
    "rcParams['ytick.labelsize'] = 12\n",
    "rcParams['legend.fontsize'] = 16\n",
    "from matplotlib import rcParams\n",
    "rcParams['font.serif'] = ['Computer Modern Roman']\n",
    "rcParams['text.usetex'] = True\n",
    "rcParams['figure.figsize'] = 12,5\n",
    "rcParams.update({'font.size': 22})\n",
    "rcParams['lines.linewidth']=1\n",
    "rcParams['lines.markersize']=5"
   ]
  },
  {
   "cell_type": "code",
   "execution_count": null,
   "metadata": {
    "scrolled": true
   },
   "outputs": [],
   "source": [
    "color = (101,73,48,192)\n",
    "color = tuple(np.array(color)/255.0)\n",
    "plt.plot((t[mask]-t[mask].min())/3600,(m[mask]-m.mean())*z1,color='black')\n",
    "#plt.xlabel('Time [hours]')\n",
    "#plt.ylabel('Bed elevation [units of $a$]')\n",
    "#plt.gcf().set_size_inches(15, 5)\n",
    "plt.xlim(-0.01,3.01)\n",
    "plt.ylim(-2.5,2.5)\n",
    "#plt.hlines(0,0,3)\n",
    "ax.spines['top'].set_visible(False)\n",
    "ax.spines['right'].set_visible(False)\n",
    "ax.spines['bottom'].set_visible(False)\n",
    "ax.spines['left'].set_visible(False)\n",
    "ax.get_xaxis().set_ticks([])\n",
    "ax.get_yaxis().set_ticks([])\n",
    "plt.tick_params(top='off', bottom='off', left='off', right='off', labelleft='off', labelbottom='off')\n",
    "for spine in plt.gca().spines.values():\n",
    "    spine.set_visible(False)\n",
    "plt.savefig('../jgr/figures/bed_ele.pdf',bbox_inches='tight',dpi=600,pad_inches=0)"
   ]
  },
  {
   "cell_type": "markdown",
   "metadata": {
    "collapsed": true
   },
   "source": [
    "# Now try to get the correlation function of m"
   ]
  },
  {
   "cell_type": "code",
   "execution_count": 8,
   "metadata": {
    "collapsed": true
   },
   "outputs": [],
   "source": [
    "import scipy\n",
    "from scipy import signal "
   ]
  },
  {
   "cell_type": "code",
   "execution_count": null,
   "metadata": {
    "collapsed": true
   },
   "outputs": [],
   "source": [
    "dats = np.load('../data/flow_a-l_0.6-time_1500.0hr_CAT.npy')\n",
    "n,m,t = dats.T"
   ]
  },
  {
   "cell_type": "code",
   "execution_count": 99,
   "metadata": {
    "collapsed": true
   },
   "outputs": [],
   "source": [
    "# take 1 hrs of data\n",
    "tt = t[t<20*3600]\n",
    "mm = m[t<20*3600]"
   ]
  },
  {
   "cell_type": "code",
   "execution_count": 100,
   "metadata": {},
   "outputs": [
    {
     "name": "stderr",
     "output_type": "stream",
     "text": [
      "/home/kpierce/anaconda3/lib/python3.6/site-packages/scipy/signal/signaltools.py:2223: FutureWarning: Using a non-tuple sequence for multidimensional indexing is deprecated; use `arr[tuple(seq)]` instead of `arr[seq]`. In the future this will be interpreted as an array index, `arr[np.array(seq)]`, which will result either in an error or a different result.\n",
      "  Y[sl] = X[sl]\n",
      "/home/kpierce/anaconda3/lib/python3.6/site-packages/scipy/signal/signaltools.py:2225: FutureWarning: Using a non-tuple sequence for multidimensional indexing is deprecated; use `arr[tuple(seq)]` instead of `arr[seq]`. In the future this will be interpreted as an array index, `arr[np.array(seq)]`, which will result either in an error or a different result.\n",
      "  Y[sl] = X[sl]\n"
     ]
    }
   ],
   "source": [
    "N = tt.size//1000\n",
    "ttt=np.linspace(tt.min(),tt.max(),N)\n",
    "mrs = scipy.signal.resample(mm,N)\n",
    "mrs = mrs -mrs.mean()"
   ]
  },
  {
   "cell_type": "code",
   "execution_count": 52,
   "metadata": {},
   "outputs": [
    {
     "data": {
      "text/plain": [
       "[<matplotlib.lines.Line2D at 0x7f5535562518>]"
      ]
     },
     "execution_count": 52,
     "metadata": {},
     "output_type": "execute_result"
    },
    {
     "data": {
      "image/png": "[encoded data removed]",
      "text/plain": [
       "<Figure size 432x288 with 1 Axes>"
      ]
     },
     "metadata": {},
     "output_type": "display_data"
    }
   ],
   "source": [
    "plt.scatter(ttt,mrs)\n",
    "plt.plot(tt,mm-mm.mean(),color='black',zorder=-1)"
   ]
  },
  {
   "cell_type": "code",
   "execution_count": 53,
   "metadata": {},
   "outputs": [],
   "source": [
    "def autocorr(x):\n",
    "    result = np.correlate(x, x, mode='full')\n",
    "    return result[result.size//2:]/result.max()\n",
    "c = autocorr(mrs)\n",
    "tc = np.linspace(0,(ttt[1]-ttt[0])*c.size,c.size)"
   ]
  },
  {
   "cell_type": "code",
   "execution_count": 89,
   "metadata": {},
   "outputs": [],
   "source": [
    "param = np.polyfit(tc[tc<300], np.log(c[tc<300]), 1)"
   ]
  },
  {
   "cell_type": "code",
   "execution_count": 92,
   "metadata": {},
   "outputs": [
    {
     "data": {
      "text/plain": [
       "array([9.89517183e-01, 4.84963012e-01, 2.37680687e-01, 1.16487458e-01,\n",
       "       5.70905788e-02, 2.79801297e-02, 1.37130797e-02, 6.72078923e-03,\n",
       "       3.29386316e-03, 1.61432447e-03, 7.91181467e-04, 3.87758549e-04,\n",
       "       1.90040716e-04, 9.31390781e-05, 4.56475225e-05, 2.23718803e-05,\n",
       "       1.09644730e-05, 5.37369534e-06, 2.63365157e-06, 1.29075434e-06,\n",
       "       6.32599538e-07, 3.10037443e-07, 1.51949552e-07, 7.44705738e-08,\n",
       "       3.64980764e-08, 1.78877309e-08, 8.76678851e-09, 4.29660873e-09,\n",
       "       2.10577072e-09, 1.03203959e-09, 5.05803273e-10, 2.47894512e-10,\n",
       "       1.21493261e-10, 5.95439258e-11, 2.91825166e-11, 1.43023703e-11,\n",
       "       7.00960095e-12, 3.43540997e-12, 1.68369665e-12, 8.25180819e-13,\n",
       "       4.04421654e-13, 1.98207314e-13, 9.71415332e-14, 4.76091283e-14,\n",
       "       2.33332646e-14, 1.14356481e-14, 5.60461855e-15, 2.74682718e-15,\n",
       "       1.34622178e-15, 6.59784167e-16, 3.23360648e-16, 1.58479263e-16,\n",
       "       7.76707894e-17, 3.80665042e-17, 1.86564184e-17, 9.14352272e-18,\n",
       "       4.48124641e-18, 2.19626177e-18, 1.07638931e-18, 5.27539100e-19,\n",
       "       2.58547255e-19, 1.26714177e-19, 6.21027003e-20, 3.04365736e-20,\n",
       "       1.49169844e-20, 7.31082374e-21, 3.58303945e-21, 1.75604996e-21,\n",
       "       8.60641221e-22, 4.21800820e-22, 2.06724855e-22, 1.01315985e-22,\n",
       "       4.96550301e-23, 2.43359624e-23, 1.19270709e-23, 5.84546519e-24,\n",
       "       2.86486628e-24, 1.40407282e-24, 6.88136997e-25, 3.37256388e-25,\n",
       "       1.65289574e-25, 8.10085274e-26, 3.97023318e-26, 1.94581385e-26,\n",
       "       9.53644629e-27, 4.67381851e-27, 2.29064148e-27, 1.12264487e-27,\n",
       "       5.50208979e-28, 2.69657777e-28, 1.32159451e-28, 6.47714326e-29,\n",
       "       3.17445211e-29, 1.55580103e-29, 7.62499095e-30, 3.73701300e-30,\n",
       "       1.83151249e-30, 8.97625459e-31, 4.39926819e-31, 2.15608419e-31])"
      ]
     },
     "execution_count": 92,
     "metadata": {},
     "output_type": "execute_result"
    }
   ],
   "source": [
    "np.exp(np.dot(param,np.array([1,-tf])))"
   ]
  },
  {
   "cell_type": "code",
   "execution_count": 96,
   "metadata": {},
   "outputs": [
    {
     "data": {
      "text/plain": [
       "[<matplotlib.lines.Line2D at 0x7f5535317160>]"
      ]
     },
     "execution_count": 96,
     "metadata": {},
     "output_type": "execute_result"
    },
    {
     "data": {
      "image/png": "[encoded data removed]",
      "text/plain": [
       "<Figure size 432x288 with 1 Axes>"
      ]
     },
     "metadata": {},
     "output_type": "display_data"
    }
   ],
   "source": [
    "plt.loglog(tc/3600,c)\n",
    "#plt.xlim(0,600/3600)\n",
    "#plt.ylim(0,1)"
   ]
  },
  {
   "cell_type": "code",
   "execution_count": null,
   "metadata": {
    "collapsed": true
   },
   "outputs": [],
   "source": [
    "plt.plot(result,'x')"
   ]
  },
  {
   "cell_type": "code",
   "execution_count": null,
   "metadata": {},
   "outputs": [],
   "source": [
    "plt.loglog(T*E*z1/l,C,'x')"
   ]
  },
  {
   "cell_type": "code",
   "execution_count": null,
   "metadata": {},
   "outputs": [],
   "source": [
    "alphas = []\n",
    "sigmas = []\n",
    "for number in range(len(data)):\n",
    "    T,C = data[number]['rt_cdf'].T\n",
    "    E = data[number]['E']\n",
    "    l = d['l']\n",
    "    T = T*E*z1/l\n",
    "    pdf = np.diff(1.0-C)[(T>1e3)[1:]]\n",
    "    T = T[T>1e3]\n",
    "    plt.loglog(T,pdf,'x',color='purple')\n",
    "    n = len(pdf)\n",
    "    alpha = 1+n/np.log(TT/1e3).sum()\n",
    "    sig = (alpha+1)/np.sqrt(n)\n",
    "    print(r'alpha is ${} \\pm {}$'.format(round(alpha,3),round(sig,3)))\n",
    "    alphas.append(alpha)\n",
    "    sigmas.append(sig)\n",
    "    plt.show()"
   ]
  },
  {
   "cell_type": "code",
   "execution_count": null,
   "metadata": {
    "scrolled": true
   },
   "outputs": [],
   "source": [
    "# using the method explained in newman2005 gives a mean value of alpha\n",
    "np.mean(alphas)"
   ]
  },
  {
   "cell_type": "code",
   "execution_count": null,
   "metadata": {},
   "outputs": [],
   "source": [
    "np.mean(sigmas)"
   ]
  },
  {
   "cell_type": "code",
   "execution_count": null,
   "metadata": {
    "collapsed": true
   },
   "outputs": [],
   "source": []
  }
 ],
 "metadata": {
  "kernelspec": {
   "display_name": "Python [conda env:anaconda3]",
   "language": "python",
   "name": "conda-env-anaconda3-py"
  },
  "language_info": {
   "codemirror_mode": {
    "name": "ipython",
    "version": 3
   },
   "file_extension": ".py",
   "mimetype": "text/x-python",
   "name": "python",
   "nbconvert_exporter": "python",
   "pygments_lexer": "ipython3",
   "version": "3.6.7"
  }
 },
 "nbformat": 4,
 "nbformat_minor": 2
}
