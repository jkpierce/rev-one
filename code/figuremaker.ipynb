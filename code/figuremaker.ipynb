{
 "cells": [
  {
   "cell_type": "code",
   "execution_count": 1,
   "metadata": {},
   "outputs": [],
   "source": [
    "import numpy as np\n",
    "import matplotlib.pyplot as plt\n",
    "import os\n",
    "%matplotlib inline"
   ]
  },
  {
   "cell_type": "markdown",
   "metadata": {},
   "source": [
    "# first load in the data and process the moments and statistics of interest"
   ]
  },
  {
   "cell_type": "code",
<<<<<<< HEAD
   "execution_count": 53,
   "metadata": {
    "collapsed": true
   },
   "outputs": [],
=======
   "execution_count": 2,
   "metadata": {},
   "outputs": [
    {
     "ename": "FileNotFoundError",
     "evalue": "[Errno 2] No such file or directory: '/home/kpierce/Desktop/reverting-onecell/data/'",
     "output_type": "error",
     "traceback": [
      "\u001b[0;31m---------------------------------------------------------------------------\u001b[0m",
      "\u001b[0;31mFileNotFoundError\u001b[0m                         Traceback (most recent call last)",
      "\u001b[0;32m<ipython-input-2-8f5c71ceea80>\u001b[0m in \u001b[0;36m<module>\u001b[0;34m()\u001b[0m\n\u001b[1;32m      1\u001b[0m \u001b[0mpath\u001b[0m \u001b[0;34m=\u001b[0m \u001b[0;34m'/home/kpierce/Desktop/reverting-onecell/data/'\u001b[0m\u001b[0;34m\u001b[0m\u001b[0m\n\u001b[0;32m----> 2\u001b[0;31m \u001b[0mfiles\u001b[0m \u001b[0;34m=\u001b[0m \u001b[0;34m[\u001b[0m\u001b[0mf\u001b[0m \u001b[0;32mfor\u001b[0m \u001b[0mf\u001b[0m \u001b[0;32min\u001b[0m \u001b[0mos\u001b[0m\u001b[0;34m.\u001b[0m\u001b[0mlistdir\u001b[0m\u001b[0;34m(\u001b[0m\u001b[0mpath\u001b[0m\u001b[0;34m)\u001b[0m \u001b[0;32mif\u001b[0m \u001b[0mf\u001b[0m\u001b[0;34m.\u001b[0m\u001b[0mendswith\u001b[0m\u001b[0;34m(\u001b[0m\u001b[0;34m'.npy'\u001b[0m\u001b[0;34m)\u001b[0m \u001b[0;32mand\u001b[0m \u001b[0;34m'analysis'\u001b[0m \u001b[0;32min\u001b[0m \u001b[0mf\u001b[0m\u001b[0;34m]\u001b[0m\u001b[0;34m\u001b[0m\u001b[0m\n\u001b[0m\u001b[1;32m      3\u001b[0m \u001b[0mdata\u001b[0m \u001b[0;34m=\u001b[0m \u001b[0;34m[\u001b[0m\u001b[0mnp\u001b[0m\u001b[0;34m.\u001b[0m\u001b[0mload\u001b[0m\u001b[0;34m(\u001b[0m\u001b[0mpath\u001b[0m\u001b[0;34m+\u001b[0m\u001b[0mf\u001b[0m\u001b[0;34m,\u001b[0m\u001b[0mallow_pickle\u001b[0m\u001b[0;34m=\u001b[0m\u001b[0;32mTrue\u001b[0m\u001b[0;34m)\u001b[0m\u001b[0;34m.\u001b[0m\u001b[0mitem\u001b[0m\u001b[0;34m(\u001b[0m\u001b[0;34m)\u001b[0m \u001b[0;32mfor\u001b[0m \u001b[0mf\u001b[0m \u001b[0;32min\u001b[0m \u001b[0mfiles\u001b[0m\u001b[0;34m]\u001b[0m\u001b[0;34m\u001b[0m\u001b[0m\n\u001b[1;32m      4\u001b[0m \u001b[0;32mfor\u001b[0m \u001b[0md\u001b[0m \u001b[0;32min\u001b[0m \u001b[0mdata\u001b[0m\u001b[0;34m:\u001b[0m \u001b[0;31m# add in a flow attribute\u001b[0m\u001b[0;34m\u001b[0m\u001b[0m\n\u001b[1;32m      5\u001b[0m     \u001b[0md\u001b[0m\u001b[0;34m[\u001b[0m\u001b[0;34m'flow'\u001b[0m\u001b[0;34m]\u001b[0m \u001b[0;34m=\u001b[0m \u001b[0md\u001b[0m\u001b[0;34m[\u001b[0m\u001b[0;34m'filename'\u001b[0m\u001b[0;34m]\u001b[0m\u001b[0;34m.\u001b[0m\u001b[0msplit\u001b[0m\u001b[0;34m(\u001b[0m\u001b[0;34m'/'\u001b[0m\u001b[0;34m)\u001b[0m\u001b[0;34m[\u001b[0m\u001b[0;34m-\u001b[0m\u001b[0;36m1\u001b[0m\u001b[0;34m]\u001b[0m\u001b[0;34m.\u001b[0m\u001b[0msplit\u001b[0m\u001b[0;34m(\u001b[0m\u001b[0;34m'-'\u001b[0m\u001b[0;34m)\u001b[0m\u001b[0;34m[\u001b[0m\u001b[0;36m0\u001b[0m\u001b[0;34m]\u001b[0m\u001b[0;34m.\u001b[0m\u001b[0msplit\u001b[0m\u001b[0;34m(\u001b[0m\u001b[0;34m'_'\u001b[0m\u001b[0;34m)\u001b[0m\u001b[0;34m[\u001b[0m\u001b[0;36m1\u001b[0m\u001b[0;34m]\u001b[0m\u001b[0;34m\u001b[0m\u001b[0m\n",
      "\u001b[0;31mFileNotFoundError\u001b[0m: [Errno 2] No such file or directory: '/home/kpierce/Desktop/reverting-onecell/data/'"
     ]
    }
   ],
>>>>>>> df9cb5e0d9492bcf7534c092c6904527ea982b1b
   "source": [
    "# data loading\n",
    "path = '/home/kpierce/Desktop/reverting-onecell/data/'\n",
    "files = [f for f in os.listdir(path) if f.endswith('.npy') and 'analysis' in f]\n",
    "data = [np.load(path+f,allow_pickle=True).item() for f in files]\n",
    "for d in data: # add in a flow attribute\n",
    "    d['flow'] = d['filename'].split('/')[-1].split('-')[0].split('_')[1]\n",
    "# colors for plotting\n",
    "colors = {'a':'red','g':'magenta', 'i':'green','l':'orange','n':'blue'}\n",
    "for d in data:\n",
    "    d['color']= colors[d['flow']]\n",
    "a = 0.3 # particle radius \n",
    "dx = 22.5 # control volume cell size \n",
    "phi = 0.6 # packing fraction \n",
    "n0 = 21 #initial number of moving particles \n",
    "m0 = 50000 # initial number of stationary particles \n",
    "z1 = np.pi*a**2/(phi*dx) # relevant length scale of bed elevations\n",
    "\n",
    "# compute means and variances\n",
    "for d in data:\n",
    "    # append into the data arrays the computed moments of n and m\n",
    "    # first do m moments\n",
    "    m,pm = d['m_pdf'].T\n",
    "    mean = (m*pm).sum()\n",
    "    var = ((m-mean)**2*pm).sum()\n",
    "    d['m_stats'] = {'m_mean':mean,'m_var':var}\n",
    "    \n",
    "    # then do n moments\n",
    "    n,pn = d['n_pdf'].T\n",
    "    mean = (n*pn).sum()\n",
    "    var = ((n-mean)**2*pn).sum()\n",
    "    d['n_stats'] = {'n_mean':mean,'n_var':var}"
   ]
  },
  {
   "cell_type": "markdown",
   "metadata": {},
   "source": [
    "# now make the publication figures of moments and distributions"
   ]
  },
  {
   "cell_type": "code",
   "execution_count": 54,
   "metadata": {},
   "outputs": [],
   "source": [
    "from matplotlib import rcParams\n",
    "rcParams['axes.labelsize'] = 20\n",
    "rcParams['xtick.labelsize'] = 12\n",
    "rcParams['ytick.labelsize'] = 12\n",
    "rcParams['legend.fontsize'] = 16\n",
    "from matplotlib import rcParams\n",
    "rcParams['font.serif'] = ['Computer Modern Roman']\n",
    "rcParams['text.usetex'] = True\n",
    "rcParams['figure.figsize'] = 6,5\n",
    "rcParams.update({'font.size': 22})\n",
    "rcParams['lines.linewidth']=3\n",
    "rcParams['lines.markersize']=5"
   ]
  },
  {
   "cell_type": "code",
   "execution_count": 58,
   "metadata": {
    "scrolled": true
   },
   "outputs": [
    {
     "data": {
      "text/plain": [
       "<matplotlib.legend.Legend at 0x7f4808787630>"
      ]
     },
     "execution_count": 58,
     "metadata": {},
     "output_type": "execute_result"
    },
    {
     "data": {
      "image/png": "iVBORw0KGgoAAAANSUhEUgAAAY0AAAFHCAYAAABd1BADAAAABHNCSVQICAgIfAhkiAAAAAlwSFlz\nAAALEgAACxIB0t1+/AAAADh0RVh0U29mdHdhcmUAbWF0cGxvdGxpYiB2ZXJzaW9uMy4xLjAsIGh0\ndHA6Ly9tYXRwbG90bGliLm9yZy+17YcXAAAgAElEQVR4nO3deXxTZdr4/8/djbJ1YxURMKjoDOAY\nAoI4LtiiOPMTkLKIPI+iUHRcRmcExNHB8ati0edRdFxa1BlXBlooyDgPSFFwQ7YqLjDqUEARlUIJ\nUErpdv/+OCch6UbapjknzfV+vfqC3Oec5GrS5Mq9K601QgghRCCirA5ACCFE+JCkIYQQImCSNIQQ\nQgRMkoYQQoiASdIQQggRsBirA2hpnTt31n369LE6DCGEsL2vv/6akpISgANa6y51ndPqk0afPn3Y\nsmWL1WEIIYTtbdiwgcsuu4zy8vI99Z0jzVNCCCEAGDZsGNnZ2Q2eI0lDCCEiUGlpKZ999lmt8htu\nuKHB6yRpCCFEhNmzZw8XX3wxI0aMYOfOnY261vKkoZRyKqUyapQlKaUylFKpvseUUulmWbpSyhn6\naIUQIry9//77uFwuPv30Uw4dOsTo0aM5ceJEwNdbmjSUUqnAHCCpxqEcrXW21jofSDPPdQBpWut8\nrXWueZ0QQogAaK15/vnnueKKKzhw4AAAsbGx3HnnnbRp0ybg+7F09JTWOt9MBt6kYSYSt885483/\n+pWb5zq11gWhiFUIIcJVeXk5d9xxh18nd9euXVm6dCkXX3xxo+7LjkNuHeBNHkkAZs0iCTjoc16x\neW6zk8bhw4c5cOAA5eXlzb0rISJKXFwcnTt3JjEx0epQRD1+/vlnxo0bx0cffeQtczqdLF++nDPO\nOKPR92fHpOFJFPkASqk1SqlGJQazHyQDoFevXg2eW1ZWxs8//0zPnj1p27YtSqmmRS1EhNFac/z4\ncfbu3UubNm2Ij4+3OiRRw9atWxkzZgx79+71lk2ePJkXX3yRtm3bNuk+Le8Ir0Oh+ePhBpzUaJoC\nUmqc52X2h7i01q4uXeqc1OhVVFREly5daNeunSQMIRpBKUW7du3o3LkzRUVFVocjavCMkPIkDKUU\nmZmZvP76601OGGDPpJGP2URl8jRBLQH6+pQnBaM/o6ysjA4dOjT3boSIWB07dqSsrMzqMEQNvXv3\n5tZbbwUgMTGRf/3rX8yaNavZX44tbZ4y+y3SgCSlVIE5MsqtlFrsM9R2nta60Dw/x7wGIDMYMVRW\nVhITY8dWOiHCQ0xMDJWVlVaHIeowf/58jh8/zt13380555wTlPu0fPQURs2iZnluA+cHnTRLCdF0\n8v6xh3//+9/06NGDhIQEb1lMTAzPP/98UB/Hjs1TQthadnY22dnZzJgxg8LCOrvVhAiplStXMmTI\nEKZMmUJ1dXWLPpYkDSEaoaCgAJfLRUZGBuPHj2f8+PGnvkiIFqK15pFHHmH06NEcPXqUlStX8tBD\nD7XoY0rSEKIRCgsLycrKAsDlcklNQ5zaiRNQVARaB/VuS0pKmDBhAvfffz/avO8+ffowduzYoD5O\nTZI0WiG3282MGTPC4vEHDRrkN0u1b9++zJ49u6VCa1B+fj5paWkopZg9ezbz589nxowZjB8/ntxc\no5stPT2dzMxM7/mpqakN3WVQzJ8/n9zcXG+zWCDnZ2dne/9tzHFpcgsireEvf4GUFOjZE84+Gz79\nNCh3vWvXLoYPH+79uwS47LLL2Lx5M+eff35QHqNeWutW/TNo0CDdkO3btzd4PNzs3LlTp6am6tTU\n1LB4fKfTqbOysry316xZo3fu3NlS4Z1SVlaWdjqdtcqTkpJ0Tk6OX1l6ero+dOhQi8Yza9Ysv8et\nebumjIwMv+Pp6el6zZo1AR93OBwaqPXj+xrVpbW9j4IiJ0fr9u21NtKH8ZOSovWJE82623fffVd3\n6tTJ7/W5/fbbdXl5eZAC1xrYouv5TLX8Q72lfyIpacyaNUs7nU7tcDgC/tDOysoKWoJpyuPXTBpW\nS09P17NmzapV7nA4/MozMzNbPGFobSQrX2vWrKn3uT106JA2vgeelJOT4z3/VMe1NpLK1q1b9c6d\nO70/dT0fNbWm91HQXDnSP2GA1u3jtX733SbdXXV1tX7mmWd0dHS0N1nExsbqhQsXBjnwhpOGNE/V\n48EHH0QpFdBPRkZGreszMjICvv7BBx+sdf3WrVsbHXNmZiZbt24NSZOJHR8/GDxNVL4KCwspLCxk\n4sSJAOTm5pKRkUFSUhL5+S0yChwwOt1rSklJqfcx69rW2OFweMtPddztdjN79mycTicOhwOHw0F+\nfj5z5siC0k3zU+2iqjKIqWjSvT377LPccccdVFVVAdCtWzfWrVvHtGnTmhNko0nSiGDjx49nxowZ\n5Ofnk5ycTN++Jyfce/olPOWh6meo2ccxaNAg5s+fT1paGsnJyQwaNMivzd3tdjN+/HhvnL7Xzp8/\n3+93OpXCwkLcbrdf0vN8kG7duhWn00lBQQHTp09n0KBBJCcne/s3WkJxcTEpKSl+ZUlJSd64aqp5\nrofn3FMdT0pKwuE4uRhDQUEBDofD+5iikUZFQ5zP7WggRYGjaUNir7/+es4++2zAGISxZcsWLrro\noubH2UgyFTqC5eTkkJ2dTU5ODmvWrPE7dsUVV5CamsqhQ4eAkwnGM3IolObNm8euXbtISkpi0KBB\nzJ49m5ycHG+cc+bMIScnB7fb7Y3b4XCQkZHRqFpPfn4+DofD27m4ePFiUlJSvI8FxuqgnuckEIEO\nCMjMzKz14ex2uykuLvYr83zwFxcX1zrf6XR6r/Mc861FnOp4zfvLysqy5PVuNYYPh99/Dv+ogkPA\nAODGNtAx8C8yvpKTk1mxYgVPP/00Tz75pGULRErSqMeDDz5YZ7NRoAId6VKfQYMGNfna5srPz8ft\ndvt9i164cKH3m3Wov3lOmDDB+5gTJ070Jrj8/HwKCgqYPXu2X00oPz/f23zk+aAMxJo1a0hPTyc9\nPR0wRkp5aj51NUEGojkfunU9z54kUl+tISsri+zsbGbNmgX41yICOe6Rn5/fqFqaqMN5M2HIG+A8\nBtXlEN0eel4DCWcHdPlnn33Gr371K/+7PO+8oM/wbixpnooQnuYdz09DbfGeZglfvt9MG3NfwVDz\nw8vzwVlYWEhqaio7d+70+2nqB3xd/RkOh6NJ/UvBkJKSUqsZqr4PeY+MjAycTie5ubnk5uZ6+yYC\nPe6RlZVVZ7lohPa94LIv4cRMODIRkl6Eoa+d8rLKykr++Mc/csEFF7B48eIQBNo4UtOIEDWbnxri\n2znq4fmwcrlcjbqvllRXnE1VV38GGAm0OXNemtM85XQ6a5UVFxefssnN93jNWlggx8Ho7JcO8GYq\nAi7oAYcehlKgHXAr8ET9lxQXFzNx4kTvF7GpU6dy7rnntvzci0aQpBHhUlJSvB3LBQUFOJ1O0tPT\nmT17trcPw9PZnJ6ebqtOUU/fxfjx4739Dp5vz06nE7fbTWFhYUBNVPn5+XWeV1hY6P2dPc9PYzS3\nTyAjI4Pc3Fxvk9maNWv8ElFhYSEFBQXe48nJyaxdu9b7++fn5/s1M57qOJy6NiMC9D+ws2InT1z+\nBP9J+Q/X7riWac9PI/b3sVDHhnlfffUV11xzjd9Aj5EjR9quxifNU63I/PnzSU5OJjs72zsi6lSj\nnjzfOj3nej4wtm7dSnFxMcnJyZx55pk4nU6/DuFgPX5zrV271ht/cnIyixcv9r7JsrOzT7k2lNvt\nZv78+d7fvWY/VGZmJjt37vSbeRtKmZmZFBYWkpub6x0N5kkQYCQ738S0cOFCCgsLyc7OZt68ed7n\nJ9DjHg6Ho95+ExGY/2z7DxfcfAELnQvJ75vPPSPvYWz6WPiq9rnLly9n6NChfgnjz3/+M8uWLaNj\nx44hjPrUlDGPo/VyuVy6oSaMHTt2cN5554UwIiFaH3kf1TZj7gxe0i9RFV3lLWtb0Zat123lvF8a\nz1V1dTUPP/wwc+fO9Z7Tvn17XnnlFcaNGxfymD2UUlu11q66jknzlBBCtIBve31L1d4qv7LYmFi+\na/Md53EeJSUl3HDDDSxbtsx7/Mwzz2TFihUMGDAg1OEGTJqnhBCiBYzpP4a2Mf57cVfEVjC051C0\n1owaNcovYYwYMYLNmzfbOmGAJA0hhGgRt7hu4de9f0272HYktEmgbUxbXh79MonxiSiluPfee727\nHt51112sXr2aTp06WRz1qUnzlBBCtIC46DhWT1nNl/u/5PvD3zPsjGEkxZ8ckfab3/yGxx9/nJSU\nFKZOnWphpI0jSQNjpV/Z51iIpmntg2maq3/X/pyVcBbff/89SWf7D2P+4x//aFFUTRfxzVOxsbEc\nP37c6jCECFvHjx8nNjbW6jBsa9++fVx++eWMGDGCn3/+2epwmi3ik0bXrl354YcfKC0tlW9MQjSC\n1prS0lJ++OEHunbtanU4trRx40ZcLheffPIJe/fuZdy4cVRUNG1pdLuI+OaphIQEwPg2EO4vphCh\nFhsbS7du3bzvI3HS3//+d2bMmEF5eTkA0dHRjB8/npiY8P7YDe/ogyQhIUH+6IUQQVFZWck999zD\nggULvGXJycksWbIkrDco87A8aSilnIBLa11rHXGlVDrg1lrn+94GkoBCrXXtrc2EEMIiBw8eZMKE\nCbz77rvesv79+7N8+fJWs9S8pX0aSqlUYA5GEqh5LAmY6DmmlHIAaVrrfK11rnmdEELYwhdffMHg\nwYP9EsbYsWPZsGFDq0kYYHHSMGsQ9a2z7QI2+9xOxahleJm1FCGEsNQ333zDsGHD2LVrl7fswQcf\nJDc3lw4dOlgYWfDZcvSUUirV0yTlIwk46HO7GLDXmsFCiIh09tlnM2bMGAA6dOhAXl4ec+fOZfXq\nKAYOhM6dYfJk2L/f4kCDwPI+jZrMZqjCU57Y8H1kABkAvXr1CkZYQghRL6UUCxcupLy8nD//+c/0\n79+fjz+G9HQoLTXOycmBggLYsQPCeS6xHWsaTsBpdnoPBgabicRd47wU6kkuWutsrbVLa+3q0qVL\ny0YrhIg4u3fv5sSJE35lbdu2ZcmSJfTv3x+Ap546mTAAKivhhx9g06ZQRhp8tksaWutczw9GUtis\ntS4ElgC+vUlJMnpKCBFqa9aswel0cttttzU4IbikpHZZVJR/IglHdhg9lQakmf/3PebE6PyeqJRy\naK3dQI5SKtU8N7P2PQohRD20hqKP4PtlcKK4CZdrnnzySa666ioOHTrESy+9xLPPPlvv+TfdBO3b\n+5fFxMDw4Y1+aFuxtE/D7Oyu2eHtOVYADKrjfCGEaJyKI/CH/vD6XjimYUAUZGWD6+aALi8rK2PG\njBm8+uqr3rIePXpw4YUX1nvNuHHw5Zfw+ONG01TPnpCbC3Fxzf5tLBXx270KISLA/4yDOXlQYX7e\nKQU9gZ1HIbZ9g5f+8MMPjB07ls2bT84AGDZsGEuXLuW000475UOfOAFHjhgjqMKlA7yh7V5t16ch\nhBBB9/z6kwkDjKaqH2Jh41sNXrZhwwZcLpdfwrj55pt57733AkoYAG3aQJcu4ZMwTkWShhCi1dNF\ntT/gdXUsHO5e7zUvv/wyl112GT/99BNgLDj49NNPs3DhQtq0adNisdqdJA0hRKt3JH4G0M6nJJpq\nulGZfHGd5y9YsICbb77Zu0Jtp06dWLNmDXfccUfEb9gmSUMI0eotHhRLhboX6IjxsTeM47Fvsa3b\n53Wen56eTvfuRi1k4MCBbN68mcsvvzxk8dqZJA0hRKu3Kn01W3ukcTRmL4fjijgWu4r/nvgAnTp1\nqvP8008/nWXLljF58mQ++ugjzjzzzBBHbF+2W0ZECCGCbWbaTK7YdwXnfXce3Y51Y4tjC4PPG0yf\npD4A7Ny5s9ZKtMOGDWPYsGEWRGtvUtMQQrR6w84YRv4N+XS9tCt7L97L70f+nqUTllJdXc0DDzxA\nv379yM+XaWCBkHkaQoiIdOTIEaZMmcLKlSsBY3e9zZs3t6q9L5qqoXka0jwlhIg43377LaNHj2bH\njh3esiFDhpCSkmJhVOFBmqeEEBFl1apVDBkyxC9hzJw5k7fffpvk5GQLIwsPkjSEEBFBa83jjz/O\nb37zG9xuY6eF+Ph4Xn/9debPn090dLTFEYYHaZ4SQrR6x48fZ9q0abz55pvesp49e5KXl4fLVWfT\nvaiHJA0hRKtWXV3NyJEj+fDDD71lF110EUuXLvVO4BOBk+YpIUSrFhUVxfTp0723p0+fzrvvvisJ\no4mkpiGEaPX++7//m6+++oo+ffpwyy23RPz6Uc0hSUMI0apUVFRQVFREjx49/MozM2Wzz2CQ5ikh\nRKtRVFREWloaqampHDlyxOpwWiVJGkKI0PvpJ8jMhFmzYOPGoNzlZ599hsvlYv369ezYsYMpU6ZQ\nXV3tPZ6dDT16QNu2MHo0/PxzUB424kjSEEKE1vbt0K8fzJ0LTzwBI0bAU0816y4XL17MRRddxHff\nfQeAUophw4Z5+y7y8uDuu+HHH6GsDP71L0hLMzbwE40jSUMIEVr33gtHj0LbE9BdQ2kp3HcfHDvW\n6LuqqqrivvvuY9KkSRw/fhyAhIQE3nrrLebMmeNNGk8+aTyMR2Ul7NwJPpPCRYCkI1wIEVrbt8Hd\nGgYA1UAJ8Fdg716jBhKgw4cPc/311/P22297y8455xxWrFjBueee63duZWXt65Wqu1w0TGoaQojQ\n+q+ORsKIA+KBFOD2MujdO+C7+Prrr7nwwgv9EsaoUaPYuHFjrYQBcNtt0L79ydtRUXDaaTBgQJN/\ni4hledJQSjmVUhk1ytLNn0ylVHqN8lTzX2fooxVCNNuAEiNheEQBnWOh4oeALt++fTsXXnghX3/9\ntbds9uzZrFy5kqSkpDqvmTwZ/vQn6NjRSBjDhkF+vlHbEI1jadJQSqUCc4AknzIn4NZa52qtZwML\nlVJJSikHkKa1ztda55rXCSHCTbuutcuiFMQmBnR5v379vDvqtW3bljfffJPHHnuswQUHlYI5c+Dw\nYaMj/MMPG1WxET4s7dPQWuebycD364EDGAx4ttEqNstcgNv3eqWUU2tdEIpYhRBBMmAupc9ksXzr\nIA5RyW+6HaXPzUUQ3zmgy6Ojo3nzzTcZP3488+fPx+kMvNFBKYiNbWrgAmzYEW7WInIBlFJJQIrW\nusCslRz0OdWTTCRpCBFGvts4gMHVGykd/B5Vqop7lOblN17kusvrPv/HH3+ka9eufjWJ5ORk2Z7V\nIpb3aZxCJjDI6iCEEMFz76p7Odj2ICVtSjged5yy2DJmdL2VEz+fqHXuBx98wPnnn8/9999vQaSi\nLrZNGmYHeJbWutAsctc4JQUopA5KqQyl1Bal1JaioqKWDFMI0UgfJ35MVVSVX5lWmt0/7PYre+GF\nFxgxYgRFRUU89thjLFq0KIRRivrYMmmYTVEFZrOUpxN8CeC743tSff0ZWutsrbVLa+3q0qVLKEIW\nQgRoYLuBqGr/YUvVUdX0/GVPAMrLy7nlllu49dZbqTQnUnTp0oWePXuGPFZRm6V9GmZySAOSlFIF\nZse4E8gC3OZsTofWOtk8P8e8BoymKyFEmMmcnsn67PWcqDxBeVQ58dXxPOp6lPZt2rN//37GjRvn\nt2GS0+kkLy+PXr16WRi18FC6lS++4nK59JYtW6wOQwjh4+eSn3n1w1c5eOQg4y4ax+CegykoKGDM\nmDF8//333vMmT57MwoULadeunYXRRh6l1FatdZ374Npu9JQQovXr1qEbM6+a6b29aNEibrrpJsrK\nygBjwcHMzEzuuece2TDJZiRpCCEstWDBAu666y7v7cTERBYtWsSoUaMsjErUx5Yd4UKIyHHVVVeR\nmGjMBu/Xrx8bN26UhGFjkjSEEJbq168fixYt4pprrmHjxo30a8RKtyL0pCNcCBFSP/30E927d69V\nrrWW/gubaKgjXGoaQoiQ0Frz6KOP0rdvX+r6IicJIzxIR7gQosUdO3aMm266iSVLlgAwZsxY/va3\nT4mO7sxFF0F8vMUBioBJ0hBCtKjdu3czZswYtm3bZpYkcPjwGsaMSSEmxlh59u23YfhwS8MUAZLm\nKSFEi1m/fj2DBw/2SRgwYMAKysv7UVoaxZEjxh4X48ZBVVUDdyRsQ5KGECLotNY899xzpKamcuDA\nAQBiY2NZuHAhJSWXUV7u339RUgKFdS4/KuxGkoYQIqjKy8uZMWMGt912m3fBwW7duvHee+8xbdo0\nzjij9jWVlSBri4YHSRpCRDqtoaDA2AO1oqJZd1VVVUVaWhoLFy70lg0aNIjNmzcz3Oy0ePhhaNfu\n5P7c7dvDtGlQz/bewmYkaQgRyQ4cgIED4dJL4Te/gdNPB5/+h8aKjo7mmmuu8d6eMmUKH3zwAWf4\nVC9+/WtYvx4mTIDUVHjuOXj66Wb9FiKEZHKfEJFsyhRYssS/hnH22fD11yerAo2ktWbq1KkMGDCA\nP/zhDzL/IgzJKrdCiLqtWgXtK+AioA2wCdizx6iBBNDJUFVVxeHDh0lJSfGWKaX429/+JsmilZKk\nIUQkOz8RJh+EaIyf/w94VUPHjqe89NChQ0yaNInDhw+zbt064n1m6EnCaL2kT0OISJbRFtoCcRhJ\now1wUzTENfx9cvv27QwZMoR33nmHjRs3cuutt9Lam7qFQWoaQkSy6H1Q3BU2TIIT7WHwUui5B8qL\nIb5rnZe89dZbXH/99ZSUlHjLevbsKQsORghJGkJEsuLx6D88jqqKgeoYWH4/+rY7URM61Tq1urqa\nRx55hD//+c/esvbt2/PKK68wbty4UEYtLCRJQ4gI5s6eS2JZB7wt1VVxlC98ijaPR/udV1JSwo03\n3sjSpUu9ZX369GHFihUMHDgwhBELq0mfhhARTO1oj6rxMaDLYjjx8wnv7V27djF8+HC/hHH55Zez\nefNmSRgRSJKGEBFs22nbqKbar6wktoQjHY4A8OWXXzJ48GA+//xz7/E777yT1atX07lz55DGKuxB\nkoYQEWzl7Ss52uYox2KPURZdRmlMKQ9c9wCdOxoJ4ayzzuKss84CIC4ujpdeeokFCxYQGxtrZdjC\nQtKnIUQEmzl9JleWX8mQj4fQoaID/zfg/3j59y97R0HFx8ezbNkyrrnmGp555hmGDRtmccTCapYv\nI6KUcgIurXW2T1k64AaSgEKtdUFD5Q2RZUSEaJjWms37NnOs/Bi/6PgLunbqWmvorAynjSy23SNc\nKZUKzMFIAp4yB5Cmtc7XWueax+stF0I0j1KKIacPoX1Re5znO3nqqafqPEcIsDhpaK3zgTU1ilMx\nahNeZm2kvnIhRDO9+uqrXHLJJezbt4977rmHNWtqvi2FMNixIzwJOOhzuxhwNFAuhGiiyspK7r77\nbm644QZOnDCG2SYmJkrNQtRLOsKFiFAHDx5k4sSJrF27D3ga6ECfPu+Tn38/ffv2tTo8YVN2rGm4\na9xOAQobKK9FKZWhlNqilNpSVFTUAiEKEd6+/PJLhgwZwtq15cBm4FbgBvbvf5l//lMShqifHZPG\nEsD3rzbJHCVVX3ktWutsrbVLa+3qIhsPC+EnLy+PoUOHUlhYCPwP0B6j0SGK0lLF/fdDebm1MQr7\nalbzlFIqAaNfwQ0Ua62PNPL6VCANSFJKFZgjo9xKqRzzGEAmQH3lQojALViwgLvuusunpHatoqIC\n3G7oWvcityLCNSppKKWmA+MBF6AxmocOmYcdSqlks2wxkKu13t3Q/Zmjp/LrKa/vfCFEEw0bNow2\nbdpw4sQJHA4HffrEsG4dVPusJNKlS0Cb9okIdcqkYdYm7gMuAHKA8Vrrw6e45grgXjOJZGmt3w1G\nsEKI5hkyZAjZ2dm89tprLF68mJKSBIYNg5IS0Nr4efPNJm8PLiJAgzPClVIXABnAfK31riY9gFE7\nSdRaP9G0EJtHZoSLSHb48GESExNrlVdXVxMVZXRpVlTAmjVw7BhceSUkJIQ6SmE3TZoRrpQ6E3Bo\nrW9tasIA0FovBBYqpa5t6n0IIRpHa81TTz1F3759+eabb2od9yQMgNhYuPpqGD9eEoY4tXqThtZ6\nl9Z6aX3HG0NrfVhrvSwY9yWEaFhZWRlTp07l7rvv5uDBg4wePZojRxo1RkWIegV1yK1SakQw708I\n0Tj79u3j0ksv5ZVXXvGWJSYmcvz4cQujEq1JsOdp7FJKPaaU6hPk+xUiMlQcgV1vQOErcKK4UZd+\n8sknuFwuNm3a5C278cYbWbduHd26dQt2pCJCNSlpKKXGKaWKlVJVSqnVSql5SqneZpPWvRiLCwoh\nGsP9BSzvBZtvgS23w4reUPRxQJf+/e9/59JLL+XHH38EIDo6mgULFvDyyy8THx/fklGLCNPUmsZE\n4ArgSuBTjAl6u5RS3yqlnjdvCyEaY+N0qDgMlSUnfz65scFLKioq+P3vf8/UqVMpN6dxp6SksHr1\nau68805ZeFAEXVNnhG/WWn9q/j8fQCmViJFMnMBjQYhNiMhyYCvU/Iw/8i1UlUN0XK3TKyoquOqq\nq3j33ZPToAYMGMDy5ctxOGQBaNEygtanYY6QytZa3+KTUIQQgaprbc0jClTd3+1iY2NxuU4OpR83\nbhwff/yxJAzRopqaNLKVUtOCGokQke5VBSeASqAK4/9/11BVVe8ljz76KFdffTUPPfQQS5YsoUOH\nDiEKVkSqpjZPacCllJqN0RS19lTrTAkhGnYgykni/RuJvRiIhqqPwB1zNp1iYwFjFvfx48dp3769\n95ro6GjeeustoqOjLYpaRJqm1jRyMfaz2AU8DhQqpQ4qpRYrpaaZ61UJIRrhWudBvi2Hkjw4uhS+\nPwxXpx5CV2uOHDnCtddey4QJE6iqUfOQhCFCqak1jTVa68c9N8xO8DSMobb3Yixb3qn54QkROTZ1\n+55f3gYDf4aYavi0O6AOsmP7DsZPHM/27dsBuP/++5k3b561wYqI1dSkccj3hrnqba75I4RogvOP\nns+mpE183v1kWd/DDob/ejhu98mNKysqKtBay3BaYYmmNk8dUkr9KqiRCBHhsq/NJrE8kQ7lHWhf\n3t74WdremzDatGnDa6+9xmVJZ/IAACAASURBVBNPPCEJQ1imSUnDXMhwhlJqbJDjESJinX/J+ey5\naw9Pd3ua9K/TiX0yls+/+xyA008/nQ8++IApU6ZYHKWIdE1qnlJKvQBMwEgcGmOC3xogX2v9WRDj\nEyKiHC0/ynOvPYfvHjDDhg1j6dKlnHbaaRZGJoShqc1TW7XWKUAyJ5cSmQQUmOtRPR+sAIWIFJ9/\n/jkul8svYdx888289957kjCEbTS1I7xYKXUPxj7gfvt8K6VSgTODEZwQkaR3797ExY0ArkGpWH73\nuxieeeYa6b8QttKkpOHZnMncC3x3jWP5dV0jhGjYO+8kUlT0OgBaR/G3v0H//nDLLRYHJoSPZq09\npbVeG6xAhIg0paWlfrdnzoSysig8b8vSUrjvPtDaguCEqEeDe4QHa19vpVSCrFUlxEmfffYZv/jF\nL3j99de9ZT/9VPs8txsqK0MYmBCn0OAe4Rh7ZDzfnJ34lFLTgTla6xebeh9CtCY5OTkMHz6cPXv2\nMG3aNG/H98UXQ5TPO1IpGDgQzKWnhLCFBpunzCXO7wVuMXfoC2hdKaXUr5RSLyilVgM7tdZzghSv\nEGGrurqaP/3pT0yYMMHbNBUXF8eBAwcAePFFOO006NgREhKgUyd44w0rIxaitlN2hJtLhNwLxjav\nwItKKSfGSrduwLORcV+MIbiFwBYgqzn7apijsJLMx/B2sCul0s2yJKBQa13Q1McQIlQOHz7MlClT\n+Oc//+ktO/vss1mxYgXnnXceAH36wO7d8OGHRpPUJZdAXO29l4SwVKNGT5mjppZ6bpsLFTowk4eZ\nYJpNKZUEOLTW2ebtWUC+UsoBpGmtZ5jlOcD4YDymEC3lm2++YfTo0fz73//2ll155ZUsWrSI5ORk\nv3NjYuCyy0IcoBCN0NzRU4e11p9qrXcFK2GY9+vGmG3u2YLMs2JuKmbNw8Os9QhhS6tWrWLIkCF+\nCWPmzJm8/fbbtRKGEOGgqZP7QmE2sFUptUVrnWaWJQEHfc4pxqjp+DVRKaUygAyAXr16hSBUIWr7\n61//yp133ok2x8zGx8fz0ksvMXnyZIsjE6LpTpk0mrqhktb6SFOu8+EEpgNzlFJbtdaDGvHY2UA2\ngMvlklHuwhLnnHMOSim01vTs2ZPly5czaFDAf8ZC2FIgNQ03Rqd3YzV5OzGzs7vA7PzOVUplmR3j\nng5wjxSMjnchbGfkyJE8/vjj5OXlkZubS7du3awOSYhmCyRp3ELtpJGEsTvfbPz7GM4CZgKzmhlX\nCv5NTjmcHJWV6RuHjJ4SLaK83JiOnfeiMWHiutth7lyjp7oeZWVlxMfH+5Xdfffd3HHHHcTKZAvR\nSgQy5Da7Zpm5im1GXRP2lFIHaOZWr1rrbKVUhrlQWzHg1loXmvefY9Y6wD+BCBE890yH7q/BA+b3\npe8ehQePwsNP1Xl6dnY28+bN46OPPqJHjx7ecqWUJAzRqjS1I3wixv4ZdSkAXgCaNaGvrmRllsuC\niKJlVVdDx9egpz75DuldDV88C/gnjfLycu666y6ef97YDeDaa69l3bp1tWocQrQWzRlym1FP+XiM\n5iUhwlN1FRXnau51Q5ed0K0Q/nIEqn7pvwjU/v37SUtL8yYMMJKI737eQrQ2TU0ajwEjlVKrlFJj\nzWVDRiilFmMkkzprCUKEhegY7iqCp91woBr2V8H8Q/Bn98mxHZ9++imDBw/m/fff95ZNmjSJDz/8\nkO7du1sRtRAh0dQ9wudjLC0yBGOG+FaMjZjSgNmy1pQIZ9VoXjoSzXGf4R+lGp47bPRN/OMf/2D4\n8OF89913gNFv8dhjj/Hmm2/Srl07K0IWImSaPLnPTBzzlVIXYEywK2zOWlNC2IWu1FRVq1qDxssr\no5gzZw6PPfaYtywhIYFFixZx9dVXhzhKIazRrGVEwFgJV2u9VBKGaC2io6MZ/e1o4ipPrhYYXxHP\nuC/H+SWMfv36sWnTJkkYIqI0KWkopQ7Wt8eGUuodpdSjzQlKCEtFwUudX+LKXVcSUxVDbFUs1/zn\nGn773W+9p1x99dVs3LiRfv36WRioEKHX1OaphlZay8LoKL+vifcthOUS/zeRt+a+xfGFx1FRivhb\n4il7qYyhqUO5/PLL+X//7/8RHd3kRQ+ECFsBJw2zZuG7ouwVSqlDdZyagdHHIUTY0jGaI7MreH9Y\nW6KjITUV4uPiWbduHW3atLE6PCEs05iaxi2cXB5EAwsbOHd+kyMSwmKlpaWMG/cX3n33AeLjYwFF\nfDx88AGcc44kDBHZAk4aWut7lVLzAIWxtEcatRcLDNpGTEJYYc+ePYwdO5ZPP/0b0I7ycgXA0aMw\nbRr4TMsQIiI1due+wwBKqVxgcxCWPxfCNt5//33GjRvHgQOHgAH4jhPRGj75xLLQhLCNpg65nU2N\nfgul1D1KqcVKqZubH5YQoaO15vnnn+eKK67gwIEDQBVGZdrf6aeHPDQhbKepSeMFYIbnhlLqHYwV\nZ/sC2TLkVoSL8vJybrnlFn73u99RWWmsLdW1a1fuu+8g7doZq6IrBe3awf/+r8XBCmEDTR1ymwak\nA5gzwlOBWVrrJ5RSszB23JMht8LWfv75Z8aNG8dHH33kLXM6nSxfvpwzzjiDUaNg4UKIjoZbboEh\nQywMVgibaM4e4Z5O8FSM0VSeRQp3IkNuhc198cUXXH311ezdu9dbNnnyZF588UXatm0LwMUXGz9C\niJOa2jxVCEww9w+fiLE1q6dT3IFswSpsrkuXLmhtrEiolGL+/Pm8/vrr3oQhhKhbU5PGvebPIYwJ\nf7N9js0AcpsZlxAtqnv37ixfvpzu3bvz9ttvM3PmTMydIoUQDWhS85TWOlcp1RcjYeTXmJuRCSwO\nRnBCBEtFRUWtbVddLheFhYVSuxCiEZq8yq3Wepe5uu3hGuULZf6GsJMdO3YwcOBAVq1aVeuYJAwh\nGqfZS6MLYWcrV67kwgsv5N///jeTJk3im2++sTokIcKaJA3RKmmtefTRRxk9ejRHjx4FjCaqb7/9\n1uLIhAhvzRlyK0TolJTA2rXQti2MGAEx9f/pHjt2jKlTp5KTk+Mt6927NytWrOD8888PRbRCtFqS\nNIT9ffQ+jEwDXWHcTkiETdugV69ap+7evZsxY8awbds2b9lll11GTk4OnTt3DlXEQrRa0jwl7E1r\nSL8aSsvhuDZ+itxw029rnbpu3ToGDx7slzBuv/123nnnHUkYQgSJbWsaSqkkYALGREGH1jrbLE8H\n3EASUKi1LrAuStHi9u+FA8fMG52Bcqg+Ap986XdaVlYWt912G1VVVQDExsby3HPPMW3atNDGK0Qr\nZ+eaRo7WOltrnY+x1hVKKQeQprXO11rnAnMsjVC0vA5tqYzqDmwA9gL7gRxOpLTzOy0hIcGbMLp1\n68Z7770nCUOIFmDLmoZSKhWjNgGA1nq8+V+/cvNcp9Q2Wi/drhP72uVyRvkgFMbkPM1v2JLyvwz3\nOe+6665j27ZtrF27lry8PHr27GlNwEK0cnataTjASB5KqXSzSQqMJqmDPucVU8fiiEqpDKXUFqXU\nlqKiopaPVrSY4p+K6X5ksDdhACja0u8/Y2ud+8gjj/DBBx9IwhCiBdk1aSQB+DRDzTCbpgJiNmu5\ntNauLl26tFiQouUldkxEK12r/FhUKW63X6WT6Oho4uPjQxWaEBHJrkmjEP+Vct0Y61y5a5yXgqyo\n26rFdIhh91W7KY0p9ZYdiznGYzGPcd1113n7MYQQoWHXpJGPf7OTAygAlmDsDuiRJP0ZrV+vN/qx\n8pxy9lLNt1TyB/UvXjj0At999525PasQIlRs2RGutXab+41nmEXztNaFAEqpHLOjHIwVdUUrd+2k\nw6zaHo/xHScKKq7ml798iQ0bxtOxY0erwxMiotgyaYCx/Ho95fmhjkVYZ/Hif7Jq1Uggzqe0PUeO\nTKVjR9n/QohQs2vzlIhw1dXVPPTQQ0yaNLnO4ydOSMIQwgq2rWmIyHX8+HGmTJnCsmXLzJIPgYvx\n1DbatoUbbrAqOiEim9Q0hO20adOG8vJy7+2LL36GSy4xFraNi4NJk+Dhhy0MUIgIJjUNYTtRUVG8\n8cYbDB06lJEjR/LEE08QExNDaSlER0ObNlZHKETkkqQhLKe1RmtNVNTJim9CQgIbN270Gx3Vrl1d\nVwshQkmap4SlysrKuOmmm5g1a1atYzKcVgj7kZqGsMy+ffu49tpr2bhxIwDnn38+//Vf/2VxVEKI\nhkhNQ1hi48aNuFwub8IA+Pjjjy2MSAgRCEkaIuT+/ve/c8kll/Djjz8CxkKDTz31FM8995zFkQkh\nTkWap0TIVFZWcs8997BgwQJvWUpKCosXLyY1NbWBK4UQdiFJQ4TEwYMHmThxImvXrvWW9e/fnxUr\nVuBwBLzqvRDCYtI8JVrcV199xeDBg/0SxrXXXsuGDRskYQgRZiRpiBYXHx/vt2HSQw89RE5ODh06\ndLAwKiFEU0jSEC2ub9++LF68mMTERPLy8njggQf8JvIJIcKH9GmIxik/DJvvgI1LoWMHuOR+OOd2\nUCdXndVao5T/KrRpaWns3r2bpKSkUEcshAgi+bonGue1K+Ga1+C+UrhtP0y6C7Znew/v3Lmz1vwL\nD0kYQoQ/SRoicKU/Uj1nI9XFwAmgAqq+qoa5fwJgzZo1DB48mIKCAsaOHcu+ffssDVcIEXySNETg\ndu+iwu3/RxNdAcfWuXnyySe56qqrOHToEADFxcV8+umn1sQphGgx0qchAnawqgvtq2uX74pV/OEP\nf/De7tGjB3l5eQwZMiSE0QkhQkFqGiJgR1UseedFsTu6M69zPSv5LYdiYnliSKL3nGHDhrFlyxZJ\nGEK0UlLTEAHr/Yve/NpxEz9tX0AcVaA01XGHOf/AncBybr75Zp599lnayC5JQrRakjREwCqrFEfe\ne4HK6mgqATRwvB2bN4zj6adHcPvtt9caaiuEaF0kaYiA7dkDVdXR/oU6hk5d0rnjjnhrghJChJTt\nk4ZSKh1wa63zfW8DSUCh1rrAyvgiyWmnQXWtjnDNr34lCUOISGHrjnClVBIwESNBoJRyAGla63yt\ndS4wx8r4IoXWGoD27eGBBzx7dWtiYzUdOigyMy0NTwgRQrZOGoAL2OxzOxWjluGllHKGNKIIk5OT\nw+WXX87x48cBmDMHVq6E6dMVf/yj4vPP4YILLA5SCBEytm2eUkqlaq3zaySFJOCgz+1iwAFIE1WQ\nVVdXM3fuXB5++GEAMjIyePXVV1FKMWIEjBhhcYBCCEvYMmmYzVCFzbg+A8gA6NWrV7DCihhHjhxh\nypQprFy50lv2ySefcPDgQTp37mxhZEIIq9m1ecoJOM1O78HAYDORuGucl0IdyUVrna21dmmtXV26\ndGn5aFuRb7/9lqFDh/oljJEjR7Jp0yZJGEIIeyYNrXWu5wcjKWzWWhcCS4C+Pqcmyeip4Fm9ejVD\nhgxhx44d3rKZM2fyr3/9i+TkZAsjE0LYhS2bpzzM/oxUwKGUKtBaFyqlcpRSqeYpMm4nCLTWPPHE\nE9x7771Um2Nq4+PjefHFF7n++ustjk4IYSe2ThpmLWJQjbJ8i8JplY4fP8706dN54403vGU9e/Yk\nLy8Pl8tlYWRCCDuyZfOUCJ3o6Gh2797tvX3RRRexefNmSRhCiDpJ0ohwcXFx5ObmcvrppzN9+nTe\nffddunfvbnVYQgibsnXzlGgZNffw7t69OwUFBXTp0kUWHBRCNEhqGhGkoqKC22+/nfnz59c61rVr\nV0kYQohTkppGhCgqKmL8+PGsX78epRQDBgzg6quvtjosIUSYkZpGBPjss89wuVysX78eMJqnli9f\nbnFUQohwJEkjnGkN3+fBR9dDwUwo2V3rlMWLF3PRRRfx3XffAaCU4tFHHyUrKyvEwQohWgNpngpn\nW38PhS9D5TFQsfCfLLhyIySeR1VVFQ888ADz5s3znp6QkMAbb7zBb3/7WwuDFkKEM0ka4apsP3yb\nBbrcuK0r0OUVqM/ncnjgQq6//nrefvtt7+nnnHMOK1as4Nxzz7UoYCFEayBJI1wd3UXZiXJ2FZ3L\n/20bRdeE/Vw7eBnseI8Lp1/I119/7T111KhRvPnmmyQlJVkYsBCiNZCkEaYOfnyYV977Hfcvepwq\nHUVcTAUzF80n8+aT/RcAs2fP5pFHHiE6OrqBexNCiMBIR3iY+vxAGbPefJzjFe0or4ynpKwjRUc7\nM3P1/bz88su0bduWN998k8cee0wShhAiaKSmEaaizkmlKqrCr6yqKo7Kn1KZNKkPl156KaeddppF\n0QkhWitJGmFqYP92xOgKKn0LVQUjr+wGIAlDCNEipHkqTH3xxfvExWYCx4Aq4tpUkpISw2OPtLU6\nNCFEKyZJIwy98MILXHHFFZSWPgBcjlLzuGnqv/nPt4reva2OTgjRmknzVBgpLy/nzjvv9JvN3aXL\nbnJzL+GSS/pbGJkQIlJI0ggT+/fvZ9y4cXz44YfeMqfTSV5eHr169bIwMiFEJJHmqTBQUFCAy+Xy\nSxjXXXcdH3zwgSQMIURISdKwuUWLFjF8+HC+//57wFhwMDMzkzfeeIN27dpZHJ0QItJI85TNbd++\nnbKyMgASExNZtGgRo0aNsjgqIUSkkqRhc3/5y1/Ytm0b33zzDW+99RbnnHOO1SEJISKYJA2bi4qK\n4vXXX0drTWJiotXhCCEinPRp2Mg///lP0tPTqaz0m+dNQkKCJAwhhC1I0rABrTXz5s3jmmuuYenS\npcyaNcvqkIQQok62TRpKqXTzJ1MplV6jPNX812lljMFw7NgxJk2axH333YfWGoBly5bhdrstjkwI\nIWqzZZ+GmQzcWut8IFcpdUgplQ+kAGla6xnmeTnAeAtDbZbdu3czZswYtm3b5i275JJLyM3NlQ2T\nhBC2ZNeahgNI87ldbJalAn5fwcO1trF+/XoGDx7slzBuu+028vPz6dKli4WRCSFE/WyZNLTWuVrr\n2QBKqSQgRWtdACQBB31O9SQTP0qpDKXUFqXUlqKiopDEHCitNc8++yypqakcOHAAgNjYWBYuXMhf\n//pXYmNjLY5QCCHqZ8vmqRoygUGNuUBrnQ1kA7hcLt0SQTVFeXk5t912Gy+++KK3rFu3bixdupTh\nw4dbGJkQQgTG1knD7ADP0loXmkVujNqGRwpQWOtCK2gN+9+HH9+B9r2gz3UQm+B3Snl5ORs2bPDe\ndrlc5OXl0bNnz1BHK4QQTWLL5ikApVQqUKC1LlBKJSmlHMASoK/PaUlms5XldMFM8p95nJl/SuKZ\nR7/G/Y8hULbf75wOHTqwYsUKkpOTmTJlCu+//74kDCFEWFGeYZ52YnZu53Cy09uhtU42j6X6nmuO\nsKqXy+XSW7ZsaZE4vUr3cvuYt8g+XEHFuW8RfagPSQUz+PLlVXQf+edap+/evZvevXujlGrZuIQQ\nogmUUlu11q66jtmyecqsPfSt51iDScIK33+1k+c7/x/Vg9+FuFKqqqM52H8Jdz7yCFftfZmbbrrJ\n7/w+ffpYE6gQQjSTbZunwsk7a6KpdqyFuFKjIKoKYo6zLnkjt956q18/hhBChDNJGkGQUPYlVNUY\nKhtdRZvk/1BeXs7LL79sTWBCCBFkkjSC4MqxQ4mNqvArU+XtuGpHLA888IDfnt5CCBHOJGkEQYfz\nB/LUR0OIL29LfFkCceVtuWLPmfx2cjoPPfQQUVHyNAshWgdbdoSHk5KSEm688Uby1q9nwidRDOzZ\nFV1Zydis/+G8K6+0OjwhhAgqSRrNsGvXLkaPHs0XX3wBwD9OVPNzLwdLliyhc+fOFkcnhBDBJ+0m\nzbBnzx62b9/uvX3HHXewevVqSRhCiFZLkkYzXHbZZTz55JPExcXx0ksv8fTTT8uCg0KIVs2WM8KD\nqaVnhGut2blzJ2eddVaLPYYQQoRSQzPCpaYRoB9//JExY8bw/fff+5UrpSRhCCEihnSEB2DTpk2M\nHTuWffv28f333/Phhx/Stm1bq8MSQoiQk5rGKbzyyitccskl7Nu3D4DPPvuMdevWWRuUEEJYRJJG\nPSorK7n77ru58cYbOXHiBADJycmsXr2aUaNGWRydEEJYQ5qn6nDw4EEmTpzI2rVrvWW//OUvWbFi\nBX371rn4rhBCRASpadTw5ZdfMmTIEL+EMXbsWDZs2CAJQwgR8SRp+MjLy2Po0KEUFp7cQXbu3Lnk\n5ubSsWNHCyMTQgh7kOYpH6tWreLYsWMAtG/fntdee42xY8daHJUQQtiHJA0fzzzzDF999RU//vgj\nK1asoH///laHJIQQtiJJw0dcXBzLli0jJiaGlJQUq8MRQgjbidg+jfz8fG699VZqLqPStWtXSRhC\nCFGPiKtpaK1ZsGAB99xzD1VVVfTp04fZs2dbHZYQQoSFiKpplJWVMXXqVO6++26qqqoA+Otf/0pJ\nSYnFkQkhRHiImKTxww8/cOmll/LKK694y4YOHcrGjRvp0KGDhZEJIUT4iIik8cknn+Byudi0aZO3\nbOrUqaxbt44ePXpYGJkQQoSXsOvTUEqlA24gCSjUWhc0dP6BAwe49NJLKS8vByA6Oponn3yS22+/\nHaVUywcshBCtSFglDaWUA0jTWs8wb+cA4xu6Zs+ePd7/d+rUiSVLljBixIgWjVMIIVqrcGueSsWo\nZXgppZyBXDhgwAA2b94sCUMIIZohrGoaGE1SB31uFwMOwK+JSimVAWSYN08AX37xxRc4HI6QBNlI\nnYEDVgdxCnaP0e7xgcQYDHaPD+wfY6Dx9a7vQLgljYBorbOBbACl1Jb69rq1A7vHB/aP0e7xgcQY\nDHaPD+wfYzDiC7fmKXeN2ylAYV0nCiGECL5wSxpLAN9NLZJONXpKCCFE8IRV85TW2q2UylFKpZpF\nmQFclt2SMQWB3eMD+8do9/hAYgwGu8cH9o+x2fGpmgv2CSGEEPUJt+YpIYQQFgqr5ikROp6Z91rr\nfN/bBDgTX9iPOafJZY4u9JTV+bpa8Xo3EB/AYGCz1jrXqvjqi7FGrJa/Z+p5HpOACRgDhxyeY02J\nsdUmDTt+yNntDVAf8w9sIrDYvN3omfghiC8ob4AWii/VjMENYPWHiE9MM4DNPmV1vq5WvN71xOfk\n5IdwrlLqkFIqH2PUZMj/HuuK0eeYLd4zDcSYo7VO84klu6kxtsrmKZ8nI9/8YJ5jg5g8b4BcrfVs\nYKFSKsmOsQIu/P/omjwTv4XkaK2zzQ8TzxvBFs+j+eHhMF/nfMBph/jMWNbUKK7vdQ35611PfA7M\n19fkmcxryd9jPTF62OI9U1eMZiJx+5zjSQxNirFVJg3s9yEHNnsD1Ecpler5Zuyjvpn4IRfsN0Cw\naa3dwAwzSQB0Mv+1RXw11Pe62uL19vmC5UnGKWbtzBbxedj9PeN5XKVUqlIq3afFo0kxttbmqYCW\nGwkl89ulpznK+wYwPwRtEav5QWf3yZLeNwDG6+x5bu30ms8Gtpqzbz1fFOwUXzjKBAZZHURNYfKe\n8bxPPM2ka5RSTf67a61Jw+5s+QbgZFOKE6PfpZP5x+Vph/ewciZ+UN8ALcQJTAfmKKW2aq3t+FpD\n/a9rSj3lljC/GWdprT0x2OnvMRzeM4WcrPGCEZuTJsbYWpunbLvcSD1vAF+WxWo2B+Sa39wLMTrr\nC7HXTPxC/J8f3zeAL0ueR/P1LTCfx0HAlppNalbGV0N9r6ttXm/zuSswa+WePkDbxBcm75l8/Jud\nPDXcJsXYWmsaS/CfLW6L5UZ83gCFniYqbBirT2eoQynlibexM/FbSj7GKBUPzxugGHs8jyn4Nznl\nYHyYbMHC+MzXLg1IMl/T/PpWWGjiygtBj8/8O8wC3OaGaQ6tdbJ5fsj/HuuK0eeYLd4zDbzOi5Wx\n+jfAPM+X1qbE2GpnhPs8EcDJ5gyrmH9UOZz8xun7BrBVrHZnfptPMW8W+wxdtsXz6PPmLMZ/3L4t\n4hOiOVpt0hBCCBF8rbVPQwghRAuQpCGEECJgkjREq1WzD0EI0XySNESrZHaWh2TGtVLKoZTSnp9Q\nPKbVlFJZPr+zlaPpRIhJ0hBhQymVaS5aF8gH80RCvyHObFpo0qZSapZSqr51j2qemxmC5OWZoFpz\n/olo5VrrPA3RCmmtZ5vj9QNpdkoy14EKpYIWnHsxmMB+75DwGedvdSgixKSmIcJNKsYEv3qZTVM5\noQknNLTW47XWfp/QZo3CsoX6RGSSpCHCjZP6l6f2mIEx077VMlcUmEWI+m2E8JCkIcKGz2ioLQ2c\n41nQUNrahWgBkjREOEnD6DdoKCFMoIGmKaVUhtmZvtWTYJRSs4IcZ52d0eZja8/j+px3SCnlNFfs\n1WZszvruTxk7rB0yD+WY1xyiAeY+Clt97j+1xrGdPqOh1niavRo6JiKTJA0RTpycoj8DY7vKOpum\nzA/iNIxlyxdjLF2+Buv3tEjCSHRZGE1rDhruk5nOyQ29ZmCsVFrvqC2fPp58jOenEFhjDhX2PFau\neR+e40kNHWvSbylaBRk9JcJJKg2sxGl+g3c3UBMp9Nnpz/NhutMmCwfO9ll4sS8wSylV5wgwc9VS\nz7LqxT7L7NdnITDfswsexn7bW/HfS3qe+VgFnNwsLL2+YyJySU1DhAVPc80pPuAzMGoQdfL9ADY/\nEB1a61pzOQKdDxFkvr/XzmDdqfm8JWEkId8JiE78a25rzbkgvs1iDR0TEUpqGiJcpHLqZqQ0n+1V\n6+VZulxrPb9GeSon920PqRbsuPf0P9Q1Ea/YrLWkYdTgMgGUUvla67SGjrVQrCIMSE1DhIs0GujP\nMNvfT/nB6+n0rquGYW5YE+pZ5C3N23SltS6s8eM2y/PNXQaTMWa1p/o8T/UeE5FJkoYIF6mY8zN8\nNjnylY7RkVwv8zq3b2IwRy2FqmYRzCVGigM5yZyh7qaOviDfUVzmuW6z9lWAMQM9oGMiskjzlAgn\nhWa7el3zNCbWbG7yvo9MTgAAAXBJREFUZSaGGcBi85tyIcaHn7OFmlt2mo87C6OGlIrR5xIUZtMR\nwAzPvw38HtMxhuZ6RmglYTwXhWaH+GyzvBCjOcsJZJlJts5jwfo9RPiRpCHCxWyMD7qdNZuQzKap\neif8mdLMZhaUUlnAHE4OQW0JSzDizcT4wM01bwfzA3c+xqxwBw2MatJa5yqlBpmxrMGoeSzBeE7B\nGLLrGepbiDHSKtusidR5LIi/gwgzst2rCHvm0txrgjV0Vimla67zdIrzHRg1izSbDN8NGXNSYbbP\ncF7RykmfhmgNUiPtw1oIq0jSEGGtgT6OJt2XZ2SQuWyHbZYiF8IupE9DhLug9ROYI40KMPoKmkKW\n1xCtntQ0RLhLacGNjxorJ9K2e0USZcSRjnAhgsB3iQ0bJbEWY3b+exKGd6KgaP0kaQghhAiYNE8J\nIYQImCQNIYQQAZOkIYQQImCSNIQQQgRMkoYQQoiASdIQQggRMEkaQgghAvb/A1nPsH08Mlw6AAAA\nAElFTkSuQmCC\n",
      "text/plain": [
       "<Figure size 432x360 with 1 Axes>"
      ]
     },
     "metadata": {},
     "output_type": "display_data"
    }
   ],
   "source": [
    "# make the variance plot\n",
    "lvals = np.array(lvals)\n",
    "m_devs = np.array(m_devs)\n",
    "x = [d['l']/z1 for d in data]\n",
    "y = [np.sqrt(d['m_stats']['m_var']) for d in data]\n",
    "cols = [d['color'] for d in data]\n",
    "plt.scatter(x,y,color=cols)\n",
    "x = np.linspace(0,180,100)\n",
    "plt.plot(x,x,'--',color='black',zorder=-1,label='1-to-1 line: $R^2=0.997$')\n",
    "plt.xlim(0,165)\n",
    "plt.ylim(0,165)\n",
    "plt.ylabel(\"std$(m)$\")\n",
    "plt.xlabel(\"$l/z_1$ [unitless]\")\n",
    "plt.legend()\n",
    "#plt.savefig('../jgr/figures/variance.pdf',bbox_inches='tight',dpi=600)"
   ]
  },
  {
   "cell_type": "code",
   "execution_count": null,
   "metadata": {
    "collapsed": true,
    "scrolled": true
   },
   "outputs": [],
   "source": [
    "# panel (a) of return time cdf plot\n",
    "dats = sorted([d for d in data if d['l']==a and d['flow']!='l'],key=lambda x: x['flow'])\n",
    "for d in dats:\n",
    "    t,cdf = d['rt_cdf'].T\n",
    "    t = t/3600\n",
    "    plt.loglog(t,cdf,color=d['color'],label='flow ${}$, $l={}a$'.format(d['flow'],round(d['l']/a,1)))\n",
    "plt.xlim(1e-7,1e3)\n",
    "plt.ylim(1e-6,1e2)\n",
    "plt.legend()\n",
    "#plt.xlabel('Resting time $T$ [hours]')\n",
    "plt.ylabel('Non-exceedance probability')\n",
    "\n",
    "textstr = '(a)'\n",
    "props = dict(boxstyle='round', facecolor='white', edgecolor='white', alpha=0.5)\n",
    "ax = plt.gca()\n",
    "ax.text(0.07, 0.95, textstr, transform=ax.transAxes, fontsize=30,\n",
    "        verticalalignment='top', bbox=props)\n",
    "\n",
    "plt.savefig('../jgr/figures/1.pdf',bbox_inches='tight',dpi=600)"
   ]
  },
  {
   "cell_type": "code",
   "execution_count": null,
   "metadata": {
    "collapsed": true
   },
   "outputs": [],
   "source": [
    "# panel (b) of return time cdf plot \n",
    "dats = sorted([d for d in data if d['l']==a and d['flow']!='l'],key=lambda x:x['flow'])\n",
    "for d in dats:\n",
    "    t,cdf = d['rt_cdf'].T\n",
    "    t = t\n",
    "    E = d['E']\n",
    "    l = d['l']\n",
    "    plt.loglog(t*E/l*z1,cdf,color=d['color'],label='flow ${}$, $l={}a$'.format(d['flow'],round(d['l']/a,1)))\n",
    "plt.xlim(1e-4,1e8)\n",
    "plt.ylim(1e-6,1e2)\n",
    "plt.legend()\n",
    "#plt.xlabel('Scaled resting time $T/T_0$ [unitless]')\n",
    "#plt.ylabel('Non-exceedance probability')\n",
    "\n",
    "textstr = '(b)'\n",
    "props = dict(boxstyle='round', facecolor='white', edgecolor='white', alpha=0.5)\n",
    "ax = plt.gca()\n",
    "ax.text(0.07, 0.95, textstr, transform=ax.transAxes, fontsize=30,\n",
    "        verticalalignment='top', bbox=props)\n",
    "x = np.geomspace(5e3,1e6)\n",
    "y = 1e-2*(x/1e3)**(-1.18)\n",
    "plt.loglog(x,y,'--',color='black')\n",
    "plt.savefig('../jgr/figures/2.pdf',bbox_inches='tight',dpi=600)"
   ]
  },
  {
   "cell_type": "code",
   "execution_count": null,
   "metadata": {
    "collapsed": true
   },
   "outputs": [],
   "source": [
    "# panel c of return time cdf plot \n",
    "incl = [1.0,2.0,5.0,10.0]\n",
    "dats = sorted([d for d in data if d['flow']=='g' and round(d['l']/a,1) in incl],key=lambda x:x['l'])\n",
    "lines = ['-','--','-.',':']\n",
    "i=0\n",
    "for d in dats:\n",
    "    t,cdf = d['rt_cdf'].T\n",
    "    t = t/3600\n",
    "    E = d['E']\n",
    "    l = d['l']\n",
    "    plt.loglog(t,cdf,linestyle=lines[i],color=d['color'],label='flow ${}$, $l={}a$'.format(d['flow'],round(d['l']/a,1)))\n",
    "    i+=1\n",
    "plt.xlim(1e-7,1e3)\n",
    "plt.ylim(1e-6,1e2)\n",
    "plt.legend()\n",
    "plt.xlabel('Resting time $T$ [hours]')\n",
    "plt.ylabel('Non-exceedance probability')\n",
    "\n",
    "textstr = '(c)'\n",
    "props = dict(boxstyle='round', facecolor='white', edgecolor='white', alpha=0.5)\n",
    "ax = plt.gca()\n",
    "ax.text(0.07, 0.95, textstr, transform=ax.transAxes, fontsize=30,\n",
    "        verticalalignment='top', bbox=props)\n",
    "\n",
    "\n",
    "plt.savefig('../jgr/figures/3.pdf',bbox_inches='tight',dpi=600)"
   ]
  },
  {
   "cell_type": "code",
   "execution_count": null,
   "metadata": {
    "collapsed": true,
    "scrolled": true
   },
   "outputs": [],
   "source": [
    "# panel d of return time cdf plot \n",
    "incl = [1.0,2.0,5.0,10.0]\n",
    "dats = sorted([d for d in data if d['flow']=='g' and round(d['l']/a,1) in incl],key=lambda x:x['l'])\n",
    "lines = ['-','--','-.',':']\n",
    "i=0\n",
    "for d in dats:\n",
    "    t,cdf = d['rt_cdf'].T\n",
    "    t = t\n",
    "    E = d['E']\n",
    "    l = d['l']\n",
    "    plt.loglog(t*E/l*z1,cdf,linestyle=lines[i],color=d['color'],label='flow ${}$, $l={}a$'.format(d['flow'],round(d['l']/a,1)))\n",
    "    i+=1\n",
    "plt.xlim(1e-4,1e8)\n",
    "plt.ylim(1e-6,1e2)\n",
    "plt.legend()\n",
    "plt.xlabel('Scaled resting time $T/T_0$ [unitless]')\n",
    "#plt.ylabel('Non-exceedance probability')\n",
    "\n",
    "textstr = '(d)'\n",
    "props = dict(boxstyle='round', facecolor='white', edgecolor='white', alpha=0.5)\n",
    "ax = plt.gca()\n",
    "ax.text(0.07, 0.95, textstr, transform=ax.transAxes, fontsize=30,\n",
    "        verticalalignment='top', bbox=props)\n",
    "\n",
    "#ax.vlines(1e3,1e-7,1e3)\n",
    "x = np.geomspace(5e3,1e6)\n",
    "y = 1e-2*(x/1e3)**(-1.18)\n",
    "plt.loglog(x,y,'--',color='black')\n",
    "plt.text(0.85, 0.335,r'$ \\big( \\frac{T}{T_0}\\big)^{-1.18}$', horizontalalignment='center',\n",
    "     verticalalignment='center',\n",
    "     transform=ax.transAxes)\n",
    "\n",
    "\n",
    "plt.savefig('../jgr/figures/4.pdf',bbox_inches='tight',dpi=600)"
   ]
  },
  {
   "cell_type": "code",
   "execution_count": null,
   "metadata": {
    "collapsed": true
   },
   "outputs": [],
   "source": [
    "# now make the particle activity figure \n",
    "from scipy import optimize\n",
    "from scipy.special import gamma, factorial\n",
    "def nbin(k,r,p):\n",
    "    return gamma(k+r)/gamma(r)/factorial(k)*p**r*(1-p)**k\n",
    "\n",
    "# now make the particle activity figure \n",
    "dats = sorted([x for x in data if round(x['l']/a,1)==1.0],key = lambda x: x['flow'])\n",
    "i = 0 \n",
    "for d in dats:\n",
    "    n,pn = d['n_pdf'].T\n",
    "    if i==0:\n",
    "        lam = 5.45+6.59 # sum of lambdas \n",
    "        mu = 3.74\n",
    "        alph = 4.64 + 0.77# sig + nu \n",
    "        ds = 1\n",
    "    elif i==1:\n",
    "        lam = 7.74 + 8.42\n",
    "        mu = 4.34\n",
    "        alph = 4.95 + 0.56\n",
    "        ds = 2\n",
    "    elif i==2:\n",
    "        lam = 15.56 + 22.07\n",
    "        mu = 3.56\n",
    "        alph = 4.52 + 0.68   \n",
    "        ds = 2\n",
    "    elif i==3:\n",
    "        lam = 15.52 + 14.64\n",
    "        mu = 4.32\n",
    "        alph = 4.77 + 0.48\n",
    "        ds = 3\n",
    "    elif i==4:\n",
    "        lam = 15.45 + 24.49\n",
    "        mu = 3.64\n",
    "        alph = 4.21 + 0.36\n",
    "        ds = 3\n",
    "    plt.scatter(n[::ds],pn[::ds],color=d['color'],label='flow ${}$, $l={}a$'.format(d['flow'],round(d['l']/a,1)))\n",
    "    popt, _ = optimize.curve_fit(nbin, n, pn,p0=[lam/mu,1-mu/alph])\n",
    "    \n",
    "    if i!=4:\n",
    "        plt.plot(n, nbin(n, *popt),color='grey',lw=2,zorder=-1)\n",
    "        if i==0:\n",
    "            POPT = np.copy(popt)\n",
    "    if i==4:\n",
    "        plt.plot(n, nbin(n, *popt),color='grey',lw=2,zorder=-1,label='NegBin fit')\n",
    "\n",
    "    i += 1\n",
    "plt.xlim(-2,80)\n",
    "plt.ylim(0,0.12)\n",
    "plt.xlabel('Particle activity $n$')\n",
    "plt.ylabel('Probability distribution')\n",
    "handles, labels = plt.gca().get_legend_handles_labels()\n",
    "order = [1,2,3,4,5,0]\n",
    "plt.legend([handles[idx] for idx in order],[labels[idx] for idx in order],borderpad=0.25,handlelength=1.0)\n",
    "\n",
    "textstr = '(a)'\n",
    "props = dict(boxstyle='round', facecolor='white', edgecolor='white', alpha=0.5)\n",
    "ax = plt.gca()\n",
    "ax.text(0.07, 0.95, textstr, transform=ax.transAxes, fontsize=30,\n",
    "        verticalalignment='top', bbox=props)\n",
    "\n",
    "plt.savefig('../jgr/figures/activity.pdf',bbox_inches='tight',dpi=600)"
   ]
  },
  {
   "cell_type": "code",
   "execution_count": null,
   "metadata": {
    "collapsed": true,
    "scrolled": false
   },
   "outputs": [],
   "source": [
    "lam = 5.45+6.59 # sum of lambdas \n",
    "mu = 3.74\n",
    "alph = 4.64 + 0.77# sig + nu \n",
    "r,p = lam/mu,1-mu/alph\n",
    "n = np.linspace(0,34,100)\n",
    "plt.plot(n,nbin(n,r,p), color='black')\n",
    "#plt.ylabel('$p(n)$',fontsize=35,rotation=0)\n",
    "#plt.xlabel('$n$')\n",
    "plt.xlim(0,36)\n",
    "plt.ylim(0,0.18)\n",
    "plt.tick_params(axis='both', which='both', bottom=False, left=False,labelleft=False)\n",
    "#plt.xticks([-0.5,31],['0','$n$'])\n",
    "ax = plt.gca()\n",
    "#ax.tick_params(axis='x', which='major', labelsize=35)\n",
    "ax.annotate('', xy=(0,0.99), xycoords='axes fraction', xytext=(0,15), \n",
    "            textcoords='offset points', ha='center',\n",
    "            arrowprops=dict(arrowstyle='<|-', shrinkA=0, shrinkB=0, \n",
    "                           facecolor='black'))\n",
    "ax.annotate('', xy=(0.99,0), xycoords='axes fraction', xytext=(15,0), \n",
    "            textcoords='offset points', ha='center',\n",
    "            arrowprops=dict(arrowstyle='<|-', shrinkA=0, shrinkB=0, \n",
    "                           facecolor='black'))\n",
    "ax.spines['right'].set_visible(False)\n",
    "ax.spines['left'].set_linewidth=8\n",
    "ax.spines['bottom'].set_linewidth=8\n",
    "#yaxis.set_label_coords(-0.1,1.02)\n",
    "\n",
    "ax.spines['top'].set_visible(False)\n",
    "ax.yaxis.set_label_coords(-0.1,0.8)\n",
    "plt.savefig('../jgr/figures/negbin.png',bbox_inches='tight',dpi=600,pad_inches=0)"
   ]
  },
  {
   "cell_type": "code",
   "execution_count": null,
   "metadata": {
    "collapsed": true
   },
   "outputs": [],
   "source": [
    "# and make the bed elevations figure \n",
    "\n",
    "\n",
    "from scipy import optimize\n",
    "\n",
    "def gaussian(x, amplitude, mean, stddev):\n",
    "    return amplitude * np.exp(-((x - mean) / 4 / stddev)**2)\n",
    "\n",
    "\n",
    "rcParams['lines.markersize']=6\n",
    "\n",
    "dats = sorted([x for x in data if round(x['l']/a,1) in [1.0,2.0,5.0] and x['flow']=='i'],key = lambda x: x['l'])\n",
    "i=0\n",
    "for d in dats:\n",
    "    m,pm = d['m_pdf'].T\n",
    "    m = m-(m*pm).sum()\n",
    "    m = z1*m/a\n",
    "    if i==0:\n",
    "        ds = 1\n",
    "        marker = '^'\n",
    "    elif i==1:\n",
    "        ds = 10\n",
    "        marker = 'o'\n",
    "    elif i==2:\n",
    "        ds = 10\n",
    "        marker = 'v'\n",
    "    plt.scatter(m[::ds],pm[::ds],color=d['color'],label='flow ${}$, $l={}a$'.format(d['flow'],round(d['l']/a,1)),marker=marker)\n",
    "    \n",
    "    mean = (m*pm).sum()\n",
    "    std = np.sqrt(((m-mean)**2*pm).sum())\n",
    "    popt, _ = optimize.curve_fit(gaussian, m, pm, p0 = [pm.max(),mean,std])\n",
    "    if i!=2:\n",
    "        plt.plot(m, gaussian(m, *popt),color='grey',lw=2,zorder=-1)\n",
    "    if i==2:\n",
    "        plt.plot(m, gaussian(m, *popt),color='grey',lw=2,zorder=-1,label='Gaussian fit')\n",
    "\n",
    "    \n",
    "    i+=1\n",
    "plt.xlim(-10,10)\n",
    "plt.ylim(0,0.03)\n",
    "plt.xlabel('Bed elevation $z_1 m$ [units of $a$]')\n",
    "#plt.ylabel('Probability distribution')\n",
    "handles, labels = plt.gca().get_legend_handles_labels()\n",
    "order = [1,2,3,0]\n",
    "plt.legend([handles[idx] for idx in order],[labels[idx] for idx in order],borderpad=0.25,handlelength=1.0)\n",
    "rcParams['lines.markersize']=5\n",
    "\n",
    "\n",
    "\n",
    "textstr = '(b)'\n",
    "props = dict(boxstyle='round', facecolor='white', edgecolor='white', alpha=0.5)\n",
    "ax = plt.gca()\n",
    "ax.text(0.07, 0.95, textstr, transform=ax.transAxes, fontsize=30,\n",
    "        verticalalignment='top', bbox=props)\n",
    "\n",
    "\n",
    "\n",
    "\n",
    "plt.savefig('../jgr/figures/ele.pdf',bbox_inches='tight',dpi=600)\n",
    "#plt.legend(borderpad=0,handlelength=1.0)"
   ]
  },
  {
   "cell_type": "code",
   "execution_count": null,
   "metadata": {
    "collapsed": true
   },
   "outputs": [],
   "source": [
    "m = np.linspace(-25,25,100)\n",
    "plt.plot(m,gaussian(m,0.05,0,2), color='black')\n",
    "#plt.ylabel('$p(m)$',fontsize=35)\n",
    "plt.xlim(-20,20)\n",
    "plt.ylim(0,0.055)\n",
    "plt.tick_params(axis=None, which='both', bottom=False, left=False,labelleft=False)\n",
    "plt.xticks(None)\n",
    "ax = plt.gca()\n",
    "ax.tick_params(axis='x', which='major', labelsize=35)\n",
    "\n",
    "ax.annotate('', xy=(0.99,0), xycoords='axes fraction', xytext=(15,0), \n",
    "            textcoords='offset points', ha='center',\n",
    "            arrowprops=dict(arrowstyle='<|-', shrinkA=0, shrinkB=0, \n",
    "                           facecolor='black'))\n",
    "ax.annotate('', xy=(0.5,0.99), xycoords='axes fraction', xytext=(0,15), \n",
    "            textcoords='offset points', ha='center',\n",
    "            arrowprops=dict(arrowstyle='<|-', shrinkA=0, shrinkB=0, \n",
    "                           facecolor='black'))\n",
    "ax.annotate('', xy=(0.01,0), xycoords='axes fraction', xytext=(-15,0), \n",
    "            textcoords='offset points', ha='center',\n",
    "            arrowprops=dict(arrowstyle='<|-', shrinkA=0, shrinkB=0, \n",
    "                           facecolor='black'))\n",
    "ax.spines['right'].set_visible(False)\n",
    "ax.spines['left'].set_visible(False)\n",
    "ax.spines['left'].set_position('center')\n",
    "\n",
    "ax.spines['left'].set_linewidth=8\n",
    "ax.spines['bottom'].set_linewidth=8\n",
    "ax.spines['top'].set_visible(False)\n",
    "ax.yaxis.set_label_coords(0.48,0.25)\n",
    "plt.savefig('../jgr/figures/gauss.png',bbox_inches='tight',dpi=600,pad_inches=0)"
   ]
  },
  {
   "cell_type": "code",
   "execution_count": null,
   "metadata": {
    "collapsed": true
   },
   "outputs": [],
   "source": [
    "# get the real pdf\n",
    "dats = np.load('../data/flow_a-l_0.6-time_1500.0hr_CAT.npy')"
   ]
  },
  {
   "cell_type": "code",
   "execution_count": null,
   "metadata": {
    "collapsed": true
   },
   "outputs": [],
   "source": [
    "# final figure .. show series of bedload transport and bed elevation"
   ]
  },
  {
   "cell_type": "code",
   "execution_count": null,
   "metadata": {
    "collapsed": true
   },
   "outputs": [],
   "source": [
    "n,m,t = dats.T"
   ]
  },
  {
   "cell_type": "code",
   "execution_count": null,
   "metadata": {
    "collapsed": true
   },
   "outputs": [],
   "source": [
    "mask = ( t > 500 ) & ( t < 500 + 3600*3 ) "
   ]
  },
  {
   "cell_type": "code",
   "execution_count": null,
   "metadata": {
    "collapsed": true
   },
   "outputs": [],
   "source": [
    "from matplotlib import rcParams\n",
    "rcParams['axes.labelsize'] = 20\n",
    "rcParams['xtick.labelsize'] = 12\n",
    "rcParams['ytick.labelsize'] = 12\n",
    "rcParams['legend.fontsize'] = 16\n",
    "from matplotlib import rcParams\n",
    "rcParams['font.serif'] = ['Computer Modern Roman']\n",
    "rcParams['text.usetex'] = True\n",
    "rcParams['figure.figsize'] = 12,5\n",
    "rcParams.update({'font.size': 22})\n",
    "rcParams['lines.linewidth']=1\n",
    "rcParams['lines.markersize']=5"
   ]
  },
  {
   "cell_type": "code",
   "execution_count": null,
   "metadata": {
    "collapsed": true,
    "scrolled": true
   },
   "outputs": [],
   "source": [
    "color = (101,73,48,192)\n",
    "color = tuple(np.array(color)/255.0)\n",
    "plt.plot((t[mask]-t[mask].min())/3600,(m[mask]-m.mean())*z1,color='black')\n",
    "#plt.xlabel('Time [hours]')\n",
    "#plt.ylabel('Bed elevation [units of $a$]')\n",
    "#plt.gcf().set_size_inches(15, 5)\n",
    "plt.xlim(-0.01,3.01)\n",
    "plt.ylim(-2.5,2.5)\n",
    "#plt.hlines(0,0,3)\n",
    "ax.spines['top'].set_visible(False)\n",
    "ax.spines['right'].set_visible(False)\n",
    "ax.spines['bottom'].set_visible(False)\n",
    "ax.spines['left'].set_visible(False)\n",
    "ax.get_xaxis().set_ticks([])\n",
    "ax.get_yaxis().set_ticks([])\n",
    "plt.tick_params(top='off', bottom='off', left='off', right='off', labelleft='off', labelbottom='off')\n",
    "for spine in plt.gca().spines.values():\n",
    "    spine.set_visible(False)\n",
    "plt.savefig('../jgr/figures/bed_ele.pdf',bbox_inches='tight',dpi=600,pad_inches=0)"
   ]
  },
  {
   "cell_type": "markdown",
   "metadata": {},
   "source": [
    "# now study the deviations of the mean and variance versus l"
   ]
  },
  {
   "cell_type": "code",
   "execution_count": 77,
   "metadata": {
    "scrolled": true
   },
   "outputs": [
    {
     "data": {
      "image/png": "iVBORw0KGgoAAAANSUhEUgAAAYEAAAEvCAYAAACjT326AAAABHNCSVQICAgIfAhkiAAAAAlwSFlz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\n",
      "text/plain": [
       "<Figure size 432x360 with 1 Axes>"
      ]
     },
     "metadata": {},
     "output_type": "display_data"
    }
   ],
   "source": [
    "# first view the mean of m versus l\n",
    "x = [d['l'] for d in data]\n",
    "y = [d['m_stats']['m_mean'] for d in data]\n",
    "cols = [d['color'] for d in data]\n",
    "for a,b,c in zip(x,y,cols):\n",
    "    plt.scatter(a,b,color=c)"
   ]
  },
  {
   "cell_type": "code",
   "execution_count": 82,
   "metadata": {},
   "outputs": [
    {
     "data": {
      "text/plain": [
       "'g'"
      ]
     },
     "execution_count": 82,
     "metadata": {},
     "output_type": "execute_result"
    }
   ],
   "source": [
    "d['flow']"
   ]
  },
  {
   "cell_type": "code",
   "execution_count": 116,
   "metadata": {},
   "outputs": [],
   "source": [
    "# compute the equilibrium position entrainment and deposition rates accounted for the shifted means of m\n",
    "migration_in = {'a':5.45,'g':7.74,'i':15.56,'l':15.52,'n':15.45} # migration in \n",
    "entrainment = {'a':6.59,'g':8.42,'i':22.07,'l':14.64,'n':24.49} # normal entrainment\n",
    "deposition = {'a':4.67,'g':4.95,'i':4.52,'l':4.77,'n':4.21} # deposition\n",
    "migration_out = {'a':0.77,'g':0.56,'i':0.68,'l':0.48,'n':0.36} # migration out\n",
    "collective_entrainment = {'a':3.74,'g':4.34,'i':3.56,'l':4.32,'n':3.64} # collective entrainment\n",
    "\n",
    "# now recompute the parameters using m_mean\n",
    "def compute_entrainment(m_mean,flow,l):\n",
    "    # this is the mean entrainment rate rescaled by bed elevation\n",
    "    m0 = 50000\n",
    "    X = entrainment[flow]\n",
    "    return X*(1+z1**2*(m_mean-m0)/(2*l)**2)\n",
    "\n",
    "def compute_collective_entrainment(m_mean,flow,l):\n",
    "    # this is the mean collective entrainment rate rescaled by bed elevation\n",
    "    m0 = 50000\n",
    "    X = collective_entrainment[flow]\n",
    "    return X*(1+z1**2*(m_mean-m0)/(2*l)**2)\n",
    "\n",
    "def compute_deposition(m_mean,flow,l):\n",
    "    # this is the mean deposition rate rescaled to the actual mean bed elevation\n",
    "    m0 = 50000\n",
    "    X = deposition[flow]\n",
    "    return X*(1-z1**2*(m_mean-m0)/(2*l)**2)\n",
    "\n",
    "for d in data:\n",
    "    l = d['l']\n",
    "    flow = d['flow']\n",
    "    m_mean = d['m_stats']['m_mean']\n",
    "    lamb0 = migration_in[flow]\n",
    "    lamb1 = compute_entrainment(m_mean,flow,l)\n",
    "    mu = compute_collective_entrainment(m_mean,flow,l)\n",
    "    sig = compute_deposition(m_mean,flow,l)\n",
    "    nu = migration_out[flow]\n",
    "    \n",
    "    alph = sig+nu\n",
    "    lamb = lamb0 + lamb1\n",
    "    \n",
    "    n_mean = lamb/(alph-mu)\n",
    "    n_var = lamb*alph/(alph-mu)**2\n",
    "    d['shift_n_stats']={'n_mean':n_mean,'n_var':n_var}\n",
    "    d['n_correlation_time']=1/(alph-mu)"
   ]
  },
  {
   "cell_type": "code",
   "execution_count": 101,
   "metadata": {
    "scrolled": true
   },
   "outputs": [
    {
     "data": {
      "image/png": "iVBORw0KGgoAAAANSUhEUgAAAW8AAAEzCAYAAAD+cIKYAAAABHNCSVQICAgIfAhkiAAAAAlwSFlz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\n",
      "text/plain": [
       "<Figure size 432x360 with 1 Axes>"
      ]
     },
     "metadata": {},
     "output_type": "display_data"
    }
   ],
   "source": [
    "# first plot the percent deviation of the mean versus l \n",
    "\n",
    "# you have to consider it versus the expected values from the shifted mean\n",
    "x = [d['l'] for d in data]\n",
    "y1 = np.array([d['n_stats']['n_mean'] for d in data])\n",
    "y2 = np.array([d['shift_n_stats']['n_mean'] for d in data])\n",
    "y = (y1-y2)*100/y2\n",
    "cols = [d['color'] for d in data]\n",
    "for i in range(len(y1)):\n",
    "    plt.scatter(x[i],y[i],color=cols[i])\n",
    "#plt.plot(x,y,'x',color=cols)"
   ]
  },
  {
   "cell_type": "code",
   "execution_count": 138,
   "metadata": {},
   "outputs": [
    {
     "data": {
      "text/plain": [
       "{'a': 'red', 'g': 'magenta', 'i': 'green', 'l': 'orange', 'n': 'blue'}"
      ]
     },
     "execution_count": 138,
     "metadata": {},
     "output_type": "execute_result"
    }
   ],
   "source": [
    "colors"
   ]
  },
  {
   "cell_type": "code",
   "execution_count": 170,
   "metadata": {},
   "outputs": [
    {
     "data": {
      "image/png": "iVBORw0KGgoAAAANSUhEUgAAAYIAAAEvCAYAAABIeMa5AAAABHNCSVQICAgIfAhkiAAAAAlwSFlz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\n/wf/jYH3qHNRMQAAAABJRU5ErkJggg==\n",
      "text/plain": [
       "<Figure size 432x360 with 1 Axes>"
      ]
     },
     "metadata": {},
     "output_type": "display_data"
    }
   ],
   "source": [
    "# then plot the percent deviation of the variance versus l \n",
    "tn = np.array([d['n_correlation_time'] for d in data]) # correlation time of n\n",
    "tb = np.array([d['l']/(z1*d['E']) for d in data]) # correlation time of m\n",
    "x = [1/d['l']**2 for d in data]\n",
    "#E = np.array([d['E'] for d in data])\n",
    "#x = (tn/tb)**2\n",
    "y1 = np.array([d['n_stats']['n_var']/d['n_stats']['n_mean']**2 for d in data])\n",
    "y2 = np.array([d['shift_n_stats']['n_var']/d['shift_n_stats']['n_mean']**2 for d in data])\n",
    "y =(y1-y2)/y2\n",
    "cols = [d['color'] for d in data]\n",
    "for i in range(len(y1)):\n",
    "    plt.scatter(x[i],y[i],color=cols[i])\n",
    "#plt.plot(x,y,'x',color=cols)"
   ]
  },
  {
   "cell_type": "code",
   "execution_count": 172,
   "metadata": {},
   "outputs": [
    {
     "data": {
      "text/plain": [
       "0.020943951023931956"
      ]
     },
     "execution_count": 172,
     "metadata": {},
     "output_type": "execute_result"
    }
   ],
   "source": [
    "z1"
   ]
  },
  {
   "cell_type": "code",
   "execution_count": 171,
   "metadata": {},
   "outputs": [
    {
     "data": {
      "text/plain": [
       "0.0003046174197867086"
      ]
     },
     "execution_count": 171,
     "metadata": {},
     "output_type": "execute_result"
    }
   ],
   "source": [
    "z1**2/1.2**2"
   ]
  },
  {
   "cell_type": "code",
   "execution_count": 72,
   "metadata": {},
   "outputs": [
    {
     "data": {
      "image/png": "iVBORw0KGgoAAAANSUhEUgAAAXkAAAEvCAYAAACg1LHXAAAABHNCSVQICAgIfAhkiAAAAAlwSFlz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\n",
      "text/plain": [
       "<Figure size 432x360 with 1 Axes>"
      ]
     },
     "metadata": {},
     "output_type": "display_data"
    }
   ],
   "source": [
    "# now scale by the correlation time of the bed elevations\n",
    "x = [d['l'] for d in data]\n",
    "y1 = np.array([d['n_stats']['n_var'] for d in data])\n",
    "y2 = np.array([d['ancey_n_stats']['n_var'] for d in data])\n",
    "y = (y1-y2)*100/y2\n",
    "cols = [d['color'] for d in data]\n",
    "for i in range(len(y1)):\n",
    "    plt.scatter(x[i],y[i],color=cols[i])\n",
    "#plt.plot(x,y,'x',color=cols)\n",
    "\n",
    "# mean shift decreases with increasing E\n",
    "# i.e. shrinking T_bed\n",
    "# "
   ]
  },
  {
   "cell_type": "code",
   "execution_count": null,
   "metadata": {
    "collapsed": true
   },
   "outputs": [],
   "source": []
  },
  {
   "cell_type": "markdown",
   "metadata": {
    "collapsed": true
   },
   "source": [
    "# Now try to get the correlation function of m"
   ]
  },
  {
   "cell_type": "code",
   "execution_count": 3,
   "metadata": {
    "collapsed": true
   },
   "outputs": [],
   "source": [
    "file = '../data/flow_a-l_0.6-time_1500.0hr_CAT.npy'\n",
<<<<<<< HEAD
    "n,m,t = np.load(file).T"
=======
    "_,m,t = np.load(file,).T"
>>>>>>> df9cb5e0d9492bcf7534c092c6904527ea982b1b
   ]
  },
  {
   "cell_type": "code",
   "execution_count": 5,
   "metadata": {
    "collapsed": true
   },
   "outputs": [],
   "source": [
    "from scipy.interpolate import interp1d\n",
    "from scipy.signal import correlate\n",
    "import pycorrelate as pyc\n",
    "#time = 500*3600 # take 1/3 of the data\n",
    "tt = t[t<time]\n",
    "mm = m[t<time]\n",
    "nn = n[t<time]\n",
    "mm = mm-mm.mean()\n",
    "nn = nn-nn.mean()"
   ]
  },
  {
   "cell_type": "code",
   "execution_count": 30,
   "metadata": {
    "collapsed": true
   },
   "outputs": [],
   "source": [
    "dt = 0.1\n",
    "t1 = np.arange(0, time, dt)\n",
    "f1 = interp1d(tt, mm, fill_value='extrapolate')\n",
    "f2 = interp1d(tt, nn, fill_value='extrapolate')\n",
    "m1 = f1(t1)\n",
    "n1 = f2(t1)\n",
    "#plt.plot(t1,m1,'x',color='red')\n",
    "#plt.plot(tt,mm,color='blue',zorder=-1)\n",
    "# this seems good enough."
   ]
  },
  {
   "cell_type": "code",
   "execution_count": 31,
   "metadata": {},
   "outputs": [
    {
     "name": "stderr",
     "output_type": "stream",
     "text": [
      "/home/kpierce/anaconda3/lib/python3.6/site-packages/scipy/signal/signaltools.py:491: FutureWarning: Using a non-tuple sequence for multidimensional indexing is deprecated; use `arr[tuple(seq)]` instead of `arr[seq]`. In the future this will be interpreted as an array index, `arr[np.array(seq)]`, which will result either in an error or a different result.\n",
      "  return x[reverse].conj()\n"
     ]
    }
   ],
   "source": [
    "cm = correlate(m1,m1)[-len(m1):] \n",
    "cm = cm/cm.max()\n",
    "cn = correlate(n1,n1)[-len(n1):] \n",
    "cn = cn/cn.max()\n",
    "cnm = correlate(n1,m1)[-len(n1):]\n",
    "cnm = cnm/cnm.max()"
   ]
  },
  {
   "cell_type": "code",
   "execution_count": 32,
   "metadata": {
    "scrolled": false
   },
   "outputs": [
    {
     "data": {
      "text/plain": [
       "<matplotlib.legend.Legend at 0x7fd7a8a48630>"
      ]
     },
     "execution_count": 32,
     "metadata": {},
     "output_type": "execute_result"
    },
    {
     "name": "stderr",
     "output_type": "stream",
     "text": [
      "/home/kpierce/anaconda3/lib/python3.6/site-packages/IPython/core/pylabtools.py:122: UserWarning: Creating legend with loc=\"best\" can be slow with large amounts of data.\n",
      "  fig.canvas.print_figure(bytes_io, **kw)\n"
     ]
    },
    {
     "data": {
      "image/png": "iVBORw0KGgoAAAANSUhEUgAAAX0AAAD4CAYAAAAAczaOAAAABHNCSVQICAgIfAhkiAAAAAlwSFlz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\ntCES+kII0YZI6AshRBsioS+EEG3I/wNmu7U6w4PqYgAAAABJRU5ErkJggg==\n",
      "text/plain": [
       "<Figure size 432x288 with 1 Axes>"
      ]
     },
     "metadata": {},
     "output_type": "display_data"
    }
   ],
   "source": [
    "d, = [d for d in data if d['l']==0.6 and d['flow']=='a']\n",
    "l = 0.6\n",
    "b = 2*l**2\n",
    "a = d['a']\n",
    "\n",
    "plt.plot(t1,cm,label='empirical autocorr of m')\n",
    "plt.xlim(0,600)\n",
    "def f(t,tt):\n",
    "    return np.exp(-t/tt)\n",
    "plt.plot(t1,f(t1,a/b),zorder=-1,color='purple',label='ornstein autocorr m')\n",
    "plt.legend()\n"
   ]
  },
  {
   "cell_type": "code",
   "execution_count": 45,
   "metadata": {
    "scrolled": false
   },
   "outputs": [
    {
     "data": {
      "text/plain": [
       "(0, 10)"
      ]
     },
     "execution_count": 45,
     "metadata": {},
     "output_type": "execute_result"
    },
    {
     "data": {
      "image/png": "iVBORw0KGgoAAAANSUhEUgAAAXoAAAD4CAYAAADiry33AAAABHNCSVQICAgIfAhkiAAAAAlwSFlz\nAAALEgAACxIB0t1+/AAAADh0RVh0U29mdHdhcmUAbWF0cGxvdGxpYiB2ZXJzaW9uMy4xLjAsIGh0\ndHA6Ly9tYXRwbG90bGliLm9yZy+17YcXAAAZQ0lEQVR4nO3dfXRU933n8fd3ZiSBJCTQAwKEjAQG\nbIxNYgvbabbYadwE7Na4bbyxt2kSn+5STu089GRP4/Rxz+l2N7tp+uDaCeU4JGnq2k0cN3W6xG4T\nJ3YeaoxwbAPBgIJ4EBiQzINAQkij+e4fM0LDIKSRGOnOXH1e5+jM3Ht/d+53rkafe/Wb+2DujoiI\nhFck6AJERGRiKehFREJOQS8iEnIKehGRkFPQi4iEXCyoBdfU1HhjY2NQixcRKUjbtm3rdPfascwT\nWNA3NjbS0tIS1OJFRAqSmR0Y6zzquhERCTkFvYhIyCnoRURCTkEvIhJyCnoRkZAbNejNbJOZHTez\nHZeZbmb2iJm1mtkbZnZj7ssUEZHxymaP/ivA6hGmrwEWp37WAV+88rJERCRXRg16d38JODFCk7XA\n33vSy8BMM5s72useP3M++ypFRGTcctFHXw8cShtuT427hJmtM7MWM2s51tVLfCCRg8WLiMhIchH0\nNsy4Ye9m4u4b3b3Z3ZsB2k+ey8HiRURkJLkI+nagIW14PnAkmxnb3u7OweJFRGQkuQj6Z4EPp46+\nuRU47e5vZTPj/k4FvYjIRBv1omZm9iRwO1BjZu3AnwJFAO6+AdgM3Am0Aj3AA9ksOGJGm4JeRGTC\njRr07n7/KNMdeHCsCy6JRRT0IiKTILAzYxX0IiKTI7CgL45FOHzqHOfjA0GVICIyJQS4Rx/FHQ6+\n3RNUCSIiU0KgXTeAum9ERCZYoF03oKAXEZlogQV9NGJUlxWzXydNiYhMqECvR99YU6Y9ehGRCRZo\n0Dcp6EVEJlzgQX+s6zzd5+NBliEiEmrBdt1UlwGon15EZAIFvkcPsL9Tx9KLiEyUgL+MLQWgrfNs\nkGWIiIRaoEFfWhxjTsU02rRHLyIyYQINekju1auPXkRk4gQe9E015TrEUkRkAuVB0JdyoruP0z39\nQZciIhJKeRD05YDuHysiMlECD/qFtclDLH9+XEfeiIhMhMCDfkFVKUVRY6+CXkRkQgQe9LFohIU1\n5bQePxN0KSIioRR40AMsritnzzHt0YuITIT8CPrZMzh0sodzfbp/rIhIruVH0NeV4w4/79BevYhI\nruVF0C+pSx5iuVf99CIiOZcXQb+guoyiqKmfXkRkAuRF0BdFIzTVlLFXQS8iknN5EfSQ/EJWXTci\nIrmXP0FfV87BEz309uvIGxGRXMqfoJ89A3do1RmyIiI5lT9BnzryRkEvIpJbeRP0jdVlxCKmfnoR\nkRzLKujNbLWZ7TazVjN7eJjplWb2bTN73cx2mtkDYy2kOBahsaZMh1iKiOTYqEFvZlHgMWANsAy4\n38yWZTR7EPiZu68Abgc+b2bFYy1mSV25um5ERHIsmz36m4FWd9/n7n3AU8DajDYOzDAzA8qBE0B8\nrMVcPXsGB97u1pE3IiI5lE3Q1wOH0obbU+PSPQpcCxwBtgOfcPdE5guZ2TozazGzlo6OjksWtKSu\nnITDvg7dbUpEJFeyCXobZpxnDL8feA2YB7wDeNTMKi6ZyX2juze7e3Ntbe0lL7p49gxA17wREcml\nbIK+HWhIG55Pcs893QPAM57UCrQB14y1mKaaMqIR06UQRERyKJug3wosNrOm1Bes9wHPZrQ5CLwX\nwMzqgKXAvrEWUxxLXvPmzaNdY51VREQuIzZaA3ePm9lDwPNAFNjk7jvNbH1q+gbgz4CvmNl2kl09\nn3b3zvEUtHxeBS/vOzGeWUVEZBijBj2Au28GNmeM25D2/AjwvlwUtLy+km+9doSOM+epnVGSi5cU\nEZnS8ubM2EHL6ysB2HHkdMCViIiEQ94F/bJ5yYN1dh5W0IuI5ELeBX3FtCKaasrYcVhfyIqI5ELe\nBT3AdfMq2K49ehGRnMjLoL++vpLDp85xsrsv6FJERApeXga9vpAVEcmd/Az6eamgVz+9iMgVy8ug\nrywtoqFqOjvUTy8icsXyMugh2U+vrhsRkSuXt0F/3bxKDrzdw+lz/UGXIiJS0PI26K9PfSG7U3v1\nIiJXJG+D/sKRN+qnFxG5Inkb9FVlxdTPnK4jb0RErlDeBj0kz5DVHr2IyJXJ66C/YX4l+zq7Od2j\nL2RFRMYrr4P+pgVVALx68GTAlYiIFK68Dvp3NMwkFjG27tcdp0RExiuvg356cZTl9ZW07NcevYjI\neOV10AM0L5jFa+2nOB8fCLoUEZGClP9B31hFXzyho29ERMapAIJ+FgBb1X0jIjIueR/0NeUlLKwp\no0VfyIqIjEveBz0k9+pbDpwkkfCgSxERKTgFEvRVnOrpZ1/n2aBLEREpOIUR9AvUTy8iMl4FEfRN\nNWVUlxXrxCkRkXEoiKA3s2Q/vfboRUTGrCCCHmBlYxUHT/RwrKs36FJERApKwQR9c2PyAmevtKn7\nRkRkLAom6JfPq2DGtBg/3NsRdCkiIgUlq6A3s9VmttvMWs3s4cu0ud3MXjOznWb2Ym7LhFg0wn+6\nuoaX9nTiruPpRUSyNWrQm1kUeAxYAywD7jezZRltZgJfAO529+uAeyegVlYtqeVoVy97j+t4ehGR\nbGWzR38z0Oru+9y9D3gKWJvR5r8Az7j7QQB3P57bMpNWLakF4KU96r4REclWNkFfDxxKG25PjUu3\nBJhlZj8ws21m9uHhXsjM1plZi5m1dHSMPazrZ07n6tnlvKigFxHJWjZBb8OMy+wkjwE3AXcB7wf+\n2MyWXDKT+0Z3b3b35tra2jEXC7BqcS2vtJ2gt1/XpxcRyUY2Qd8ONKQNzweODNPmOXfvdvdO4CVg\nRW5KvNiqJTWcjyfYosMsRUSykk3QbwUWm1mTmRUD9wHPZrT5F+AXzSxmZqXALcCu3JaadEtTNcWx\niPrpRUSyFButgbvHzewh4HkgCmxy951mtj41fYO77zKz54A3gATwuLvvmIiCpxdHuaWpSkEvIpKl\nUYMewN03A5szxm3IGP4c8LnclXZ5qxbX8uebd3Hk1DnmzZw+GYsUESlYBXNmbLrblia/yNVZsiIi\noyvIoF88u5y5ldP4/psKehGR0RRk0JsZd1xbx4t7OujpiwddjohIXivIoAdYc/0czvUP8IPd2qsX\nERlJwQb9LU3VVJcVs3n7W0GXIiKS1wo26KMR4/3L5/DCm8d1lqyIyAgKNugB7rp+Lj196r4RERlJ\nQQf9LU1VzCot4js71H0jInI5BR30sWiE9183h+/tUveNiMjlFHTQA9x5/VzOno/zw72dQZciIpKX\nCj7o37WompmlRTr6RkTkMgo+6IuiEd63rI7v/uyYum9ERIZR8EEPcM876jlzPs7zO48GXYqISN4J\nRdDfurCaq6pKefKVg0GXIiKSd0IR9JGI8cGVDby87wRtnd1BlyMikldCEfQAH7hpPtGI8fWWQ6M3\nFhGZQkIT9HUV03jP0tl8o6Wd/oFE0OWIiOSN0AQ9wH0rG+g8e54X3jwedCkiInkjVEF/+9Ja6ipK\n+Ket6r4RERkUqqCPRSPce1MDP9h9nLdOnwu6HBGRvBCqoAf44MoGHPiHlw8EXYqISF4IXdA3VJWy\n+ro5fO0/DnD2vG4zKCISuqAHWH/bIrp64zy5RSdQiYiEMuhXNMzkXQur+dKP2uiL61BLEZnaQhn0\nAOtvX8TRrl6+9drhoEsREQlUaIN+1eIals2t4O9e/DmJhAddjohIYEIb9GbG+tsX8fOObv5917Gg\nyxERCUxogx7gzuVzuKqqlEdfaNVevYhMWaEO+lg0wifvWMz2w6f59htHgi5HRCQQoQ56SN6U5Lp5\nFfzf53brDlQiMiWFPugjEeMP77yWw6fO8dWf7A+6HBGRSZdV0JvZajPbbWatZvbwCO1WmtmAmX0g\ndyVeuV+4uob3LK3l0e+3crK7L+hyREQm1ahBb2ZR4DFgDbAMuN/Mll2m3f8Bns91kbnwmTuvpft8\nnEde2Bt0KSIikyqbPfqbgVZ33+fufcBTwNph2n0M+CaQlxeDX1I3gw+ubOBr/3GA3UfPBF2OiMik\nySbo64H0C7y3p8ZdYGb1wK8BG0Z6ITNbZ2YtZtbS0dEx1lqv2H9/31Iqphfx+998gwEdbikiU0Q2\nQW/DjMtMyb8GPu3uIx7W4u4b3b3Z3Ztra2uzrTFnqstL+B93X8frh06x6Udtk758EZEgZBP07UBD\n2vB8IPOg9GbgKTPbD3wA+IKZ3ZOTCnPsV2+Yyy8vq+Mv/m03bZ3dQZcjIjLhsgn6rcBiM2sys2Lg\nPuDZ9Abu3uTuje7eCDwN/K67fyvn1eaAmfE/71lOSSzCp7/5hs6YFZHQGzXo3T0OPETyaJpdwNfd\nfaeZrTez9RNd4ESoq5jGH/3KMl5pO8GmH6sLR0TCLZZNI3ffDGzOGDfsF6/u/tErL2vi3XvTfL63\n6xif/c6brGiYycrGqqBLEhGZEKE/M/ZyzIzP3buChqpSHnziVY6f6Q26JBGRCTFlgx6gYloRGz50\nE2d64zz0jz+lf0B3oxKR8JnSQQ+wdM4M/vevX88rbSf4X5t3BV2OiEjOZdVHH3b3vLOe19tP8eUf\n76euYhrrb1sUdEkiIjmjoE/547uW0Xm2j89+501mlRbxwZVXBV2SiEhOKOhTIhHj8/eu4PS5fj7z\nzHYqpxexevncoMsSEbliU76PPl1xLMKGD93IioaZfPzJ13hux1tBlyQicsUU9BlKi2N85aM3s7y+\ngt994lWe2HIg6JJERK6Ign4YlaVFPPFfb+W2JbX84T/v4G++uxd3XSpBRAqTgv4yphdH2fjhZn79\nxnr+6rt7+NQ3Xudcn+45KyKFR1/GjqAoGuHz966gYVYpj7ywl58d6eILv3kjC2vLgy5NRCRr2qMf\nhZnxe7+8hC9/dCXHunq5+9Ef8+3XM6/SLCKSvxT0Wbp96Wz+38d/kcV15XzsyZ/yO19r4ViXro8j\nIvlPQT8G82ZO5xu/8y4eXnMNP9jdwR1/+SL/uOWgrmkvInlNQT9GsWiE9bct4vlPruK6eRX8wT9v\n566//REv7unQkTkikpcU9OPUWFPGk//tVh65/52cPd/PRza9woe+tIVtB04GXZqIyEUsqL3Q5uZm\nb2lpCWTZudYXT/DElgP87QutnOjuo3nBLNatWsgd19YRiQx3b3URkfExs23u3jymeRT0udPTF+fr\nWw/x+I/aaD95jsbqUu5tbuA3bpzPnMppQZcnIiGgoM8T8YEEm3cc5YmXD7Cl7QQRg9uW1HLXDfO4\n49rZzCwtDrpEESlQ4wl6nTA1AWLRCHevmMfdK+axv7Obp7e188yr7Xx/9+tEI8atC6t47zV1rFpS\nw6LacszUvSMiE0d79JPE3dl++DTP7TjKczuPsq+jG4B5ldN499U1NDfO4qYFs1hYU65+fRG5LHXd\nFJBDJ3r44d5OXtrTwZa2tznZ0w9A5fQirq+vZHl9JcvrK7hmzgwWVJdRFNUBUiKioC9Y7s6+zm62\n7T/JqwdPsuPIaXYfPUP/QPJ3E4sYV1WXsrCmnAXVpVxVVUpD1XTmVk5nTsU0ZpYWqftHZIpQH32B\nMjMW1ZazqLac/7yyAUgesrnn2Bn2Hj9D6/GztB4/S1tnNz9u7eRc/8VX0SyJRZhdUUJNeQm15SXU\nzCihuqyYqtTPrNLkz8zSIiqmFzGjJKbuIZEpREGfp4pjkVT3TeVF492dzrN9HDzRw7GuXt463cux\nrl6Od/XSebaPA2/3sO3ASU729HG5KzOYQXlxjBnTYpSVxCgtiVFWHKW0OMq0ouTj9KLk85KiKNOK\nIhRHI5TEIhTHIhRF03+MWDRCLGLJn2iybSxqyWmRCNGIURSNEIlA1IxoZOgnYkOPEUP/mYhMAAV9\ngTEzameUUDujZMR2Awnn9Ll+TnSf51RPPyd7+jnZ00fXuX66euN0nevnTG+cnr443X0DdJ+Pc6qn\nn97+AXr6BuiND9DbP0Bvf2KS3lmSWXJjEIkkg3/o+dCGwEg+RgwiZphxYRxAJAJGWvu06ZaxrIuW\njV0YN/j60YhdtKyLaxiaZ7COkd9b+nwX13O5DtThpmd2tzowOMqHaTM0zUkkIOGOe3I4+ZhsP/g6\nnj7TpW/iQl2Z7yPz/We+xIV1yzAryobqTniyxoQPDifrHBxOrz2RqpuM9z/cerq4lqHf2+DvNha1\niz5v0cHPTtrvN9n+4s/B0Hsb7bc5zBsetr2lvebQmMHlj4eCPqSiEbvQdXMlEgmnbyDB+XiCvniC\nvoEE/fEE8USCvrjTP5AgnnDiqcf+gQTxgeRjf8IZSCToH3DiA86AO4mEM5BI/vHGU8/dnYHE4B/3\n4HTSnifnS1z0Bw6kBxdcCADSAiAzHAZlZkD69MGwSySSNbsP1ZZIpALTwRPgJC5MT1Y09Hrpf5Pp\nAZpea3q7zAD0jABIn37pRoqLQnhwcOh58tlgeCU3hpELQZa5kRspuAc3DOnrLX19XvSeLGPeYTIw\nfb3HopGMUL104z5Y7+AGnYwN/Ugb80HpG5HBz9tA2mdz8Hc94I4nYIDERRugRMIv/rxcZqM2nPT1\nePGG4tINdnLc0HISw63ALCjoZUSRiDEtkuzGEZHg2afGPo+O2RMRCTkFvYhIyGUV9Ga22sx2m1mr\nmT08zPTfNLM3Uj8/MbMVuS9VRETGY9SgN7Mo8BiwBlgG3G9myzKatQG3ufsNwJ8BG3NdqIiIjE82\ne/Q3A63uvs/d+4CngLXpDdz9J+4+eMeNl4H5uS1TRETGK5ugrwcOpQ23p8Zdzm8D3xlugpmtM7MW\nM2vp6OjIvkoRERm3bIJ+uCNChz2Y08zeQzLoPz3cdHff6O7N7t5cW1ubfZUiIjJu2RxH3w40pA3P\nB45kNjKzG4DHgTXu/nZuyhMRkSuVzR79VmCxmTWZWTFwH/BsegMzuwp4Bvgtd9+T+zJFRGS8Rt2j\nd/e4mT0EPA9EgU3uvtPM1qembwD+BKgGvpA6DTk+1stoiojIxND16EVECsh4rkevM2NFREJOQS8i\nEnIKehGRkFPQi4iEnIJeRCTkFPQiIiGnoBcRCTkFvYhIyCnoRURCTkEvIhJyCnoRkZBT0IuIhJyC\nXkQk5BT0IiIhp6AXEQk5Bb2ISMgp6EVEQk5BLyIScgp6EZGQU9CLiIScgl5EJOQU9CIiIaegFxEJ\nOQW9iEjIKehFREJOQS8iEnIKehGRkFPQi4iEnIJeRCTkFPQiIiGnoBcRCbmsgt7MVpvZbjNrNbOH\nh5luZvZIavobZnZj7ksVEZHxGDXozSwKPAasAZYB95vZsoxma4DFqZ91wBdzXKeIiIxTNnv0NwOt\n7r7P3fuAp4C1GW3WAn/vSS8DM81sbo5rFRGRccgm6OuBQ2nD7alxY22Dma0zsxYza+no6BhrrSIi\nMg7ZBL0NM87H0QZ33+juze7eXFtbm019IiJyhbIJ+nagIW14PnBkHG1ERCQA2QT9VmCxmTWZWTFw\nH/BsRptngQ+njr65FTjt7m/luFYRERmH2GgN3D1uZg8BzwNRYJO77zSz9anpG4DNwJ1AK9ADPDBx\nJYuIyFiMGvQA7r6ZZJinj9uQ9tyBB3NbmoiI5ILOjBURCTkFvYhIyCnoRURCTkEvIhJylvweNYAF\nm50Bdgey8PxTA3QGXUSe0LoYonUxROtiyFJ3nzGWGbI66maC7Hb35gCXnzfMrEXrIknrYojWxRCt\niyFm1jLWedR1IyIScgp6EZGQCzLoNwa47HyjdTFE62KI1sUQrYshY14XgX0ZKyIik0NdNyIiIaeg\nFxEJuUCCfrSbjU8VZtZgZt83s11mttPMPhF0TUEys6iZ/dTM/jXoWoJmZjPN7GkzezP1+XhX0DUF\nwcx+L/W3scPMnjSzaUHXNJnMbJOZHTezHWnjqszs381sb+px1mivM+lBn+XNxqeKOPApd78WuBV4\ncAqvC4BPALuCLiJP/A3wnLtfA6xgCq4XM6sHPg40u/tykpdJvy/YqibdV4DVGeMeBr7n7ouB76WG\nRxTEHn02NxufEtz9LXd/NfX8DMk/5kvutTsVmNl84C7g8aBrCZqZVQCrgC8BuHufu58KtqrAxIDp\nZhYDSplid65z95eAExmj1wJfTT3/KnDPaK8TRNBndSPxqcbMGoF3AluCrSQwfw38PpAIupA8sBDo\nAL6c6sp63MzKgi5qsrn7YeAvgIPAWyTvXPdvwVaVF+oG7+CXepw92gxBBH1WNxKfSsysHPgm8El3\n7wq6nslmZr8CHHf3bUHXkidiwI3AF939nUA3Wfx7Hjapvue1QBMwDygzsw8FW1VhCiLodSPxNGZW\nRDLkn3D3Z4KuJyDvBu42s/0ku/J+ycz+IdiSAtUOtLv74H93T5MM/qnmDqDN3TvcvR94BviFgGvK\nB8fMbC5A6vH4aDMEEfTZ3Gx8SjAzI9kPu8vd/zLoeoLi7p9x9/nu3kjy8/CCu0/ZPTd3PwocMrOl\nqVHvBX4WYElBOQjcamalqb+V9zIFv5QexrPAR1LPPwL8y2gzTPrVKy93s/HJriNPvBv4LWC7mb2W\nGvcHqXv0ytT2MeCJ1M7QPuCBgOuZdO6+xcyeBl4leYTaT5lil0IwsyeB24EaM2sH/hT4LPB1M/tt\nkhvDe0d9HV0CQUQk3HRmrIhIyCnoRURCTkEvIhJyCnoRkZBT0IuIhJyCXkQk5BT0IiIh9/8BsZBK\nAkxEiqsAAAAASUVORK5CYII=\n",
      "text/plain": [
       "<Figure size 432x288 with 1 Axes>"
      ]
     },
     "metadata": {},
     "output_type": "display_data"
    }
   ],
   "source": [
    "plt.plot(t1, cn, label='empirical autocorr of n')\n",
    "plt.xlim(0,10)"
   ]
  },
  {
   "cell_type": "code",
   "execution_count": 37,
   "metadata": {},
   "outputs": [
    {
     "data": {
      "text/plain": [
       "(-1, 1)"
      ]
     },
     "execution_count": 37,
     "metadata": {},
     "output_type": "execute_result"
    },
    {
     "data": {
      "image/png": "iVBORw0KGgoAAAANSUhEUgAAAYIAAAD8CAYAAAB6paOMAAAABHNCSVQICAgIfAhkiAAAAAlwSFlz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\nAhGRkPt/QULRNCySd9EAAAAASUVORK5CYII=\n",
      "text/plain": [
       "<Figure size 432x288 with 1 Axes>"
      ]
     },
     "metadata": {},
     "output_type": "display_data"
    }
   ],
   "source": [
    "plt.plot(t1/3600,cnm)\n",
    "plt.ylim(-1,1)\n",
    "#plt.xlim(100)"
   ]
  },
  {
   "cell_type": "code",
   "execution_count": null,
   "metadata": {
    "collapsed": true
   },
   "outputs": [],
   "source": [
    "import scipy\n",
    "corr(x) = scipy.signal.correlate"
   ]
  },
  {
   "cell_type": "code",
   "execution_count": null,
   "metadata": {
    "collapsed": true
   },
   "outputs": [],
   "source": [
    "# cusp at 700 \n",
    "plt.semilogy(t1,cc)\n",
    "plt.xlim(0,1000)"
   ]
  },
  {
   "cell_type": "code",
   "execution_count": null,
   "metadata": {
    "collapsed": true
   },
   "outputs": [],
   "source": [
    "time = 20*3600 # total seconds to include\n",
    "dt = 30 # sampling interval in seconds \n",
    "N = int(time/dt) \n",
    "mm = m[t<time] \n",
    "tt = np.arange(0,N*dt,dt)\n",
    "mm = scipy.signal.resample(mm,N)cc = pyc.ucorrelate(mm,mm,maxlag=maxlag)"
   ]
  },
  {
   "cell_type": "code",
   "execution_count": null,
   "metadata": {
    "collapsed": true
   },
   "outputs": [],
   "source": [
    "\n",
    "\n",
    "import scipy\n",
    "from scipy import signal \n",
    "\n",
    "def autocorr(x):\n",
    "    n = len(x)\n",
    "    variance = x.var()\n",
    "    x = x-x.mean()\n",
    "    r = np.correlate(x, x, mode = 'full')[-n:]\n",
    "    result = r/(variance*n)\n",
    "    return result"
   ]
  },
  {
   "cell_type": "code",
   "execution_count": null,
   "metadata": {
    "collapsed": true
   },
   "outputs": [],
   "source": [
    "plt.semilogy(np.arange(ml)*dt,cc/cc.max())\n",
    "plt.xlim(0,100*dt)"
   ]
  },
  {
   "cell_type": "code",
   "execution_count": null,
   "metadata": {
    "collapsed": true
   },
   "outputs": [],
   "source": [
    "cc = autocorr(mm)\n",
    "tt = tt[:cc.size]"
   ]
  },
  {
   "cell_type": "code",
   "execution_count": null,
   "metadata": {
    "collapsed": true
   },
   "outputs": [],
   "source": [
    "cc = cc[-n:]"
   ]
  },
  {
   "cell_type": "code",
   "execution_count": null,
   "metadata": {
    "collapsed": true
   },
   "outputs": [],
   "source": [
    "time = 10*3600 # total seconds to include\n",
    "dt = 30 # sampling interval in seconds \n",
    "N = int(time/dt) "
   ]
  },
  {
   "cell_type": "code",
   "execution_count": null,
   "metadata": {
    "collapsed": true
   },
   "outputs": [],
   "source": [
    "tt"
   ]
  },
  {
   "cell_type": "code",
   "execution_count": null,
   "metadata": {
    "collapsed": true
   },
   "outputs": [],
   "source": [
    "tt = np.arange(0,N*dt,dt)\n"
   ]
  },
  {
   "cell_type": "code",
   "execution_count": null,
   "metadata": {
    "collapsed": true
   },
   "outputs": [],
   "source": [
    "tt.size"
   ]
  },
  {
   "cell_type": "code",
   "execution_count": null,
   "metadata": {
    "collapsed": true
   },
   "outputs": [],
   "source": [
    "plt.semilogy(tt[tt<1000],cc[tt<1000])"
   ]
  },
  {
   "cell_type": "code",
   "execution_count": null,
   "metadata": {
    "collapsed": true
   },
   "outputs": [],
   "source": [
    "import numpy\n",
    "from numpy.fft import fft, ifft\n",
    "def xcorr(x):\n",
    "    l = 2 ** int(np.log2(x.size * 2 - 1))\n",
    "    fftx = fft(x, n = l, axis = 1)\n",
    "    ret = ifft(fftx * np.conjugate(fftx), axis = 1)\n",
    "    ret = fftshift(ret, axes=1)\n",
    "    return ret"
   ]
  },
  {
   "cell_type": "code",
   "execution_count": null,
   "metadata": {
    "collapsed": true
   },
   "outputs": [],
   "source": [
    "xcorr(mm)"
   ]
  },
  {
   "cell_type": "code",
   "execution_count": null,
   "metadata": {
    "collapsed": true
   },
   "outputs": [],
   "source": [
    "N = tt.size//1000\n",
    "ttt=np.linspace(tt.min(),tt.max(),N)\n",
    "mrs = scipy.signal.resample(mm,N)\n",
    "mrs = mrs -mrs.mean()"
   ]
  },
  {
   "cell_type": "code",
   "execution_count": null,
   "metadata": {
    "collapsed": true
   },
   "outputs": [],
   "source": [
    "plt.scatter(ttt,mrs)\n",
    "plt.plot(tt,mm-mm.mean(),color='black',zorder=-1)"
   ]
  },
  {
   "cell_type": "code",
   "execution_count": null,
   "metadata": {
    "collapsed": true
   },
   "outputs": [],
   "source": [
    "def autocorr(x):\n",
    "    result = np.correlate(x, x, mode='full')\n",
    "    return result[result.size//2:]/result.max()\n",
    "c = autocorr(mrs)\n",
    "tc = np.linspace(0,(ttt[1]-ttt[0])*c.size,c.size)"
   ]
  },
  {
   "cell_type": "code",
   "execution_count": null,
   "metadata": {
    "collapsed": true
   },
   "outputs": [],
   "source": [
    "param = np.polyfit(tc[tc<300], np.log(c[tc<300]), 1)"
   ]
  },
  {
   "cell_type": "code",
   "execution_count": null,
   "metadata": {
    "collapsed": true
   },
   "outputs": [],
   "source": [
    "np.exp(np.dot(param,np.array([1,-tf])))"
   ]
  },
  {
   "cell_type": "code",
   "execution_count": null,
   "metadata": {
    "collapsed": true
   },
   "outputs": [],
   "source": [
    "plt.loglog(tc/3600,c)\n",
    "#plt.xlim(0,600/3600)\n",
    "#plt.ylim(0,1)"
   ]
  },
  {
   "cell_type": "code",
   "execution_count": null,
   "metadata": {
    "collapsed": true
   },
   "outputs": [],
   "source": [
    "plt.plot(result,'x')"
   ]
  },
  {
   "cell_type": "code",
   "execution_count": null,
   "metadata": {
    "collapsed": true
   },
   "outputs": [],
   "source": [
    "plt.loglog(T*E*z1/l,C,'x')"
   ]
  },
  {
   "cell_type": "code",
   "execution_count": null,
   "metadata": {
    "collapsed": true
   },
   "outputs": [],
   "source": [
    "alphas = []\n",
    "sigmas = []\n",
    "for number in range(len(data)):\n",
    "    T,C = data[number]['rt_cdf'].T\n",
    "    E = data[number]['E']\n",
    "    l = d['l']\n",
    "    T = T*E*z1/l\n",
    "    pdf = np.diff(1.0-C)[(T>1e3)[1:]]\n",
    "    T = T[T>1e3]\n",
    "    plt.loglog(T,pdf,'x',color='purple')\n",
    "    n = len(pdf)\n",
    "    alpha = 1+n/np.log(TT/1e3).sum()\n",
    "    sig = (alpha+1)/np.sqrt(n)\n",
    "    print(r'alpha is ${} \\pm {}$'.format(round(alpha,3),round(sig,3)))\n",
    "    alphas.append(alpha)\n",
    "    sigmas.append(sig)\n",
    "    plt.show()"
   ]
  },
  {
   "cell_type": "code",
   "execution_count": null,
   "metadata": {
    "collapsed": true,
    "scrolled": true
   },
   "outputs": [],
   "source": [
    "# using the method explained in newman2005 gives a mean value of alpha\n",
    "np.mean(alphas)"
   ]
  },
  {
   "cell_type": "code",
   "execution_count": null,
   "metadata": {
    "collapsed": true
   },
   "outputs": [],
   "source": [
    "np.mean(sigmas)"
   ]
  },
  {
   "cell_type": "code",
   "execution_count": null,
   "metadata": {
    "collapsed": true
   },
   "outputs": [],
   "source": [
    "t,c = np.load('../correlations.npy',allow_pickle=True).item()['f']"
   ]
  },
  {
   "cell_type": "code",
   "execution_count": null,
   "metadata": {
    "collapsed": true
   },
   "outputs": [],
   "source": [
    "plt.semilogy(t[t<1000],c[t<1000])"
   ]
  },
  {
   "cell_type": "code",
   "execution_count": null,
   "metadata": {
    "collapsed": true
   },
   "outputs": [],
   "source": [
    "data"
   ]
  },
  {
   "cell_type": "code",
   "execution_count": null,
   "metadata": {
    "collapsed": true
   },
   "outputs": [],
   "source": []
  },
  {
   "cell_type": "code",
   "execution_count": null,
   "metadata": {
    "collapsed": true
   },
   "outputs": [],
   "source": []
  }
 ],
 "metadata": {
  "kernelspec": {
   "display_name": "Python 3",
   "language": "python",
   "name": "python3"
  },
  "language_info": {
   "codemirror_mode": {
    "name": "ipython",
    "version": 3
   },
   "file_extension": ".py",
   "mimetype": "text/x-python",
   "name": "python",
   "nbconvert_exporter": "python",
   "pygments_lexer": "ipython3",
   "version": "3.7.0"
  }
 },
 "nbformat": 4,
 "nbformat_minor": 2
}
