{
 "cells": [
  {
   "cell_type": "code",
   "execution_count": 1,
   "metadata": {
    "collapsed": true
   },
   "outputs": [],
   "source": [
    "import numpy as np\n",
    "import sys\n",
    "import os"
   ]
  },
  {
   "cell_type": "code",
   "execution_count": 95,
   "metadata": {},
   "outputs": [],
   "source": [
    "trial = 'a' #sys.argv[1]\n",
    "lindex = 3 #sys.argv[2]"
   ]
  },
  {
   "cell_type": "code",
   "execution_count": 97,
   "metadata": {},
   "outputs": [
    {
     "name": "stdout",
     "output_type": "stream",
     "text": [
      "concatenation completed. output saved as flow_a-l_1.2-time_27.78hr_CAT.npy\n",
      "Deleting all batch files.\n",
      "Batch files successfully deleted.\n"
     ]
    }
   ],
   "source": [
    "available_ram = 8.0\n",
    "a = 0.3 # particle radius \n",
    "lset = list(round(i*a,2) for i in range(1,11)) # set of all l values\n",
    "lval = lset[lindex] # the l value expected in the filename\n",
    "# obtain all filenames associated with the simulation 'trial' having a specified l value lval from lset associated to the index lindex you passed to the concatenator\n",
    "filenames = [f for f in os.listdir('.') if ( f.endswith('.npy') and f.split('flow')[1].split('_')[1].split('-')[0]==trial and float(f.split('-')[1].split('_')[1])==lval)]\n",
    "filenames = []\n",
    "for f in os.listdir('.'):\n",
    "    if ( f.endswith('.npy') and f.split('flow')[1].split('_')[1].split('-')[0]==trial and float(f.split('-')[1].split('_')[1])==lval) and ('CAT' not in f):\n",
    "        filenames.append(f)\n",
    "# sort all filenames associated with the trial you want to concatenate\n",
    "filenames = sorted(filenames, key = lambda f: int(f.split('_')[-1][:-4]))\n",
    "# check that all sequential files are present in this series\n",
    "sequential = [int(f.split('_')[-1][:-4]) for f in filenames] == list(range(1,len(filenames)+1)) # true or false\n",
    "# obtain the amount of ram you need to perform the concatenation\n",
    "required_ram = sum([os.path.getsize(f) for f in filenames])/1e9\n",
    "# if you have enough ram, load them all up and concatenate them\n",
    "if required_ram < available_ram and sequential:\n",
    "    files = [np.load(f) for f in filenames]\n",
    "    files = np.concatenate(files)\n",
    "    # example save name 'flow_a-l_1.2-time_27.78hr_CAT.npy'\n",
    "    savename = '_'.join(filenames[0].split('_')[:-1])+'_CAT.npy' \n",
    "    np.save(savename, files)\n",
    "    print('concatenation completed. output saved as ' + savename)\n",
    "    print('Deleting all batch files.')\n",
    "    for f in filenames:\n",
    "        os.remove(f)\n",
    "    print('Batch files successfully deleted.')\n",
    "# otherwise, don't.    \n",
    "else:\n",
    "    print('Insufficient memory.')\n",
    "    print('This process requires {}GB but you have only {}GB'.format(avaiable_ram, round(required_ram,2)))"
   ]
  },
  {
   "cell_type": "code",
   "execution_count": 92,
   "metadata": {},
   "outputs": [
    {
     "data": {
      "text/plain": [
       "'flow_a-l_1.2-time_27.78hr_CAT.npy'"
      ]
     },
     "execution_count": 92,
     "metadata": {},
     "output_type": "execute_result"
    }
   ],
   "source": [
    "'_'.join(filenames[0].split('_')[:-1])+'_CAT.npy'"
   ]
  },
  {
   "cell_type": "code",
   "execution_count": 77,
   "metadata": {
    "collapsed": true
   },
   "outputs": [],
   "source": [
    "import matplotlib.pyplot as plt\n",
    "%matplotlib inline"
   ]
  },
  {
   "cell_type": "code",
   "execution_count": 98,
   "metadata": {
    "collapsed": true
   },
   "outputs": [],
   "source": [
    "file = np.load('./flow_a-l_1.2-time_27.78hr_CAT.npy')"
   ]
  },
  {
   "cell_type": "code",
   "execution_count": 99,
   "metadata": {
    "collapsed": true
   },
   "outputs": [],
   "source": [
    "n,m,t = file.T"
   ]
  },
  {
   "cell_type": "code",
   "execution_count": 101,
   "metadata": {},
   "outputs": [
    {
     "data": {
      "text/plain": [
       "[<matplotlib.lines.Line2D at 0x7fa0219b3e10>]"
      ]
     },
     "execution_count": 101,
     "metadata": {},
     "output_type": "execute_result"
    },
    {
     "data": {
      "image/png": "[encoded data removed]",
      "text/plain": [
       "<Figure size 432x288 with 1 Axes>"
      ]
     },
     "metadata": {},
     "output_type": "display_data"
    }
   ],
   "source": [
    "plt.plot(t,m)"
   ]
  },
  {
   "cell_type": "code",
   "execution_count": null,
   "metadata": {
    "collapsed": true
   },
   "outputs": [],
   "source": []
  }
 ],
 "metadata": {
  "kernelspec": {
   "display_name": "Python [conda env:anaconda3]",
   "language": "python",
   "name": "conda-env-anaconda3-py"
  },
  "language_info": {
   "codemirror_mode": {
    "name": "ipython",
    "version": 3
   },
   "file_extension": ".py",
   "mimetype": "text/x-python",
   "name": "python",
   "nbconvert_exporter": "python",
   "pygments_lexer": "ipython3",
   "version": "3.6.6"
  }
 },
 "nbformat": 4,
 "nbformat_minor": 2
}
