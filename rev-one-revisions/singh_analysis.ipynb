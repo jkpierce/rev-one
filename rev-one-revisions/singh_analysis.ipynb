{
 "cells": [
  {
   "cell_type": "code",
   "execution_count": 10,
   "metadata": {},
   "outputs": [],
   "source": [
    "import numpy as np\n",
    "from scipy import misc\n",
    "import matplotlib.pyplot as plt\n",
    "%matplotlib inline"
   ]
  },
  {
   "cell_type": "code",
   "execution_count": 148,
   "metadata": {},
   "outputs": [],
   "source": [
    "from PIL import Image\n",
    "im1 = np.array(Image.open('singh1.png').convert('L'))\n",
    "im2 = np.array(Image.open('singh2.png').convert('L'))\n",
    "t=100\n",
    "im1[im1<t]=0\n",
    "im1[im1>=t]=255\n",
    "im2[im2<t]=0\n",
    "im2[im2>=t]=255"
   ]
  },
  {
   "cell_type": "code",
   "execution_count": 149,
   "metadata": {},
   "outputs": [
    {
     "data": {
      "text/plain": [
       "<matplotlib.image.AxesImage at 0x7fb5c65a9a90>"
      ]
     },
     "execution_count": 149,
     "metadata": {},
     "output_type": "execute_result"
    },
    {
     "data": {
      "image/png": "[encoded data removed]",
      "text/plain": [
       "<Figure size 432x288 with 1 Axes>"
      ]
     },
     "metadata": {},
     "output_type": "display_data"
    }
   ],
   "source": [
    "plt.imshow(im1, cmap='gray', vmin=0, vmax=255)"
   ]
  },
  {
   "cell_type": "code",
   "execution_count": 150,
   "metadata": {},
   "outputs": [
    {
     "data": {
      "text/plain": [
       "<matplotlib.image.AxesImage at 0x7fb5c65665c0>"
      ]
     },
     "execution_count": 150,
     "metadata": {},
     "output_type": "execute_result"
    },
    {
     "data": {
      "image/png": "[encoded data removed]",
      "text/plain": [
       "<Figure size 432x288 with 1 Axes>"
      ]
     },
     "metadata": {},
     "output_type": "display_data"
    }
   ],
   "source": [
    "plt.imshow(im2, cmap='gray', vmin=0, vmax=255)"
   ]
  },
  {
   "cell_type": "code",
   "execution_count": 151,
   "metadata": {},
   "outputs": [],
   "source": [
    "y1,x1 = np.where(im1==0)\n",
    "y2,x2 = np.where(im2==0)"
   ]
  },
  {
   "cell_type": "code",
   "execution_count": 152,
   "metadata": {},
   "outputs": [],
   "source": [
    "x1u = np.unique(x1)\n",
    "x2u = np.unique(x2)\n",
    "y1u = []\n",
    "for x in x1u:\n",
    "    mask=x1==x\n",
    "    val = y1[mask].mean()\n",
    "    y1u.append(val)\n",
    "y1u=np.array(y1u)\n",
    "y2u = []\n",
    "for x in x2u:\n",
    "    mask=x2==x\n",
    "    val = y2[mask].mean()\n",
    "    y2u.append(val)\n",
    "y2u=np.array(y2u)\n",
    "    "
   ]
  },
  {
   "cell_type": "code",
   "execution_count": 153,
   "metadata": {
    "collapsed": true
   },
   "outputs": [],
   "source": [
    "y1u = (y1u-y1u.mean())/y1u.std()\n",
    "y2u = (y2u-y2u.mean())/y2u.std()"
   ]
  },
  {
   "cell_type": "code",
   "execution_count": 154,
   "metadata": {},
   "outputs": [],
   "source": [
    "import scipy.stats as stats"
   ]
  },
  {
   "cell_type": "code",
   "execution_count": 161,
   "metadata": {
    "scrolled": true
   },
   "outputs": [
    {
     "data": {
      "text/plain": [
       "SkewtestResult(statistic=-3.0653631622195294, pvalue=0.0021740583595282414)"
      ]
     },
     "execution_count": 161,
     "metadata": {},
     "output_type": "execute_result"
    }
   ],
   "source": [
    "stats.skewtest(y1u)"
   ]
  },
  {
   "cell_type": "code",
   "execution_count": 160,
   "metadata": {},
   "outputs": [
    {
     "data": {
      "text/plain": [
       "0.10020869622849014"
      ]
     },
     "execution_count": 160,
     "metadata": {},
     "output_type": "execute_result"
    }
   ],
   "source": [
    "stats.skew(y2u)"
   ]
  },
  {
   "cell_type": "code",
   "execution_count": 157,
   "metadata": {},
   "outputs": [
    {
     "data": {
      "text/plain": [
       "(array([  8.,   5.,  20.,  19.,  24.,  46.,  36.,  69., 110., 150., 105.,\n",
       "        149., 123., 117.,  76., 118.,  99.,  44.,  14.,   4.,  24.]),\n",
       " array([-2.93410017, -2.67929914, -2.42449811, -2.16969708, -1.91489605,\n",
       "        -1.66009502, -1.40529399, -1.15049295, -0.89569192, -0.64089089,\n",
       "        -0.38608986, -0.13128883,  0.1235122 ,  0.37831323,  0.63311426,\n",
       "         0.88791529,  1.14271632,  1.39751735,  1.65231839,  1.90711942,\n",
       "         2.16192045,  2.41672148]),\n",
       " <a list of 21 Patch objects>)"
      ]
     },
     "execution_count": 157,
     "metadata": {},
     "output_type": "execute_result"
    },
    {
     "data": {
      "image/png": "[encoded data removed]",
      "text/plain": [
       "<Figure size 432x288 with 1 Axes>"
      ]
     },
     "metadata": {},
     "output_type": "display_data"
    }
   ],
   "source": [
    "plt.hist(y1u,bins=21)"
   ]
  },
  {
   "cell_type": "code",
   "execution_count": 158,
   "metadata": {},
   "outputs": [
    {
     "data": {
      "text/plain": [
       "(array([  8.,  11.,  23.,  44.,  65.,  81.,  80.,  92., 110., 106., 123.,\n",
       "        112.,  89., 103.,  58.,  56.,  30.,  34.,   5.,   9.,  13.]),\n",
       " array([-2.46788541, -2.2214764 , -1.97506739, -1.72865837, -1.48224936,\n",
       "        -1.23584035, -0.98943134, -0.74302233, -0.49661332, -0.25020431,\n",
       "        -0.0037953 ,  0.24261371,  0.48902273,  0.73543174,  0.98184075,\n",
       "         1.22824976,  1.47465877,  1.72106778,  1.96747679,  2.2138858 ,\n",
       "         2.46029481,  2.70670383]),\n",
       " <a list of 21 Patch objects>)"
      ]
     },
     "execution_count": 158,
     "metadata": {},
     "output_type": "execute_result"
    },
    {
     "data": {
      "image/png": "[encoded data removed]",
      "text/plain": [
       "<Figure size 432x288 with 1 Axes>"
      ]
     },
     "metadata": {},
     "output_type": "display_data"
    }
   ],
   "source": [
    "plt.hist(y2u,bins=21)"
   ]
  },
  {
   "cell_type": "code",
   "execution_count": null,
   "metadata": {
    "collapsed": true
   },
   "outputs": [],
   "source": []
  }
 ],
 "metadata": {
  "kernelspec": {
   "display_name": "Python [conda env:anaconda3]",
   "language": "python",
   "name": "conda-env-anaconda3-py"
  },
  "language_info": {
   "codemirror_mode": {
    "name": "ipython",
    "version": 3
   },
   "file_extension": ".py",
   "mimetype": "text/x-python",
   "name": "python",
   "nbconvert_exporter": "python",
   "pygments_lexer": "ipython3",
   "version": "3.6.7"
  }
 },
 "nbformat": 4,
 "nbformat_minor": 2
}
