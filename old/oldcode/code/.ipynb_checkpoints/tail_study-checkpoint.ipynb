{
 "cells": [
  {
   "cell_type": "code",
   "execution_count": 5,
   "metadata": {},
   "outputs": [
    {
     "name": "stdout",
     "output_type": "stream",
     "text": [
      "The autoreload extension is already loaded. To reload it, use:\n",
      "  %reload_ext autoreload\n"
     ]
    }
   ],
   "source": [
    "from reverting import *\n",
    "import matplotlib.pyplot as plt \n",
    "%matplotlib inline\n",
    "%load_ext autoreload\n",
    "%autoreload 2\n",
    "from IPython.display import clear_output\n",
    "import os \n",
    "import numpy as np \n",
    "from matplotlib import cm\n",
    "from matplotlib import rc\n",
    "rc('text', usetex=True)\n",
    "import time"
   ]
  },
  {
   "cell_type": "code",
   "execution_count": null,
   "metadata": {
    "collapsed": true
   },
   "outputs": [],
   "source": [
    "# run a simulation with trial i and l = 5 particle diameters"
   ]
  },
  {
   "cell_type": "code",
   "execution_count": null,
   "metadata": {
    "collapsed": true
   },
   "outputs": [],
   "source": [
    "param, = [p for p in paramslist if p['trial']=='i' and p['l'] ==llist[4] ]"
   ]
  },
  {
   "cell_type": "code",
   "execution_count": null,
   "metadata": {
    "collapsed": true
   },
   "outputs": [],
   "source": [
    "# tmax is in seconds. This is a simulation for flow condition i.\n",
    "# 1 hr of simulation takes just under 20s\n",
    "# 180 hr of virtual time (180*3600 sec) expected to take about an hr \n",
    "t0 = time.time()\n",
    "S = simulate(param,tmax=3600*2500) # run the simulation for 500 hr \n",
    "np.save('../simulations/flow_i-l_-time_500hr-rate_5Hz',S)\n",
    "print('simulation required ' + str((time.time()-t0)/3600) + ' hours to finish')"
   ]
  },
  {
   "cell_type": "code",
   "execution_count": null,
   "metadata": {
    "collapsed": true
   },
   "outputs": [],
   "source": [
    "# load in simulation results to try to get distribution of resting times \n",
    "S = np.load('../simulations/flow_i-l_2.199-time_2500hr-rate_5Hz.npy')\n",
    "n,m,t = S"
   ]
  },
  {
   "cell_type": "code",
   "execution_count": null,
   "metadata": {
    "collapsed": true
   },
   "outputs": [],
   "source": [
    "def rt_cdf_marginal(t,m,mstar,dt,tmax):\n",
    "    \"\"\"compute the return time distribution marginal to (integer) elevation mstar given a time series of transitions t\n",
    "    and a series m(t) of bed elevations across this time series\"\"\"\n",
    "    departures, = np.where( (np.roll(m,1) <= mstar) & (m > mstar) ) # indices of depature from mstar\n",
    "    returns, = np.where( (np.roll(m,1) > mstar) & (m <= mstar)  ) # indices of return to mstar\n",
    "    # must start from a departure\n",
    "    while returns.min()<departures.min():\n",
    "        returns = returns[1:]\n",
    "    # must end at a return\n",
    "    while returns.max()<departures.max():\n",
    "        departures = departures[:-1]\n",
    "    # compute the return times    \n",
    "    rt = t[returns] - t[departures] \n",
    "    # generate a return time distribution to elevation mstar from above\n",
    "    bins = np.arange(0,tmax, dt)\n",
    "    H,bins = np.histogram( rt , bins = bins, normed = True)\n",
    "    dx = bins[1] - bins[0] # bin size \n",
    "    F = 1-np.cumsum(H)*dx # cumulative distribution of return time \n",
    "    return F  "
   ]
  },
  {
   "cell_type": "code",
   "execution_count": null,
   "metadata": {
    "collapsed": true
   },
   "outputs": [],
   "source": [
    "def rt_unconditional(t,m,dt=3.0,dm=5,tmax=5*3600):\n",
    "    \"\"\"compute the unconditional return time from above of the bed elevation time series\n",
    "    dt is the time resolution... suggested 5.0s \n",
    "    dm is the space resolution... suggested 5 (particles)\n",
    "    t is the times at which bed elevations change\n",
    "    m is the time series of bed elevation values at these times\n",
    "    tmax is the maximum return time to accommodate\n",
    "    \"\"\"\n",
    "    mmin = round(m.mean()-3*m.std()) # the minimum m value to include \n",
    "    mmax = round(m.mean()+3*m.std()) # the range of m values to include into the computation of the resting time cdf \n",
    "    #dm = 5  # the interval between m values to discretize bed elevations over \n",
    "    mvals = np.arange(mmin,mmax+dm,dm) # the set of values of m over which to calculate the pdf of bed elevations \n",
    "    pm,_ = np.histogram(m,bins=mvals, normed=True)    # the pdf of bed elevations \n",
    "    pm = pm*dm # pdf of bed elevations\n",
    "    mvals = np.arange(mmin,mmax,dm) # the set of m values over which the bed elevation pdf is known\n",
    "    bins = np.arange(0,tmax, dt)\n",
    "    pTm = np.array([rt_cdf_marginal(t,m,mv,dt,tmax) for mv in mvals]) # marginal cdf of return time from above across elevations\n",
    "    cdf = (pTm*pm.reshape(-1,1)).sum(axis=0)  # cumulative resting time distribution -- convolve all bed elevations like Yang and Sayre or Nakagawa Tsujimoto \n",
    "    # or Voepel and Hassan \n",
    "    return bins[1:],cdf # return times t and cumulative distribution P(T>t) "
   ]
  },
  {
   "cell_type": "code",
   "execution_count": null,
   "metadata": {
    "collapsed": true
   },
   "outputs": [],
   "source": [
    "T,F = rt_unconditional(t,m)"
   ]
  },
  {
   "cell_type": "code",
   "execution_count": null,
   "metadata": {
    "collapsed": true
   },
   "outputs": [],
   "source": [
    "plt.loglog(T,F)\n",
    "plt.ylim(1e-4,2)\n",
    "plt.xlim(1,2e4)\n"
   ]
  },
  {
   "cell_type": "code",
   "execution_count": null,
   "metadata": {
    "collapsed": true
   },
   "outputs": [],
   "source": [
    "def trunc_pareto(T,F):\n",
    "    # estimate parameters for trunc pareto from T \n",
    "    # bradley2017 estimates these parameters as max and min of data \n",
    "    a = T.min()\n",
    "    b = T.max()\n",
    "    \n",
    "    def pareto(c):\n",
    "        \"\"\"the form of trunc pareto from bradley2017\"\"\"\n",
    "        return a*(T**(-c)-b**(-c))/(1-(a/b)**c)\n",
    "    \n",
    "    def loss(c):\n",
    "        \"\"\"least squares fit on pareto distribution\"\"\"\n",
    "\n",
    "        Fc = pareto(c)\n",
    "        return np.square(F-Fc).sum()\n",
    "    \n",
    "    from scipy.optimize import minimize as mini\n",
    "    c = mini(loss,1.0)\n",
    "    print('optimization ' + str(c['success']))\n",
    "    c = c['x'][0]\n",
    "    print(a,b,c)\n",
    "\n",
    "    return pareto(c)"
   ]
  },
  {
   "cell_type": "code",
   "execution_count": null,
   "metadata": {
    "collapsed": true,
    "scrolled": false
   },
   "outputs": [],
   "source": [
    "Fp = trunc_pareto(T,F)"
   ]
  },
  {
   "cell_type": "code",
   "execution_count": null,
   "metadata": {
    "collapsed": true,
    "scrolled": true
   },
   "outputs": [],
   "source": [
    "plt.loglog(T,F)\n",
    "#plt.loglog(T,Fp)\n",
    "plt.ylim(1e-7,2)\n",
    "plt.xlim(1,5e4)\n",
    "plt.xlabel('$T$ [s]')\n",
    "plt.ylabel('$P(T>t)$')\n",
    "plt.title('resting time distribution')"
   ]
  },
  {
   "cell_type": "code",
   "execution_count": null,
   "metadata": {
    "collapsed": true
   },
   "outputs": [],
   "source": [
    "T.max()"
   ]
  },
  {
   "cell_type": "code",
   "execution_count": null,
   "metadata": {
    "collapsed": true,
    "scrolled": true
   },
   "outputs": [],
   "source": [
    "plt.loglog(T,F)\n",
    "plt.loglog(T,Fp)\n",
    "plt.ylim(1e-5,2)\n",
    "plt.xlim(1,2e4)\n",
    "plt.xlabel('$T$ [s]')\n",
    "plt.ylabel('$P(T>t)$')\n",
    "plt.title('resting time distribution')"
   ]
  },
  {
   "cell_type": "code",
   "execution_count": null,
   "metadata": {
    "collapsed": true
   },
   "outputs": [],
   "source": [
    "direc = '/home/kpierce/Desktop/reverting-onecell/simulations/rt_analysis'"
   ]
  },
  {
   "cell_type": "code",
   "execution_count": null,
   "metadata": {
    "collapsed": true
   },
   "outputs": [],
   "source": [
    "n1,m1,t1 = np.load('/home/kpierce/Desktop/reverting-onecell/simulations/flow_a-l_0.3-time_500hr-rate_5Hz.npy')\n",
    "n2,m2,t2 = np.load('/home/kpierce/Desktop/reverting-onecell/simulations/flow_a-l_0.6-time_500hr-rate_5Hz.npy')\n",
    "T1,F1 = rt_unconditional(t1,m1)\n",
    "T2,F2 = rt_unconditional(t2,m2)\n",
    "plt.loglog(T1,F1,color='red') # smaller l \n",
    "plt.loglog(T2,F2, color='blue') # larger l "
   ]
  },
  {
   "cell_type": "code",
   "execution_count": null,
   "metadata": {
    "collapsed": true
   },
   "outputs": [],
   "source": [
    "# compare all disributions obtained from flow condition 'a' \n",
    "files = []\n",
    "patho = '/home/kpierce/Desktop/reverting-onecell/simulations/rt_analysis/'\n",
    "bins = np.load(patho+'bins.npy')\n",
    "for f in os.listdir(patho):\n",
    "    if 'bins' not in f:\n",
    "        if 'flow_a' in f:\n",
    "            files.append(f)\n",
    "cdfs = np.array([np.load(patho+f) for f in files])\n",
    "\n",
    "\n",
    "colors = ['red','blue','green','purple','pink','orange']\n",
    "lvals = [x.split('-')[1].split('_')[1] for x in files]\n",
    "lvals = [float(l)/a for l in lvals]\n",
    "lvals = sorted(lvals)\n",
    "labels = ['active layer depth of {} D'.format(l) for l in lvals]\n",
    "files = sorted(files,key=lambda x: x.split('-')[1].split('_')[1])\n",
    "cdfs = np.array([np.load(patho+f) for f in files])\n",
    "for f,c,l in zip(cdfs,colors,labels):\n",
    "    plt.loglog(bins,f,color=c,label=l)\n",
    "plt.ylim(1e-4,1)\n",
    "plt.legend()\n",
    "plt.title(' resting time cdf for a fixed flow condition at variable active layer depth')\n",
    "plt.xlabel(' resting time T in seconds')\n",
    "plt.ylabel(' $P(T>t)$')"
   ]
  },
  {
   "cell_type": "code",
   "execution_count": null,
   "metadata": {
    "collapsed": true,
    "scrolled": true
   },
   "outputs": [],
   "source": [
    "# compare all disributions obtained from flow condition 'a' \n",
    "files = []\n",
    "patho = '/home/kpierce/Desktop/reverting-onecell/simulations/rt_analysis/'\n",
    "bins = np.load(patho+'bins.npy')\n",
    "for f in os.listdir(patho):\n",
    "    if 'bins' not in f:\n",
    "        if 'flow_a' in f:\n",
    "            files.append(f)\n",
    "cdfs = np.array([np.load(patho+f) for f in files])\n",
    "\n",
    "\n",
    "colors = ['red','blue','green','purple','pink','orange']\n",
    "lvals = [x.split('-')[1].split('_')[1] for x in files]\n",
    "lvals = [float(l)/a for l in lvals]\n",
    "lvals = sorted(lvals)\n",
    "labels = ['active layer depth of {} D'.format(l) for l in lvals]\n",
    "files = sorted(files,key=lambda x: x.split('-')[1].split('_')[1])\n",
    "cdfs = np.array([np.load(patho+f) for f in files])\n",
    "for s,f,c,l in zip(lvals,cdfs,colors,labels):\n",
    "    plt.loglog(bins/s,f,color=c,label=l)\n",
    "    \n",
    "tt = np.linspace(1e2,1e3,100)\n",
    "cc = 1/tt**(1.3)\n",
    "plt.loglog(tt,cc,color='black',label='power law slope -1.1')\n",
    "    \n",
    "plt.ylim(1e-4,1.1)\n",
    "plt.legend()\n",
    "plt.title(' resting time cdf for a fixed flow condition at variable active layer depth l')\n",
    "plt.xlabel(' scaled resting time $T D/l$')\n",
    "plt.ylabel(' $P(T>t)$')\n",
    "plt.savefig('collapse.png')"
   ]
  },
  {
   "cell_type": "code",
   "execution_count": null,
   "metadata": {
    "collapsed": true
   },
   "outputs": [],
   "source": [
    "cdffiles = [] # filenames of the resting time cdfs \n",
    "datafiles = [] # filenames of the data arrays \n",
    "lvals = [] # values of l for each filename \n",
    "flows = [] # flow condition for each filename \n",
    "path2 = '/home/kpierce/Desktop/reverting-onecell/simulations/'\n",
    "path1 = '/home/kpierce/Desktop/reverting-onecell/simulations/rt_analysis/'\n",
    "bins = np.load(path1+'bins.npy')\n",
    "\n",
    "# generate all lvals, flows, filenames \n",
    "for f in os.listdir(path1):\n",
    "    if 'bins' not in f:\n",
    "        if '1000' in f: \n",
    "            cdffiles.append(f)\n",
    "            datafiles.append(f[:-13]+'.npy')\n",
    "            flows.append(f.split('-')[0].split('_')[1])\n",
    "            lvals.append(float(f.split('-')[1].split('_')[1]))\n",
    "\n",
    "# get the mean of n and m for each trial\n",
    "n_means = [np.load(path2+f)[0].mean() for f in datafiles]\n",
    "m_means = [np.load(path2+f)[1].mean() for f in datafiles]\n",
    "m_stds = [np.load(path2+f)[1].std() for f in datafiles]\n",
    "la0s = [next(p for p in paramslist if p['trial']==flow)['la0'] for flow in flows]\n",
    "mu0s = [next(p for p in paramslist if p['trial']==flow)['mu0'] for flow in flows]\n",
    "scales = [z1*z(m_mean)/(2*l**2) for m_mean,l in zip(m_means,lvals)]\n",
    "Es = [la+mu*nn + (la+mu*nn)*s for nn,la,mu,s in zip(n_means,la0s,mu0s,scales)]\n",
    "cdfs = np.array([np.load(path1+f) for f in cdffiles])"
   ]
  },
  {
   "cell_type": "code",
   "execution_count": null,
   "metadata": {
    "collapsed": true
   },
   "outputs": [],
   "source": [
    "def colorselect(flow):\n",
    "    if flow=='a':\n",
    "        return 'red'\n",
    "    if flow=='g': \n",
    "        return 'blue'\n",
    "    if flow=='i':\n",
    "        return 'green'\n",
    "    if flow=='l':\n",
    "        return 'yellow'\n",
    "    if flow=='n':\n",
    "        return 'purple'\n",
    "   "
   ]
  },
  {
   "cell_type": "code",
   "execution_count": null,
   "metadata": {
    "collapsed": true
   },
   "outputs": [],
   "source": [
    "[(std*z1-l)/l*100 for std,l in zip(m_stds,lvals)]"
   ]
  },
  {
   "cell_type": "code",
   "execution_count": null,
   "metadata": {
    "collapsed": true
   },
   "outputs": [],
   "source": [
    "def pwr(tt,p,x1=100,y1=1e-3):\n",
    "    A = y1*x1**p\n",
    "    return A*tt**(-p)"
   ]
  },
  {
   "cell_type": "code",
   "execution_count": null,
   "metadata": {
    "collapsed": true,
    "scrolled": true
   },
   "outputs": [],
   "source": [
    "for cdf, flow, n_mean, m_mean, scale, E, l, m_std in zip(cdfs, flows, n_means, m_means, scales, Es, lvals, m_stds):\n",
    "    #plt.loglog(bins*E/m_std, cdf, color=colorselect(flow))\n",
    "    #plt.loglog(bins*E*z1/l,cdf,color=colorselect(flow))\n",
    "    plt.loglog(bins/3600,cdf,color=colorselect(flow))\n",
    "\n",
    "tt = np.arange(100,1000)\n",
    "plt.ylim(1e-5,2)\n",
    "plt.xlim(xmax=1e3)\n",
    "plt.xlabel('resting time $T$ in hours')\n",
    "plt.ylabel('$P(T>t)$')\n",
    "plt.title('unscaled resting time. colors are flows with different active layer depths')\n",
    "plt.savefig('/home/kpierce/Desktop/unscaled.pdf')"
   ]
  },
  {
   "cell_type": "code",
   "execution_count": null,
   "metadata": {
    "collapsed": true
   },
   "outputs": [],
   "source": [
    "for cdf, flow, n_mean, m_mean, scale, E, l, m_std in zip(cdfs, flows, n_means, m_means, scales, Es, lvals, m_stds):\n",
    "    #plt.loglog(bins*E/m_std, cdf, color=colorselect(flow))\n",
    "    #plt.loglog(bins*E*z1/l,cdf,color=colorselect(flow))\n",
    "    plt.loglog(bins/3600*(z1/l),cdf,color=colorselect(flow))\n",
    "\n",
    "tt = np.arange(100,1000)\n",
    "plt.ylim(1e-5,2)\n",
    "plt.xlim(xmax=1e3)\n",
    "plt.xlabel('scaled resting time $Tz_1/l$ in hours')\n",
    "plt.ylabel('$P(T>t)$')\n",
    "plt.title('length scaled resting time. colors are flows with different active layer depths')\n",
    "plt.savefig('/home/kpierce/Desktop/kindascaled.pdf')"
   ]
  },
  {
   "cell_type": "code",
   "execution_count": null,
   "metadata": {
    "collapsed": true
   },
   "outputs": [],
   "source": [
    "import gc\n",
    "gc.collect()"
   ]
  },
  {
   "cell_type": "code",
   "execution_count": null,
   "metadata": {
    "collapsed": true
   },
   "outputs": [],
   "source": [
    "for cdf, flow, n_mean, m_mean, scale, E, l, m_std in zip(cdfs, flows, n_means, m_means, scales, Es, lvals, m_stds):\n",
    "    \n",
    "    plt.loglog(bins*E*z1/l,cdf,color=colorselect(flow))\n",
    "\n",
    "tt = np.arange(100,1000)\n",
    "plt.ylim(1e-5,2)\n",
    "plt.xlim(xmax=1e8)\n",
    "plt.xlabel(r'scaled resting time $T E z_1/l$ [unitless]')\n",
    "plt.ylabel('$P(T>t)$')\n",
    "plt.title('scaled resting time. colors are flows with different active layer depths')\n",
    "plt.savefig('/home/kpierce/Desktop/scaled.png')"
   ]
  },
  {
   "cell_type": "code",
   "execution_count": null,
   "metadata": {
    "collapsed": true
   },
   "outputs": [],
   "source": []
  }
 ],
 "metadata": {
  "kernelspec": {
   "display_name": "Python [conda env:anaconda3]",
   "language": "python",
   "name": "conda-env-anaconda3-py"
  },
  "language_info": {
   "codemirror_mode": {
    "name": "ipython",
    "version": 3
   },
   "file_extension": ".py",
   "mimetype": "text/x-python",
   "name": "python",
   "nbconvert_exporter": "python",
   "pygments_lexer": "ipython3",
   "version": "3.6.6"
  }
 },
 "nbformat": 4,
 "nbformat_minor": 2
}
