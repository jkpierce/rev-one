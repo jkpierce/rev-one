{
 "cells": [
  {
   "cell_type": "code",
   "execution_count": 2,
   "metadata": {
    "collapsed": true
   },
   "outputs": [],
   "source": [
    "import numpy as np \n",
    "import matplotlib.pyplot as plt\n",
    "import os\n",
    "import datetime\n",
    "%matplotlib inline "
   ]
  },
  {
   "cell_type": "code",
   "execution_count": 42,
   "metadata": {
    "collapsed": true
   },
   "outputs": [],
   "source": [
    "# load the data\n",
    "path_ed = '/media/kpierce/seagate/reverting-onecell/analysis/entrain-deposit/'\n",
    "path_m = '/media/kpierce/seagate/reverting-onecell/analysis/m-stats/'\n",
    "path_cdf = '/media/kpierce/seagate/reverting-onecell/analysis/rt-cdf/'\n",
    "efile = 'flow_a-l_0.6-time_1000.0hr-entrains.npy'\n",
    "dfile = 'flow_a-l_0.6-time_1000.0hr-deposits.npy'\n",
    "mfile = 'flow_a-l_0.6-time_1000.0hr-mstats.dat'\n",
    "cfile = 'flow_a-l_0.6-time-1000.0hr-rtcdf.npy'\n",
    "def loader(path_ed, path_m, path_cdf, efile, dfile, mfile):\n",
    "    te, me = np.load(path_ed+efile).T\n",
    "    td, md = np.load(path_ed+dfile).T\n",
    "    m, pm  = np.loadtxt(path_m+mfile).T"
   ]
  },
  {
   "cell_type": "code",
   "execution_count": 3,
   "metadata": {
    "collapsed": true
   },
   "outputs": [],
   "source": [
    "# define parameters\n",
    "tmax = 500*3600 # maximum return time to allow for (seconds) \n",
    "dt = 0.5 # bin size in seconds\n",
    "bins = np.arange(0, tmax, dt) # bins over which to histogram"
   ]
  },
  {
   "cell_type": "code",
   "execution_count": 4,
   "metadata": {
    "collapsed": true
   },
   "outputs": [],
   "source": [
    "def compute_crt(te, me, td, md, mv, bins = bins):\n",
    "    \"\"\" \n",
    "    compute conditional return time given\n",
    "    - entrainment timeseries te\n",
    "    - bed elevations me at entrainment\n",
    "    - deposition timeseries td\n",
    "    - bed elevations md at deposition\n",
    "    - a value mv at which to condition\n",
    "    - a set of bins in time over which to histogram \n",
    "    \"\"\"\n",
    "    returns = te[me==mv]\n",
    "    departs = td[md==mv+1]\n",
    "    \n",
    "    if (len(returns)>0) and (len(departs)>0): \n",
    "        while (returns[0]<departs[0]):\n",
    "            returns=returns[1:]\n",
    "        while (departs[-1]>returns[-1]):\n",
    "            departs=departs[:-1]\n",
    "        k = len(departs)-len(returns)\n",
    "        if k>0:\n",
    "            departs=departs[k:]\n",
    "        elif k<0:\n",
    "            returns=returns[:k]\n",
    "        crt = returns-departs\n",
    "        H,_ = np.histogram(crt,bins=bins,density=True)\n",
    "        F = 1-H.cumsum()*(bins[1]-bins[0])\n",
    "    else:\n",
    "        F = np.zeros(len(bins)-1,dtype=float)\n",
    "    return F"
   ]
  },
  {
   "cell_type": "code",
   "execution_count": 8,
   "metadata": {},
   "outputs": [],
   "source": [
    "def loader(mfile):\n",
    "    path_m = '/media/kpierce/seagate/reverting-onecell/analysis/m-stats/'\n",
    "    path_ed = '/media/kpierce/seagate/reverting-onecell/analysis/entrain-deposit/'\n",
    "    path_c = '/media/kpierce/seagate/reverting-onecell/analysis-codes/rt-cdf/'\n",
    "    efile = path_ed+mfile[:-10]+'entrains.npy'\n",
    "    dfile = path_ed+mfile[:-10]+'deposits.npy'\n",
    "    cfile = path_c+mfile[:-10]+'rtcdf'\n",
    "    te, me = np.load(efile).T\n",
    "    td, md = np.load(dfile).T\n",
    "    m, pm  = np.loadtxt(path_m+mfile).T\n",
    "    return (te, me, td, md, m, pm, cfile)\n",
    "\n",
    "def compute_cdf(inputs, bins=bins):\n",
    "    te, me, td, md, m, pm, cfile = inputs # these come from loader\n",
    "    cdf = np.zeros(len(bins)-1,dtype=float) # fill this iteratively\n",
    "    i = 0 \n",
    "    for mv,p in zip(m, pm): # iterate through all mvalues in question\n",
    "        i+=1\n",
    "        Fmv = compute_crt(te, me, td, md, mv)\n",
    "        cdf+=Fmv*p\n",
    "    bins = (bins[1:]+bins[:-1])/2.0 # compute the midpoints of the bins \n",
    "    data = np.array((bins, cdf)).T\n",
    "    np.save(cdf_filename, data)\n",
    "    del data"
   ]
  },
  {
   "cell_type": "code",
   "execution_count": 9,
   "metadata": {},
   "outputs": [
    {
     "name": "stdout",
     "output_type": "stream",
     "text": [
      "------------------------------------------------------------------------------\n",
      "starting flow_l-l_1.2-time_500.0hr- at 19:17:55\n",
      "computation 1 of 40.\n"
     ]
    },
    {
     "ename": "FileNotFoundError",
     "evalue": "[Errno 2] No such file or directory: '/media/kpierce/seagate/reverting-onecell/analysis/entrain-deposit/flow_l-l_1.2-time_500.0hr-entrains.npy'",
     "output_type": "error",
     "traceback": [
      "\u001b[0;31m---------------------------------------------------------------------------\u001b[0m",
      "\u001b[0;31mFileNotFoundError\u001b[0m                         Traceback (most recent call last)",
      "\u001b[0;32m<ipython-input-9-8f8f4b8ad281>\u001b[0m in \u001b[0;36m<module>\u001b[0;34m()\u001b[0m\n\u001b[1;32m      7\u001b[0m     \u001b[0mprint\u001b[0m\u001b[0;34m(\u001b[0m\u001b[0;34m'starting '\u001b[0m \u001b[0;34m+\u001b[0m \u001b[0mmfile\u001b[0m\u001b[0;34m[\u001b[0m\u001b[0;34m:\u001b[0m\u001b[0;34m-\u001b[0m\u001b[0;36m10\u001b[0m\u001b[0;34m]\u001b[0m \u001b[0;34m+\u001b[0m \u001b[0;34m' at '\u001b[0m \u001b[0;34m+\u001b[0m \u001b[0mdatetime\u001b[0m\u001b[0;34m.\u001b[0m\u001b[0mdatetime\u001b[0m\u001b[0;34m.\u001b[0m\u001b[0mutcnow\u001b[0m\u001b[0;34m(\u001b[0m\u001b[0;34m)\u001b[0m\u001b[0;34m.\u001b[0m\u001b[0mstrftime\u001b[0m\u001b[0;34m(\u001b[0m\u001b[0;34m\"%H:%M:%S\"\u001b[0m\u001b[0;34m)\u001b[0m\u001b[0;34m)\u001b[0m\u001b[0;34m\u001b[0m\u001b[0m\n\u001b[1;32m      8\u001b[0m     \u001b[0mprint\u001b[0m\u001b[0;34m(\u001b[0m\u001b[0;34m'computation {} of {}.'\u001b[0m\u001b[0;34m.\u001b[0m\u001b[0mformat\u001b[0m\u001b[0;34m(\u001b[0m\u001b[0mi\u001b[0m\u001b[0;34m,\u001b[0m\u001b[0mnfiles\u001b[0m\u001b[0;34m)\u001b[0m\u001b[0;34m)\u001b[0m\u001b[0;34m\u001b[0m\u001b[0m\n\u001b[0;32m----> 9\u001b[0;31m     \u001b[0minputs\u001b[0m \u001b[0;34m=\u001b[0m \u001b[0mloader\u001b[0m\u001b[0;34m(\u001b[0m\u001b[0mmfile\u001b[0m\u001b[0;34m)\u001b[0m\u001b[0;34m\u001b[0m\u001b[0m\n\u001b[0m\u001b[1;32m     10\u001b[0m     \u001b[0mcompute_cdf\u001b[0m\u001b[0;34m(\u001b[0m\u001b[0minputs\u001b[0m\u001b[0;34m)\u001b[0m\u001b[0;34m\u001b[0m\u001b[0m\n\u001b[1;32m     11\u001b[0m     \u001b[0mprint\u001b[0m\u001b[0;34m(\u001b[0m\u001b[0;34m'finished at '\u001b[0m \u001b[0;34m+\u001b[0m \u001b[0mdatetime\u001b[0m\u001b[0;34m.\u001b[0m\u001b[0mdatetime\u001b[0m\u001b[0;34m.\u001b[0m\u001b[0mutcnow\u001b[0m\u001b[0;34m(\u001b[0m\u001b[0;34m)\u001b[0m\u001b[0;34m.\u001b[0m\u001b[0mstrftime\u001b[0m\u001b[0;34m(\u001b[0m\u001b[0;34m\"%H:%M:%S\"\u001b[0m\u001b[0;34m)\u001b[0m\u001b[0;34m)\u001b[0m\u001b[0;34m\u001b[0m\u001b[0m\n",
      "\u001b[0;32m<ipython-input-8-22ec473d6c90>\u001b[0m in \u001b[0;36mloader\u001b[0;34m(mfile)\u001b[0m\n\u001b[1;32m      6\u001b[0m     \u001b[0mdfile\u001b[0m \u001b[0;34m=\u001b[0m \u001b[0mpath_ed\u001b[0m\u001b[0;34m+\u001b[0m\u001b[0mmfile\u001b[0m\u001b[0;34m[\u001b[0m\u001b[0;34m:\u001b[0m\u001b[0;34m-\u001b[0m\u001b[0;36m10\u001b[0m\u001b[0;34m]\u001b[0m\u001b[0;34m+\u001b[0m\u001b[0;34m'deposits.npy'\u001b[0m\u001b[0;34m\u001b[0m\u001b[0m\n\u001b[1;32m      7\u001b[0m     \u001b[0mcfile\u001b[0m \u001b[0;34m=\u001b[0m \u001b[0mpath_c\u001b[0m\u001b[0;34m+\u001b[0m\u001b[0mmfile\u001b[0m\u001b[0;34m[\u001b[0m\u001b[0;34m:\u001b[0m\u001b[0;34m-\u001b[0m\u001b[0;36m10\u001b[0m\u001b[0;34m]\u001b[0m\u001b[0;34m+\u001b[0m\u001b[0;34m'rtcdf'\u001b[0m\u001b[0;34m\u001b[0m\u001b[0m\n\u001b[0;32m----> 8\u001b[0;31m     \u001b[0mte\u001b[0m\u001b[0;34m,\u001b[0m \u001b[0mme\u001b[0m \u001b[0;34m=\u001b[0m \u001b[0mnp\u001b[0m\u001b[0;34m.\u001b[0m\u001b[0mload\u001b[0m\u001b[0;34m(\u001b[0m\u001b[0mefile\u001b[0m\u001b[0;34m)\u001b[0m\u001b[0;34m.\u001b[0m\u001b[0mT\u001b[0m\u001b[0;34m\u001b[0m\u001b[0m\n\u001b[0m\u001b[1;32m      9\u001b[0m     \u001b[0mtd\u001b[0m\u001b[0;34m,\u001b[0m \u001b[0mmd\u001b[0m \u001b[0;34m=\u001b[0m \u001b[0mnp\u001b[0m\u001b[0;34m.\u001b[0m\u001b[0mload\u001b[0m\u001b[0;34m(\u001b[0m\u001b[0mdfile\u001b[0m\u001b[0;34m)\u001b[0m\u001b[0;34m.\u001b[0m\u001b[0mT\u001b[0m\u001b[0;34m\u001b[0m\u001b[0m\n\u001b[1;32m     10\u001b[0m     \u001b[0mm\u001b[0m\u001b[0;34m,\u001b[0m \u001b[0mpm\u001b[0m  \u001b[0;34m=\u001b[0m \u001b[0mnp\u001b[0m\u001b[0;34m.\u001b[0m\u001b[0mloadtxt\u001b[0m\u001b[0;34m(\u001b[0m\u001b[0mpath_m\u001b[0m\u001b[0;34m+\u001b[0m\u001b[0mmfile\u001b[0m\u001b[0;34m)\u001b[0m\u001b[0;34m.\u001b[0m\u001b[0mT\u001b[0m\u001b[0;34m\u001b[0m\u001b[0m\n",
      "\u001b[0;32m~/anaconda3/lib/python3.6/site-packages/numpy/lib/npyio.py\u001b[0m in \u001b[0;36mload\u001b[0;34m(file, mmap_mode, allow_pickle, fix_imports, encoding)\u001b[0m\n\u001b[1;32m    368\u001b[0m     \u001b[0mown_fid\u001b[0m \u001b[0;34m=\u001b[0m \u001b[0;32mFalse\u001b[0m\u001b[0;34m\u001b[0m\u001b[0m\n\u001b[1;32m    369\u001b[0m     \u001b[0;32mif\u001b[0m \u001b[0misinstance\u001b[0m\u001b[0;34m(\u001b[0m\u001b[0mfile\u001b[0m\u001b[0;34m,\u001b[0m \u001b[0mbasestring\u001b[0m\u001b[0;34m)\u001b[0m\u001b[0;34m:\u001b[0m\u001b[0;34m\u001b[0m\u001b[0m\n\u001b[0;32m--> 370\u001b[0;31m         \u001b[0mfid\u001b[0m \u001b[0;34m=\u001b[0m \u001b[0mopen\u001b[0m\u001b[0;34m(\u001b[0m\u001b[0mfile\u001b[0m\u001b[0;34m,\u001b[0m \u001b[0;34m\"rb\"\u001b[0m\u001b[0;34m)\u001b[0m\u001b[0;34m\u001b[0m\u001b[0m\n\u001b[0m\u001b[1;32m    371\u001b[0m         \u001b[0mown_fid\u001b[0m \u001b[0;34m=\u001b[0m \u001b[0;32mTrue\u001b[0m\u001b[0;34m\u001b[0m\u001b[0m\n\u001b[1;32m    372\u001b[0m     \u001b[0;32melif\u001b[0m \u001b[0mis_pathlib_path\u001b[0m\u001b[0;34m(\u001b[0m\u001b[0mfile\u001b[0m\u001b[0;34m)\u001b[0m\u001b[0;34m:\u001b[0m\u001b[0;34m\u001b[0m\u001b[0m\n",
      "\u001b[0;31mFileNotFoundError\u001b[0m: [Errno 2] No such file or directory: '/media/kpierce/seagate/reverting-onecell/analysis/entrain-deposit/flow_l-l_1.2-time_500.0hr-entrains.npy'"
     ]
    }
   ],
   "source": [
    "nfiles = len(list(os.listdir('/media/kpierce/seagate/reverting-onecell/analysis/m-stats/')))\n",
    "i=0\n",
    "print('------------------------------------------------------------------------------')\n",
    "\n",
    "for mfile in os.listdir('/media/kpierce/seagate/reverting-onecell/analysis/m-stats/'):\n",
    "    i+=1\n",
    "    print('starting ' + mfile[:-10] + ' at ' + datetime.datetime.utcnow().strftime(\"%H:%M:%S\"))\n",
    "    print('computation {} of {}.'.format(i,nfiles))\n",
    "    inputs = loader(mfile)\n",
    "    compute_cdf(inputs)\n",
    "    print('finished at ' + datetime.datetime.utcnow().strftime(\"%H:%M:%S\"))\n",
    "    print('------------------------------------------------------------------------------')"
   ]
  },
  {
   "cell_type": "code",
   "execution_count": null,
   "metadata": {
    "collapsed": true
   },
   "outputs": [],
   "source": []
  }
 ],
 "metadata": {
  "kernelspec": {
   "display_name": "Python [conda env:anaconda3]",
   "language": "python",
   "name": "conda-env-anaconda3-py"
  },
  "language_info": {
   "codemirror_mode": {
    "name": "ipython",
    "version": 3
   },
   "file_extension": ".py",
   "mimetype": "text/x-python",
   "name": "python",
   "nbconvert_exporter": "python",
   "pygments_lexer": "ipython3",
   "version": "3.6.6"
  }
 },
 "nbformat": 4,
 "nbformat_minor": 2
}
