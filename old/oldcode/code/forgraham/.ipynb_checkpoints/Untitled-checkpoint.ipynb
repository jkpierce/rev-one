{
 "cells": [
  {
   "cell_type": "code",
   "execution_count": null,
   "metadata": {
    "collapsed": true
   },
   "outputs": [],
   "source": [
    "import numpy as np \n",
    "import matplotlib.pyplot as plt\n",
    "import os\n",
    "import datetime\n",
    "%matplotlib inline "
   ]
  },
  {
   "cell_type": "code",
   "execution_count": null,
   "metadata": {
    "collapsed": true
   },
   "outputs": [],
   "source": [
    "# load the data\n",
    "path_ed = '/media/kpierce/seagate/reverting-onecell/analysis/entrain-deposit/'\n",
    "path_m = '/media/kpierce/seagate/reverting-onecell/analysis/m-stats/'\n",
    "path_cdf = '/media/kpierce/seagate/reverting-onecell/analysis/rt-cdf/'\n",
    "efile = 'flow_a-l_0.6-time_1000.0hr-entrains.npy'\n",
    "dfile = 'flow_a-l_0.6-time_1000.0hr-deposits.npy'\n",
    "mfile = 'flow_a-l_0.6-time_1000.0hr-mstats.dat'\n",
    "cfile = 'flow_a-l_0.6-time-1000.0hr-rtcdf.npy'\n",
    "def loader(path_ed, path_m, path_cdf, efile, dfile, mfile):\n",
    "    te, me = np.load(path_ed+efile).T\n",
    "    td, md = np.load(path_ed+dfile).T\n",
    "    m, pm  = np.loadtxt(path_m+mfile).T"
   ]
  },
  {
   "cell_type": "code",
   "execution_count": null,
   "metadata": {
    "collapsed": true
   },
   "outputs": [],
   "source": [
    "# define parameters\n",
    "tmax = 500*3600 # maximum return time to allow for (seconds) \n",
    "dt = 0.5 # bin size in seconds\n",
    "bins = np.arange(0, tmax, dt) # bins over which to histogram"
   ]
  },
  {
   "cell_type": "code",
   "execution_count": null,
   "metadata": {
    "collapsed": true
   },
   "outputs": [],
   "source": [
    "def compute_crt(te, me, td, md, mv, bins = bins):\n",
    "    \"\"\" \n",
    "    compute conditional return time given\n",
    "    - entrainment timeseries te\n",
    "    - bed elevations me at entrainment\n",
    "    - deposition timeseries td\n",
    "    - bed elevations md at deposition\n",
    "    - a value mv at which to condition\n",
    "    - a set of bins in time over which to histogram \n",
    "    \"\"\"\n",
    "    returns = te[me==mv]\n",
    "    departs = td[md==mv+1]\n",
    "    \n",
    "    if (len(returns)>0) and (len(departs)>0): \n",
    "        while (returns[0]<departs[0]):\n",
    "            returns=returns[1:]\n",
    "        while (departs[-1]>returns[-1]):\n",
    "            departs=departs[:-1]\n",
    "        k = len(departs)-len(returns)\n",
    "        if k>0:\n",
    "            departs=departs[k:]\n",
    "        elif k<0:\n",
    "            returns=returns[:k]\n",
    "        crt = returns-departs\n",
    "        H,_ = np.histogram(crt,bins=bins,density=True)\n",
    "        F = 1-H.cumsum()*(bins[1]-bins[0])\n",
    "    else:\n",
    "        F = np.zeros(len(bins)-1,dtype=float)\n",
    "    return F"
   ]
  },
  {
   "cell_type": "code",
   "execution_count": null,
   "metadata": {
    "collapsed": true
   },
   "outputs": [],
   "source": [
    "def compute_cdf(cdf_filename, bins=bins):\n",
    "    cdf = np.zeros(len(bins)-1,dtype=float) # fill this iteratively\n",
    "    i = 0 \n",
    "    for mv,p in zip(m, pm): # iterate through all mvalues in question\n",
    "        i+=1\n",
    "        Fmv = compute_crt(te, me, td, md, mv)\n",
    "        cdf+=Fmv*p\n",
    "    bins = (bins[1:]+bins[:-1])/2.0 # compute the midpoints of the bins \n",
    "    data = np.array((bins, cdf)).T\n",
    "    np.save(path_cdf+cfile, data)\n",
    "    del data"
   ]
  },
  {
   "cell_type": "code",
   "execution_count": null,
   "metadata": {
    "collapsed": true
   },
   "outputs": [],
   "source": [
    "path_m = '/media/kpierce/seagate/reverting-onecell/analysis/m-stats/'\n",
    "path_ed = '/media/kpierce/seagate/reverting-onecell/analysis/entrain-deposit/'\n",
    "path_c = '/media/kpierce/seagate/reverting-onecell/analysis-codes/rt-cdf/'\n",
    "nfiles = len(list(os.listdir('/media/kpierce/seagate/reverting-onecell/analysis/m-stats/')))\n",
    "i=0\n",
    "print('------------------------------------------------------------------------------')\n",
    "for mfile in os.listdir('/media/kpierce/seagate/reverting-onecell/analysis/m-stats/'):\n",
    "    i+=1\n",
    "    print('starting ' + mfile[:-10] + ' at ' + datetime.datetime.utcnow().strftime(\"%H:%M:%S\"))\n",
    "    print('computation {} of {}.'.format(i,nfiles))\n",
    "    efile = path_ed+mfile[:-10]+'entrains.npy'\n",
    "    dfile = path_ed+mfile[:-10]+'deposits.npy'\n",
    "    cfile = path_c+mfile[:-10]+'rtcdf'\n",
    "    te, me = np.load(efile).T\n",
    "    td, md = np.load(dfile).T\n",
    "    m, pm  = np.loadtxt(path_m+mfile).T\n",
    "    compute_cdf(cfile)\n",
    "    print('finished at ' + datetime.datetime.utcnow().strftime(\"%H:%M:%S\"))\n",
    "    print('------------------------------------------------------------------------------')\n"
   ]
  }
 ],
 "metadata": {
  "kernelspec": {
   "display_name": "Python [conda env:anaconda3]",
   "language": "python",
   "name": "conda-env-anaconda3-py"
  },
  "language_info": {
   "codemirror_mode": {
    "name": "ipython",
    "version": 3
   },
   "file_extension": ".py",
   "mimetype": "text/x-python",
   "name": "python",
   "nbconvert_exporter": "python",
   "pygments_lexer": "ipython3",
   "version": "3.6.6"
  }
 },
 "nbformat": 4,
 "nbformat_minor": 2
}
