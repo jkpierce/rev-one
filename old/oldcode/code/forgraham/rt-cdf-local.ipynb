{
 "cells": [
  {
   "cell_type": "code",
   "execution_count": null,
   "metadata": {
    "collapsed": true
   },
   "outputs": [],
   "source": [
    "import numpy as np \n",
    "import matplotlib.pyplot as plt\n",
    "import os\n",
    "import datetime\n",
    "%matplotlib inline "
   ]
  },
  {
   "cell_type": "code",
   "execution_count": null,
   "metadata": {
    "collapsed": true
   },
   "outputs": [],
   "source": [
    "# load the data\n",
    "path_ed = '/media/kpierce/seagate/reverting-onecell/analysis/entrain-deposit/'\n",
    "path_m = '/media/kpierce/seagate/reverting-onecell/analysis/m-stats/'\n",
    "path_cdf = '/media/kpierce/seagate/reverting-onecell/analysis/rt-cdf/'\n",
    "efile = 'flow_a-l_0.6-time_1000.0hr-entrains.npy'\n",
    "dfile = 'flow_a-l_0.6-time_1000.0hr-deposits.npy'\n",
    "mfile = 'flow_a-l_0.6-time_1000.0hr-mstats.dat'\n",
    "cfile = 'flow_a-l_0.6-time-1000.0hr-rtcdf.npy'"
   ]
  },
  {
   "cell_type": "code",
   "execution_count": null,
   "metadata": {
    "collapsed": true
   },
   "outputs": [],
   "source": [
    "# define parameters\n",
    "tmax = 500*3600 # maximum return time to allow for (seconds) \n",
    "dt = 0.5 # bin size in seconds\n",
    "bins = np.arange(0, tmax, dt) # bins over which to histogram"
   ]
  },
  {
   "cell_type": "code",
   "execution_count": null,
   "metadata": {
    "collapsed": true
   },
   "outputs": [],
   "source": [
    "def compute_crt(te, me, td, md, mv, bins = bins):\n",
    "    \"\"\" \n",
    "    compute conditional return time given\n",
    "    - entrainment timeseries te\n",
    "    - bed elevations me at entrainment\n",
    "    - deposition timeseries td\n",
    "    - bed elevations md at deposition\n",
    "    - a value mv at which to condition\n",
    "    - a set of bins in time over which to histogram \n",
    "    \"\"\"\n",
    "    returns = te[me==mv]\n",
    "    departs = td[md==mv+1]\n",
    "    \n",
    "    if (len(returns)>0) and (len(departs)>0): \n",
    "        while (returns[0]<departs[0]):\n",
    "            returns=returns[1:]\n",
    "        while (departs[-1]>returns[-1]):\n",
    "            departs=departs[:-1]\n",
    "        k = len(departs)-len(returns)\n",
    "        if k>0:\n",
    "            departs=departs[k:]\n",
    "        elif k<0:\n",
    "            returns=returns[:k]\n",
    "        crt = returns-departs\n",
    "        H,_ = np.histogram(crt,bins=bins,density=True)\n",
    "        F = 1-H.cumsum()*(bins[1]-bins[0])\n",
    "    else:\n",
    "        F = np.zeros(len(bins)-1,dtype=float)\n",
    "    return F"
   ]
  },
  {
   "cell_type": "code",
   "execution_count": null,
   "metadata": {},
   "outputs": [],
   "source": [
    "def loader(mfile):\n",
    "    path_m = '/media/kpierce/seagate/reverting-onecell/analysis/m-stats/'\n",
    "    path_ed = '/media/kpierce/seagate/reverting-onecell/analysis/entrain-deposit/'\n",
    "    path_c = '/media/kpierce/seagate/reverting-onecell/analysis-codes/rt-cdf/'\n",
    "    efile = path_ed+mfile[:-10]+'entrains.npy'\n",
    "    dfile = path_ed+mfile[:-10]+'deposits.npy'\n",
    "    cfile = path_c+mfile[:-10]+'rtcdf'\n",
    "    te, me = np.load(efile).T\n",
    "    td, md = np.load(dfile).T\n",
    "    m, pm  = np.loadtxt(path_m+mfile).T\n",
    "    return (te, me, td, md, m, pm, cfile)\n",
    "\n",
    "def compute_cdf(inputs, bins=bins):\n",
    "    te, me, td, md, m, pm, cfile = inputs # these come from loader\n",
    "    cdf = np.zeros(len(bins)-1,dtype=float) # fill this iteratively\n",
    "    i = 0 \n",
    "    for mv,p in zip(m, pm): # iterate through all mvalues in question\n",
    "        i+=1\n",
    "        Fmv = compute_crt(te, me, td, md, mv)\n",
    "        cdf+=Fmv*p\n",
    "    bins = (bins[1:]+bins[:-1])/2.0 # compute the midpoints of the bins \n",
    "    data = np.array((bins, cdf)).T\n",
    "    print(cfile, ' is the save directory') \n",
    "    np.save(cfile, data)\n",
    "    del data,inputs,te,me,md,m,pm,cfile"
   ]
  },
  {
   "cell_type": "code",
   "execution_count": 28,
   "metadata": {},
   "outputs": [
    {
     "data": {
      "text/plain": [
       "array([[133,  59, 105],\n",
       "       [ 67,  35, 103]])"
      ]
     },
     "execution_count": 28,
     "metadata": {},
     "output_type": "execute_result"
    }
   ],
   "source": [
    "A_corr=(np.array([66, 67, 70, 133, 133, 133]), \n",
    "        np.array([35, 35, 35, 59,  59,  59]), \n",
    "        np.array([102,103,104, 105, 106, 107]))\n",
    "A_corr = np.array(A_corr).T\n",
    "indices = np.random.choice(np.arange(A_corr.shape[0]),size=2)\n",
    "A_corr[indices]"
   ]
  },
  {
   "cell_type": "code",
   "execution_count": 29,
   "metadata": {},
   "outputs": [
    {
     "name": "stdout",
     "output_type": "stream",
     "text": [
      "1 [ 67  35 103]\n"
     ]
    }
   ],
   "source": [
    "import numpy as np\n",
    "\n",
    "A_coor=(np.array([66, 67, 70, 133, 133, 133]), \n",
    "        np.array([35, 35, 35, 59,  59,  59]), \n",
    "        np.array([102,103,104, 105, 106, 107]))\n",
    "\n",
    "column = np.random.choice(len(A_coor[0])) # Pick a random column index\n",
    "\n",
    "coords = np.array(A_coor)[:, column]\n",
    "print(column, coords)"
   ]
  },
  {
   "cell_type": "code",
   "execution_count": null,
   "metadata": {},
   "outputs": [],
   "source": [
    "nfiles = len(list(os.listdir('/media/kpierce/seagate/reverting-onecell/analysis/m-stats/')))\n",
    "i=0\n",
    "print('------------------------------------------------------------------------------')\n",
    "\n",
    "mfiles = []\n",
    "for mfile in os.listdir('/media/kpierce/seagate/reverting-onecell/analysis/m-stats/'):\n",
    "    file1='/media/kpierce/seagate/reverting-onecell/analysis/entrain-deposit/'+mfile[:-10]+'entrains.npy'\n",
    "    file2='/media/kpierce/seagate/reverting-onecell/analysis/entrain-deposit/'+mfile[:-10]+'deposits.npy'\n",
    "    file3='/media/kpierce/seagate/reverting-onecell/analysis/rtcdf/'+mfile[:-10]+'rtcdf.npy'\n",
    "    if os.path.isfile(file1) and os.path.isfile(file2) and (not os.path.isfile(file3)):\n",
    "        i+=1\n",
    "        print('starting ' + mfile[:-10] + ' at ' + datetime.datetime.utcnow().strftime(\"%H:%M:%S\"))\n",
    "        print('computation {} of {}.'.format(i,nfiles))\n",
    "        inputs = loader(mfile)\n",
    "        compute_cdf(inputs)\n",
    "        print('finished at ' + datetime.datetime.utcnow().strftime(\"%H:%M:%S\"))\n",
    "        print('------------------------------------------------------------------------------')"
   ]
  },
  {
   "cell_type": "code",
   "execution_count": null,
   "metadata": {},
   "outputs": [],
   "source": [
    "x = np.load('/media/kpierce/seagate/reverting-onecell/analysis/entrain-deposit/flow_l-l_1.8-time_500.0hr-entrains.npy')"
   ]
  },
  {
   "cell_type": "code",
   "execution_count": null,
   "metadata": {
    "collapsed": true
   },
   "outputs": [],
   "source": [
    "files = [f for f in os.listdir('/media/kpierce/seagate/reverting-onecell/analysis/rt-cdf/')]"
   ]
  },
  {
   "cell_type": "code",
   "execution_count": null,
   "metadata": {},
   "outputs": [],
   "source": [
    "files"
   ]
  },
  {
   "cell_type": "code",
   "execution_count": 52,
   "metadata": {},
   "outputs": [
    {
     "name": "stdout",
     "output_type": "stream",
     "text": [
      "[[133  59 107]\n",
      " [133  59 105]]\n"
     ]
    }
   ],
   "source": [
    "import numpy as np\n",
    "\n",
    "A_coor=np.stack((np.array([66, 67, 70, 133, 133, 133]),\n",
    "            np.array([35, 35, 35, 59,  59,  59]),\n",
    "            np.array([102,103,104, 105, 106, 107])), axis=0)\n",
    "\n",
    "k=2\n",
    "column = np.random.choice(len(A_coor[0]), replace=False, size=k)  \n",
    "\n",
    "coords = np.array(A_coor)[:, column]\n",
    "print(coords.T)"
   ]
  },
  {
   "cell_type": "code",
   "execution_count": 50,
   "metadata": {
    "collapsed": true
   },
   "outputs": [],
   "source": [
    "??np.random.choice"
   ]
  },
  {
   "cell_type": "code",
   "execution_count": 53,
   "metadata": {
    "collapsed": true
   },
   "outputs": [],
   "source": [
    "import numpy as np\n",
    "\n",
    "# Parameters\n",
    "n_t = 10\n",
    "n_ddl = 3\n",
    "\n",
    "# Typical dummy M n_ddl-diagonal matrix\n",
    "x = np.arange(1,31)\n",
    "x1 = np.arange(1,21)\n",
    "x2 = np.arange(1,11)\n",
    "M = np.diag(x) + np.diag(x1, 10) + np.diag(x1, -10) + np.diag(x2, 20) + np.diag(x2, -20)\n",
    "\n",
    "# First loop remains\n",
    "for i in range(0,n_t):\n",
    "    M_i = np.zeros((n_ddl,n_ddl))\n",
    "    # Optimize the following to get M_i\n",
    "    for j in range(0,n_ddl,1):\n",
    "        for k in range(0,n_ddl,1):\n",
    "            M_i[j,k] = M[j*n_t+i,k*n_t+i]"
   ]
  },
  {
   "cell_type": "code",
   "execution_count": 54,
   "metadata": {},
   "outputs": [
    {
     "data": {
      "text/plain": [
       "array([[ 10.,  10.,  10.],\n",
       "       [ 10.,  20.,  20.],\n",
       "       [ 10.,  20.,  30.]])"
      ]
     },
     "execution_count": 54,
     "metadata": {},
     "output_type": "execute_result"
    }
   ],
   "source": [
    "M_i"
   ]
  },
  {
   "cell_type": "code",
   "execution_count": null,
   "metadata": {
    "collapsed": true
   },
   "outputs": [],
   "source": []
  }
 ],
 "metadata": {
  "kernelspec": {
   "display_name": "Python [conda env:anaconda3]",
   "language": "python",
   "name": "conda-env-anaconda3-py"
  },
  "language_info": {
   "codemirror_mode": {
    "name": "ipython",
    "version": 3
   },
   "file_extension": ".py",
   "mimetype": "text/x-python",
   "name": "python",
   "nbconvert_exporter": "python",
   "pygments_lexer": "ipython3",
   "version": "3.6.6"
  }
 },
 "nbformat": 4,
 "nbformat_minor": 2
}
