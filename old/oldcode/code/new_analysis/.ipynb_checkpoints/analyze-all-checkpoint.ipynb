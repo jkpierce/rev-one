{
 "cells": [
  {
   "cell_type": "code",
   "execution_count": 96,
   "metadata": {},
   "outputs": [],
   "source": [
    "import pandas as pd\n",
    "import numpy as np \n",
    "import sys \n",
    "import matplotlib.pyplot as plt\n",
    "import time \n",
    "%matplotlib inline\n",
    "\n",
    "#filename = '/home/kp/Desktop/flow_a-l_0.3-time_1000.0hr.dat' # no bugs with this one at all \n",
    "filename = '/home/kp/Desktop/flow_a-l_0.6-time_1000.0hr.dat' # maybe this one has problems with it which trigger the bug\n",
    "entrainpath = filename[:-4]+'-entrains.dat'\n",
    "depositpath = filename[:-4]+'-deposits.dat'"
   ]
  },
  {
   "cell_type": "code",
   "execution_count": 97,
   "metadata": {
    "scrolled": true
   },
   "outputs": [],
   "source": [
    "# use pandas to load the file in for analysis. \n",
    "# pandas is nice because it's faster than np.loadtxt and it also supports chunking\n",
    "nrows = 41000\n",
    "#linecount = num_lines = sum(1 for line in open(filename))-2 # this takes time. \n",
    "#print('{} lines to process '.format(linecount))\n",
    "chunksize = int(5000) # take 20 million lines at once \n",
    "#print('{} chunks to iterate'.format(float(linecount)/chunksize))\n",
    "def loadfile(filename):\n",
    "    return pd.read_csv(filename, skiprows = 2, usecols = [0,1,2], header = None, \n",
    "                   delim_whitespace = True, index_col = False, iterator = True, chunksize = chunksize, nrows=nrows)\n",
    "file = loadfile(filename)"
   ]
  },
  {
   "cell_type": "code",
   "execution_count": 98,
   "metadata": {
    "scrolled": true
   },
   "outputs": [],
   "source": [
    "def discern_ed(entrainpath, depositpath, filename):\n",
    "    # find all entrainment and deposition times within a file \n",
    "    # useful \n",
    "    # https://www.pythonforthelab.com/blog/introduction-to-storing-data-in-files/\n",
    "    file = loadfile(filename)\n",
    "    entrainfile = open(entrainpath, 'wb+') # w means write \n",
    "    depositfile = open(depositpath, 'wb+')\n",
    "    m0 = 50000 # the value of the top of the last chunk\n",
    "\n",
    "    i = 0 \n",
    "    for f in file: \n",
    "        i+=1\n",
    "\n",
    "        n,m,t = f.values.T # unpack the values from the chunk\n",
    "\n",
    "        # check for entrainment and deposition on the boundary element \n",
    "        if m[0]==m0+1: # if deposition occurs on lowest boundary of chunk\n",
    "            np.savetxt(depositfile, np.column_stack((t[0], m[0])))\n",
    "        elif m[0]==m0-1: # if entrainment occurs on lowest boundary of chunk\n",
    "            np.savetxt(entrainfile, np.column_stack((t[0], m[0])))\n",
    "        m0 = m[-1] # reset the boundary value for the next chunk \n",
    "\n",
    "        # now check for entrainment and deposition within the chunk. Need to exclude lower boundary\n",
    "        erodemask = m[1:]-np.roll(m,1)[1:]==-1  # indices into t[1:] where erosion occurred \n",
    "        depositmask = m[1:]-np.roll(m,1)[1:]==1 # indices into t[1:] where deposition occurred \n",
    "        # chunk save errything \n",
    "        data = np.array([t[1:][erodemask], m[1:][erodemask]]).T\n",
    "        np.savetxt(entrainfile, data)\n",
    "        entrainfile.flush()\n",
    "        data = np.array([t[1:][depositmask], m[1:][depositmask]]).T\n",
    "        np.savetxt(depositfile, data) \n",
    "        depositfile.flush()\n",
    "\n",
    "\n",
    "    entrainfile.close()\n",
    "    depositfile.close()\n",
    "    \n",
    "discern_ed(entrainpath,depositpath,filename)"
   ]
  },
  {
   "cell_type": "code",
   "execution_count": 99,
   "metadata": {},
   "outputs": [],
   "source": [
    "def mstats(filename):\n",
    "    # data loader \n",
    "    load = lambda filename: pd.read_csv(filename, skiprows = 2, usecols = [0,1,2], header = None, \n",
    "                   delim_whitespace = True, index_col = False, iterator = True, chunksize = 50000,nrows=nrows)#, nrows=100)\n",
    "\n",
    "    file = load(filename)\n",
    "    i = 0 #keep track of which chunk you're on \n",
    "    chunked_mean = 0 # running sum of mean(m) values from each chunk \n",
    "    for chunk in file: \n",
    "        _, m, _ = chunk.values.T\n",
    "        chunked_mean += m.mean()\n",
    "        i+=1 # keep track of chunk number \n",
    "    mean_m = chunked_mean/i # the mean\n",
    "\n",
    "    i=0\n",
    "    chunked_var = 0 # running sum of (m-mean(m))**2/chunksize\n",
    "    file = load(filename)\n",
    "    for chunk in file:\n",
    "        _, m, _ = chunk.values.T\n",
    "        chunked_var += ((m-mean_m)**2).sum()/m.size # compute the variance of the chunk\n",
    "        i+=1\n",
    "    std_m = np.sqrt(chunked_var/i)\n",
    "\n",
    "    # compute all of the m values to consider.. go from mean(m)-3*std(m) to mean(m)+3*std(m) \n",
    "    mvals = np.arange(int(round(mean_m-3*std_m)), int(round(mean_m+3*std_m))+1, 1)\n",
    "    # so now you have the range of m values to consider\n",
    "\n",
    "    # compute the probabilities of each m value \n",
    "    file = load(filename) # load the iterators again\n",
    "    counts = []\n",
    "    for chunk in file:\n",
    "        _, m, _ = chunk.values.T\n",
    "        chunkcounts = []\n",
    "        for mv in mvals:\n",
    "            mvcounts = (m == mv).sum()\n",
    "            chunkcounts.append(mvcounts)\n",
    "        chunkcounts = np.array(chunkcounts)\n",
    "        counts.append(chunkcounts)\n",
    "    counts = np.array(counts)\n",
    "    counts = counts.sum(axis = 0)\n",
    "    pmvals = counts/counts.sum()\n",
    "    data = np.array((mvals, pmvals)).T\n",
    "    mstatsfile = filename[:-4]+'-mstats.dat'\n",
    "\n",
    "    np.savetxt(mstatsfile, data)\n",
    "\n",
    "    return data"
   ]
  },
  {
   "cell_type": "code",
   "execution_count": 100,
   "metadata": {
    "scrolled": true
   },
   "outputs": [],
   "source": [
    "m, pm = mstats(filename).T"
   ]
  },
  {
   "cell_type": "code",
   "execution_count": 101,
   "metadata": {
    "scrolled": true
   },
   "outputs": [
    {
     "data": {
      "text/plain": [
       "[<matplotlib.lines.Line2D at 0x7f8f5a3f5780>]"
      ]
     },
     "execution_count": 101,
     "metadata": {},
     "output_type": "execute_result"
    },
    {
     "data": {
      "image/png": "[encoded data removed]",
      "text/plain": [
       "<Figure size 432x288 with 1 Axes>"
      ]
     },
     "metadata": {
      "needs_background": "light"
     },
     "output_type": "display_data"
    }
   ],
   "source": [
    "plt.plot(m,pm)"
   ]
  },
  {
   "cell_type": "code",
   "execution_count": 371,
   "metadata": {},
   "outputs": [],
   "source": [
    "entrainfile, depositfile = load(filename) # load in the data \n"
   ]
  },
  {
   "cell_type": "code",
   "execution_count": 603,
   "metadata": {},
   "outputs": [],
   "source": [
    "tmax = 500*3600 # maximum return time to allow for \n",
    "dt = 0.5 # bin size \n",
    "bins = np.arange(0, tmax, dt) # bins \n",
    "t0 = time.time()\n",
    "def conditional_rt(entrainfile, depositfile, mstar, bins = bins, dt = 0.5, tmax = tmax):\n",
    "    \"\"\"compute the return time distribution conditional to elevation mstar\n",
    "    given entrainfile, the dat of all t, m at entrainment, and depositfile\n",
    "    the analogue for deposition\"\"\"\n",
    "    \n",
    "    # first compute all return times\n",
    "    returns = np.array([]) # compute all of the return times to mstar\n",
    "    for chunk in entrainfile: # iterate thru entrainment times and m values \n",
    "        te,me = chunk.values.T\n",
    "        chunk_times = te[me==mstar] # returns to mstar within the chunk\n",
    "        returns = np.concatenate((returns, chunk_times))\n",
    "    # then compute the departure times     \n",
    "    departures = np.array([]) # compute all of the departure times from mstar \n",
    "    for chunk in depositfile: # compute all of the departures from mstar \n",
    "        td,md = chunk.values.T\n",
    "        chunk_times = td[md==mstar+1]\n",
    "        departures = np.concatenate((departures, chunk_times))\n",
    "    \n",
    "    if ( len(returns) > 0 ) and ( len(departures) > 0 ):\n",
    "\n",
    "        while ( returns[0] < departures[0] ): # while first return smaller than first departure\n",
    "            returns = returns[1:] # crop off first return  \n",
    "        while ( departures[-1] > returns[-1] ): # while last departure greater than last return \n",
    "            departures = departures[:-1] # crop off last departure\n",
    "            \n",
    "        # at this point, the return time series starts from a departure and end from a return \n",
    "        # but there is no guarantee that it doesn't start with k departures or k returns \n",
    "        \n",
    "        # so if it isn't woven as |d,r,d,r,d,r,d,r| ...  that's because \n",
    "        # (a) there are two or more departures prior to the first return, |d,d,d,r,d,r,d,r,d,r,d,r| ... or \n",
    "        # (b) there are two or more returns post the last departure, |d,r,d,r,d,r,r,r,r| .... \n",
    "        # so the number k of repeats is \n",
    "        k = len(departures) - len(returns)\n",
    "        # and if k > 0 it's case (a)\n",
    "        # and if k < 0 it's case b\n",
    "        if k > 0: # if there are two or more departures prior to the first return \n",
    "            departures = departures[k:] # k is the number of excess departures\n",
    "        if k < 0: # if there are two or more returns post the last departure\n",
    "            returns = returns[:k] # k is the number of excess returns\n",
    "\n",
    "            \n",
    "        # Now compute the return time distribution \n",
    "        crt = returns - departures # compute the conditional return times\n",
    "        H, bins = np.histogram(crt, bins = bins)#, density = True) # compute the cdf\n",
    "        #H = H*dt # this is the pdf of H which has H.sum()==1 True\n",
    "        # http://stanford.edu/~raejoon/blog/2017/05/16/python-recipes-for-cdfs.html\n",
    "        F = np.cumsum(H) # cumulative distribution of return time \n",
    "        F = (F.max()-F)\n",
    "        F = F/F.max() # now inverse cumulative distribution\n",
    "        print(F.max(), \"fmax\")\n",
    "    else:\n",
    "        F = np.zeros(len(bins)-1,dtype=float)\n",
    "    \n",
    "    return F "
   ]
  },
  {
   "cell_type": "code",
   "execution_count": 604,
   "metadata": {},
   "outputs": [],
   "source": [
    "# the entire unconditional return time analysis sequence \n",
    "\n",
    "\n",
    "def load(filename, chunksize = 5000):\n",
    "    \"\"\"filename is the original output file of the simulation\n",
    "    chunksize is the size at which to chunk the simulation output (which is huge)\n",
    "    chunksize_ed is the size at which to chunk the entrain and deposit file output \"\"\"\n",
    "    \n",
    "    entrainpath = filename[:-4]+'-entrains.dat' # generate the filenames for entrainment and depsoition \n",
    "    depositpath = filename[:-4]+'-deposits.dat' #\n",
    "    entrainfile = pd.read_csv(entrainpath, delim_whitespace = True, \n",
    "                              index_col = None, iterator = True, chunksize = chunksize)\n",
    "    depositfile = pd.read_csv(depositpath, delim_whitespace = True,\n",
    "                              index_col = None, iterator = True, chunksize = chunksize)\n",
    "    return entrainfile, depositfile # return iteratables for each file "
   ]
  },
  {
   "cell_type": "code",
   "execution_count": 605,
   "metadata": {},
   "outputs": [
    {
     "name": "stderr",
     "output_type": "stream",
     "text": [
      "/home/kp/anaconda3/lib/python3.7/site-packages/ipykernel_launcher.py:53: RuntimeWarning: invalid value encountered in true_divide\n",
      "/home/kp/anaconda3/lib/python3.7/site-packages/numpy/core/_methods.py:28: RuntimeWarning: invalid value encountered in reduce\n",
      "  return umr_maximum(a, axis, None, out, keepdims, initial)\n"
     ]
    },
    {
     "name": "stdout",
     "output_type": "stream",
     "text": [
      "nan fmax\n",
      "nan fmax\n",
      "nan fmax\n",
      "nan fmax\n",
      "1.0 fmax\n",
      "1.0 fmax\n",
      "1.0 fmax\n",
      "1.0 fmax\n",
      "1.0 fmax\n",
      "1.0 fmax\n",
      "1.0 fmax\n",
      "1.0 fmax\n",
      "1.0 fmax\n",
      "1.0 fmax\n",
      "1.0 fmax\n",
      "1.0 fmax\n",
      "1.0 fmax\n",
      "1.0 fmax\n",
      "1.0 fmax\n",
      "1.0 fmax\n",
      "1.0 fmax\n",
      "1.0 fmax\n",
      "1.0 fmax\n",
      "1.0 fmax\n",
      "1.0 fmax\n",
      "1.0 fmax\n",
      "1.0 fmax\n",
      "1.0 fmax\n",
      "1.0 fmax\n",
      "1.0 fmax\n",
      "1.0 fmax\n",
      "1.0 fmax\n",
      "1.0 fmax\n",
      "1.0 fmax\n",
      "1.0 fmax\n",
      "1.0 fmax\n",
      "1.0 fmax\n",
      "1.0 fmax\n",
      "1.0 fmax\n",
      "1.0 fmax\n",
      "1.0 fmax\n",
      "1.0 fmax\n",
      "1.0 fmax\n",
      "1.0 fmax\n",
      "1.0 fmax\n",
      "1.0 fmax\n",
      "1.0 fmax\n",
      "1.0 fmax\n",
      "1.0 fmax\n",
      "1.0 fmax\n",
      "1.0 fmax\n",
      "1.0 fmax\n",
      "1.0 fmax\n",
      "1.0 fmax\n",
      "1.0 fmax\n",
      "1.0 fmax\n",
      "1.0 fmax\n",
      "1.0 fmax\n",
      "1.0 fmax\n",
      "1.0 fmax\n",
      "1.0 fmax\n",
      "1.0 fmax\n",
      "1.0 fmax\n",
      "1.0 fmax\n",
      "1.0 fmax\n",
      "1.0 fmax\n",
      "1.0 fmax\n",
      "1.0 fmax\n",
      "1.0 fmax\n",
      "1.0 fmax\n",
      "1.0 fmax\n",
      "1.0 fmax\n",
      "1.0 fmax\n",
      "1.0 fmax\n",
      "1.0 fmax\n",
      "1.0 fmax\n",
      "1.0 fmax\n",
      "1.0 fmax\n",
      "1.0 fmax\n",
      "1.0 fmax\n",
      "1.0 fmax\n",
      "1.0 fmax\n",
      "1.0 fmax\n",
      "1.0 fmax\n",
      "1.0 fmax\n",
      "1.0 fmax\n",
      "1.0 fmax\n",
      "1.0 fmax\n",
      "1.0 fmax\n",
      "1.0 fmax\n",
      "1.0 fmax\n",
      "1.0 fmax\n",
      "1.0 fmax\n",
      "1.0 fmax\n",
      "1.0 fmax\n",
      "1.0 fmax\n",
      "nan fmax\n",
      "nan fmax\n",
      "nan fmax\n",
      "11.817545175552368\n"
     ]
    }
   ],
   "source": [
    "\n",
    "t0 = time.time()\n",
    "# define the parameters for analysis \n",
    "tmax = 500*3600 # maximum return time to allow for \n",
    "dt = 0.5 # bin size \n",
    "bins = np.arange(0, tmax, dt) # bins \n",
    "\n",
    "# get the statistics of m \n",
    "cdffilename = filename[:-4]+'-rtcdf.dat'\n",
    "mstatsfilename = filename[:-4]+'-mstats.dat'\n",
    "m, pm = np.loadtxt(mstatsfilename).T\n",
    "entrainfile, depositfile = load(filename)\n",
    "\n",
    "# compute all of the conditional return time cdfs for each m value under consideration\n",
    "cdf = np.zeros(len(bins)-1,dtype=float)\n",
    "for p,mv in zip(pm,m): # iterate through all mvalues in question\n",
    "    entrainfile, depositfile = load(filename) # load in the files again to refresh the iterator \n",
    "    Fmv = conditional_rt(entrainfile, depositfile, mv) # calculate the rt cdf conditional to mv\n",
    "    cdf+=p*Fmv\n",
    "\n",
    "# compute the final output which is the bin centers and the unconditional return time pdf corresponding to them \n",
    "#cdf = (conditionals*pm.reshape(-1, 1)).sum(axis = 0) # compute the unconditional cdf\n",
    "bins = (bins[1:]+bins[:-1])/2.0 # compute the midpoints of the bins \n",
    "\n",
    "data = np.array((bins,cdf)).T\n",
    "#np.savetxt(cdffilename,data)\n",
    "print(time.time()-t0)"
   ]
  },
  {
   "cell_type": "code",
   "execution_count": 599,
   "metadata": {},
   "outputs": [],
   "source": [
    "df = pd.DataFrame(data, columns = ['bins (sec)', 'cdf'])"
   ]
  },
  {
   "cell_type": "code",
   "execution_count": 551,
   "metadata": {},
   "outputs": [
    {
     "data": {
      "text/html": [
       "<div>\n",
       "<style scoped>\n",
       "    .dataframe tbody tr th:only-of-type {\n",
       "        vertical-align: middle;\n",
       "    }\n",
       "\n",
       "    .dataframe tbody tr th {\n",
       "        vertical-align: top;\n",
       "    }\n",
       "\n",
       "    .dataframe thead th {\n",
       "        text-align: right;\n",
       "    }\n",
       "</style>\n",
       "<table border=\"1\" class=\"dataframe\">\n",
       "  <thead>\n",
       "    <tr style=\"text-align: right;\">\n",
       "      <th></th>\n",
       "      <th>bins (sec)</th>\n",
       "      <th>cdf</th>\n",
       "    </tr>\n",
       "  </thead>\n",
       "  <tbody>\n",
       "    <tr>\n",
       "      <th>0</th>\n",
       "      <td>0.25</td>\n",
       "      <td>0.137665</td>\n",
       "    </tr>\n",
       "    <tr>\n",
       "      <th>1</th>\n",
       "      <td>0.75</td>\n",
       "      <td>0.094541</td>\n",
       "    </tr>\n",
       "    <tr>\n",
       "      <th>2</th>\n",
       "      <td>1.25</td>\n",
       "      <td>0.071687</td>\n",
       "    </tr>\n",
       "    <tr>\n",
       "      <th>3</th>\n",
       "      <td>1.75</td>\n",
       "      <td>0.057856</td>\n",
       "    </tr>\n",
       "    <tr>\n",
       "      <th>4</th>\n",
       "      <td>2.25</td>\n",
       "      <td>0.048392</td>\n",
       "    </tr>\n",
       "  </tbody>\n",
       "</table>\n",
       "</div>"
      ],
      "text/plain": [
       "   bins (sec)       cdf\n",
       "0        0.25  0.137665\n",
       "1        0.75  0.094541\n",
       "2        1.25  0.071687\n",
       "3        1.75  0.057856\n",
       "4        2.25  0.048392"
      ]
     },
     "execution_count": 551,
     "metadata": {},
     "output_type": "execute_result"
    }
   ],
   "source": [
    "df.head()"
   ]
  },
  {
   "cell_type": "code",
   "execution_count": 541,
   "metadata": {},
   "outputs": [],
   "source": [
    "def cdf():\n",
    "    t0 = time.time()\n",
    "    # define the parameters for analysis \n",
    "    tmax = 500*3600 # maximum return time to allow for \n",
    "    dt = 0.5 # bin size \n",
    "    bins = np.arange(0, tmax, dt) # bins \n",
    "\n",
    "    # get the statistics of m \n",
    "    cdffilename = filename[:-4]+'-rtcdf.dat'\n",
    "    mstatsfilename = filename[:-4]+'-mstats.dat'\n",
    "    m, pm = np.loadtxt(mstatsfilename).T\n",
    "\n",
    "    # compute all of the conditional return time cdfs for each m value under consideration\n",
    "    cdf = np.zeros(len(bins)-1,dtype=float)\n",
    "    for p,mv in zip(pm,m): # iterate through all mvalues in question\n",
    "        entrainfile, depositfile = load(filename) # load in the files again to refresh the iterator \n",
    "        Fmv = conditional_rt(entrainfile, depositfile, mv) # calculate the rt cdf conditional to mv\n",
    "        cdf+=p*Fmv\n",
    "        \n",
    "    # compute the final output which is the bin centers and the unconditional return time pdf corresponding to them \n",
    "    #cdf = (conditionals*pm.reshape(-1, 1)).sum(axis = 0) # compute the unconditional cdf\n",
    "    bins = (bins[1:]+bins[:-1])/2.0 # compute the midpoints of the bins \n",
    "\n",
    "    data = np.array((bins,cdf)).T\n",
    "    np.savetxt(cdffilename,data)\n"
   ]
  },
  {
   "cell_type": "code",
   "execution_count": 469,
   "metadata": {},
   "outputs": [
    {
     "name": "stdout",
     "output_type": "stream",
     "text": [
      " "
     ]
    }
   ],
   "source": [
    "%prun cdf()"
   ]
  },
  {
   "cell_type": "code",
   "execution_count": 544,
   "metadata": {
    "scrolled": true
   },
   "outputs": [
    {
     "data": {
      "text/plain": [
       "(0.001, 1)"
      ]
     },
     "execution_count": 544,
     "metadata": {},
     "output_type": "execute_result"
    },
    {
     "data": {
      "image/png": "[encoded data removed]",
      "text/plain": [
       "<Figure size 432x288 with 1 Axes>"
      ]
     },
     "metadata": {
      "needs_background": "light"
     },
     "output_type": "display_data"
    }
   ],
   "source": [
    "plt.loglog(bins, cdf)\n",
    "plt.ylim(1e-3,1)"
   ]
  },
  {
   "cell_type": "code",
   "execution_count": 543,
   "metadata": {},
   "outputs": [
    {
     "name": "stdout",
     "output_type": "stream",
     "text": [
      "1.0  Fmax should be 1.0\n",
      "1.0  Fmax should be 1.0\n",
      "1.0  Fmax should be 1.0\n",
      "1.0  Fmax should be 1.0\n",
      "1.0  Fmax should be 1.0\n",
      "1.0  Fmax should be 1.0\n",
      "1.0  Fmax should be 1.0\n",
      "0.9999999999999999  Fmax should be 1.0\n",
      "0.9999999999999999  Fmax should be 1.0\n",
      "1.0  Fmax should be 1.0\n",
      "0.9999999999999999  Fmax should be 1.0\n",
      "1.0  Fmax should be 1.0\n",
      "0.9999999999999998  Fmax should be 1.0\n",
      "0.9999999999999999  Fmax should be 1.0\n",
      "1.0  Fmax should be 1.0\n",
      "0.9999999999999998  Fmax should be 1.0\n",
      "1.0  Fmax should be 1.0\n",
      "0.9999999999999998  Fmax should be 1.0\n",
      "1.0  Fmax should be 1.0\n",
      "0.9999999999999997  Fmax should be 1.0\n",
      "0.9999999999999997  Fmax should be 1.0\n",
      "0.9999999999999997  Fmax should be 1.0\n",
      "1.0000000000000004  Fmax should be 1.0\n",
      "0.9999999999999997  Fmax should be 1.0\n",
      "0.9999999999999996  Fmax should be 1.0\n",
      "0.9999999999999997  Fmax should be 1.0\n",
      "0.9999999999999997  Fmax should be 1.0\n",
      "1.0000000000000002  Fmax should be 1.0\n",
      "0.9999999999999999  Fmax should be 1.0\n",
      "1.0  Fmax should be 1.0\n",
      "1.0  Fmax should be 1.0\n",
      "0.9999999999999999  Fmax should be 1.0\n",
      "0.9999999999999998  Fmax should be 1.0\n",
      "1.0000000000000002  Fmax should be 1.0\n",
      "1.0000000000000002  Fmax should be 1.0\n",
      "0.9999999999999998  Fmax should be 1.0\n",
      "0.9999999999999998  Fmax should be 1.0\n",
      "0.9999999999999998  Fmax should be 1.0\n",
      "1.0  Fmax should be 1.0\n",
      "1.0000000000000004  Fmax should be 1.0\n",
      "0.9999999999999996  Fmax should be 1.0\n",
      "1.0000000000000004  Fmax should be 1.0\n",
      "0.9999999999999997  Fmax should be 1.0\n",
      "0.9999999999999998  Fmax should be 1.0\n",
      "0.9999999999999997  Fmax should be 1.0\n",
      "0.9999999999999998  Fmax should be 1.0\n",
      "0.9999999999999994  Fmax should be 1.0\n",
      "1.0000000000000002  Fmax should be 1.0\n",
      "1.0000000000000004  Fmax should be 1.0\n",
      "0.9999999999999999  Fmax should be 1.0\n",
      "0.9999999999999999  Fmax should be 1.0\n",
      "0.9999999999999999  Fmax should be 1.0\n",
      "0.9999999999999998  Fmax should be 1.0\n",
      "0.9999999999999998  Fmax should be 1.0\n",
      "0.9999999999999998  Fmax should be 1.0\n",
      "1.0000000000000002  Fmax should be 1.0\n",
      "0.9999999999999999  Fmax should be 1.0\n",
      "0.9999999999999999  Fmax should be 1.0\n",
      "0.9999999999999996  Fmax should be 1.0\n",
      "1.0  Fmax should be 1.0\n",
      "1.0  Fmax should be 1.0\n",
      "1.0000000000000002  Fmax should be 1.0\n",
      "0.9999999999999994  Fmax should be 1.0\n",
      "1.0  Fmax should be 1.0\n",
      "1.0000000000000002  Fmax should be 1.0\n",
      "1.0000000000000004  Fmax should be 1.0\n",
      "1.0000000000000002  Fmax should be 1.0\n",
      "1.0000000000000004  Fmax should be 1.0\n",
      "0.9999999999999997  Fmax should be 1.0\n",
      "1.0  Fmax should be 1.0\n",
      "0.9999999999999999  Fmax should be 1.0\n",
      "1.0  Fmax should be 1.0\n",
      "0.9999999999999997  Fmax should be 1.0\n",
      "1.0  Fmax should be 1.0\n",
      "1.0000000000000002  Fmax should be 1.0\n",
      "1.0000000000000002  Fmax should be 1.0\n",
      "0.9999999999999998  Fmax should be 1.0\n",
      "0.9999999999999999  Fmax should be 1.0\n",
      "0.9999999999999999  Fmax should be 1.0\n",
      "1.0  Fmax should be 1.0\n",
      "1.0000000000000002  Fmax should be 1.0\n",
      "0.9999999999999997  Fmax should be 1.0\n",
      "1.0  Fmax should be 1.0\n",
      "1.0  Fmax should be 1.0\n",
      "1.0  Fmax should be 1.0\n",
      "1.0  Fmax should be 1.0\n",
      "1.0  Fmax should be 1.0\n",
      "0.9999999999999999  Fmax should be 1.0\n",
      "0.9999999999999999  Fmax should be 1.0\n",
      "0.9999999999999999  Fmax should be 1.0\n",
      "1.0  Fmax should be 1.0\n",
      "1.0  Fmax should be 1.0\n",
      "1.0  Fmax should be 1.0\n",
      "1.0  Fmax should be 1.0\n",
      "1.0  Fmax should be 1.0\n",
      "1.0  Fmax should be 1.0\n",
      "1.0  Fmax should be 1.0\n",
      "1.0  Fmax should be 1.0\n",
      "1.0  Fmax should be 1.0\n",
      "22.795714855194092\n"
     ]
    }
   ],
   "source": [
    "t0 = time.time()\n",
    "# define the parameters for analysis \n",
    "tmax = 500*3600 # maximum return time to allow for \n",
    "dt = 0.5 # bin size \n",
    "bins = np.arange(0, tmax, dt) # bins \n",
    "\n",
    "# get the statistics of m \n",
    "cdffilename = filename[:-4]+'-rtcdf.dat'\n",
    "mstatsfilename = filename[:-4]+'-mstats.dat'\n",
    "m, pm = np.loadtxt(mstatsfilename).T\n",
    "\n",
    "# compute all of the conditional return time cdfs for each m value under consideration\n",
    "cdf = np.zeros(len(bins)-1,dtype=float)\n",
    "for p,mv in zip(pm,m): # iterate through all mvalues in question\n",
    "    entrainfile, depositfile = load(filename) # load in the files again to refresh the iterator \n",
    "    Fmv = conditional_rt(entrainfile, depositfile, mv) # calculate the rt cdf conditional to mv\n",
    "    cdf+=p*Fmv\n",
    "\n",
    "# compute the final output which is the bin centers and the unconditional return time pdf corresponding to them \n",
    "#cdf = (conditionals*pm.reshape(-1, 1)).sum(axis = 0) # compute the unconditional cdf\n",
    "bins = (bins[1:]+bins[:-1])/2.0 # compute the midpoints of the bins \n",
    "\n",
    "data = np.array((bins,cdf)).T\n",
    "np.savetxt(cdffilename,data)\n",
    "print(time.time()-t0)"
   ]
  },
  {
   "cell_type": "code",
   "execution_count": 545,
   "metadata": {},
   "outputs": [
    {
     "data": {
      "text/plain": [
       "[<matplotlib.lines.Line2D at 0x7f8f5a133fd0>]"
      ]
     },
     "execution_count": 545,
     "metadata": {},
     "output_type": "execute_result"
    },
    {
     "data": {
      "image/png": "[encoded data removed]",
      "text/plain": [
       "<Figure size 432x288 with 1 Axes>"
      ]
     },
     "metadata": {
      "needs_background": "light"
     },
     "output_type": "display_data"
    }
   ],
   "source": [
    "plt.loglog(bins,cdf)"
   ]
  },
  {
   "cell_type": "code",
   "execution_count": null,
   "metadata": {},
   "outputs": [],
   "source": []
  }
 ],
 "metadata": {
  "kernelspec": {
   "display_name": "Python 3",
   "language": "python",
   "name": "python3"
  },
  "language_info": {
   "codemirror_mode": {
    "name": "ipython",
    "version": 3
   },
   "file_extension": ".py",
   "mimetype": "text/x-python",
   "name": "python",
   "nbconvert_exporter": "python",
   "pygments_lexer": "ipython3",
   "version": "3.7.0"
  }
 },
 "nbformat": 4,
 "nbformat_minor": 2
}
