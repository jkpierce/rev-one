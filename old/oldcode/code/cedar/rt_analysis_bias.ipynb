{
 "cells": [
  {
   "cell_type": "code",
   "execution_count": 1,
   "metadata": {
    "collapsed": true
   },
   "outputs": [],
   "source": [
    "import numpy as np"
   ]
  },
  {
   "cell_type": "code",
   "execution_count": 3,
   "metadata": {},
   "outputs": [],
   "source": [
    "S = np.load('../../simulations/flow_i-l_2.199-time_2500hr-rate_5Hz.npy')\n",
    "n,m,t = S"
   ]
  },
  {
   "cell_type": "code",
   "execution_count": 33,
   "metadata": {
    "collapsed": true
   },
   "outputs": [],
   "source": [
    "def rt_cdf_marginal(t,m,mstar,dt,tmax):\n",
    "    \"\"\"compute the return time distribution conditional to (integer) elevation mstar given a time series of transitions t\n",
    "    and a series m(t) of bed elevations across this time series\"\"\"\n",
    "    departures, = np.where( (np.roll(m,1) <= mstar) & (m > mstar) ) # indices of depature from mstar\n",
    "    returns, = np.where( (np.roll(m,1) > mstar) & (m <= mstar)  ) # indices of return to mstar\n",
    "    # must start from a departure\n",
    "    while returns.min()<departures.min():\n",
    "        returns = returns[1:]\n",
    "    # must end at a return\n",
    "    while returns.max()<departures.max():\n",
    "        departures = departures[:-1]\n",
    "    # compute the return times\n",
    "    rt = t[returns] - t[departures]\n",
    "    # generate a return time distribution to elevation mstar from above\n",
    "    bins = np.arange(10.0, tmax , dt)\n",
    "    H,bins = np.histogram( rt , bins = bins)\n",
    "    dx = bins[1] - bins[0] # bin size\n",
    "    F = np.cumsum(H)*dx # cumulative distribution of return time\n",
    "    return F"
   ]
  },
  {
   "cell_type": "code",
   "execution_count": 34,
   "metadata": {},
   "outputs": [
    {
     "data": {
      "text/plain": [
       "9000000.0040932782"
      ]
     },
     "execution_count": 34,
     "metadata": {},
     "output_type": "execute_result"
    }
   ],
   "source": [
    "t.max()"
   ]
  },
  {
   "cell_type": "code",
   "execution_count": 35,
   "metadata": {},
   "outputs": [],
   "source": [
    "dt = 3.0\n",
    "mstar = round(m.mean()-m.std()*2)\n",
    "tmax = t.max()\n",
    "F = rt_cdf_marginal(t,m,mstar,dt,tmax)"
   ]
  },
  {
   "cell_type": "code",
   "execution_count": 36,
   "metadata": {
    "collapsed": true
   },
   "outputs": [],
   "source": [
    "bins = np.arange(10.0,tmax,dt)\n",
    "bins = (bins[1:]+bins[:-1])/2.0"
   ]
  },
  {
   "cell_type": "code",
   "execution_count": 38,
   "metadata": {},
   "outputs": [
    {
     "data": {
      "text/plain": [
       "(1000.0, 100000.0)"
      ]
     },
     "execution_count": 38,
     "metadata": {},
     "output_type": "execute_result"
    },
    {
     "data": {
      "image/png": "[encoded data removed]",
      "text/plain": [
       "<Figure size 432x288 with 1 Axes>"
      ]
     },
     "metadata": {},
     "output_type": "display_data"
    }
   ],
   "source": [
    "import matplotlib.pyplot as plt\n",
    "%matplotlib inline\n",
    "plt.loglog(bins,F)\n",
    "plt.ylim(1e3,1e5)\n",
    "#plt.xlim(1e-2,30)"
   ]
  },
  {
   "cell_type": "code",
   "execution_count": null,
   "metadata": {
    "collapsed": true
   },
   "outputs": [],
   "source": []
  }
 ],
 "metadata": {
  "kernelspec": {
   "display_name": "Python [conda env:anaconda3]",
   "language": "python",
   "name": "conda-env-anaconda3-py"
  },
  "language_info": {
   "codemirror_mode": {
    "name": "ipython",
    "version": 3
   },
   "file_extension": ".py",
   "mimetype": "text/x-python",
   "name": "python",
   "nbconvert_exporter": "python",
   "pygments_lexer": "ipython3",
   "version": "3.6.6"
  }
 },
 "nbformat": 4,
 "nbformat_minor": 2
}
