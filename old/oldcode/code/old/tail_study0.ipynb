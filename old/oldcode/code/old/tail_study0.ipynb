{
 "cells": [
  {
   "cell_type": "code",
   "execution_count": 150,
   "metadata": {},
   "outputs": [
    {
     "name": "stdout",
     "output_type": "stream",
     "text": [
      "The autoreload extension is already loaded. To reload it, use:\n",
      "  %reload_ext autoreload\n"
     ]
    }
   ],
   "source": [
    "from reverting import *\n",
    "import matplotlib.pyplot as plt \n",
    "%matplotlib inline\n",
    "%load_ext autoreload\n",
    "%autoreload 2\n",
    "from IPython.display import clear_output\n",
    "import os \n",
    "import numpy as np \n",
    "from matplotlib import cm\n",
    "from matplotlib import rc\n",
    "rc('text', usetex=True)\n",
    "import time"
   ]
  },
  {
   "cell_type": "code",
   "execution_count": 151,
   "metadata": {},
   "outputs": [],
   "source": [
    "# run a simulation with trial i and l = 5 particle diameters"
   ]
  },
  {
   "cell_type": "code",
   "execution_count": null,
   "metadata": {},
   "outputs": [],
   "source": [
    "for p in param:\n",
    "    S = simulate(param,tmax=3600*2500) # run the simulation for 500 hr \n",
    "    np.save('../simulations/flow_i-l_2.199-time_2500hr-rate_5Hz',S)"
   ]
  },
  {
   "cell_type": "code",
   "execution_count": null,
   "metadata": {},
   "outputs": [],
   "source": []
  },
  {
   "cell_type": "code",
   "execution_count": null,
   "metadata": {},
   "outputs": [
    {
     "name": "stdout",
     "output_type": "stream",
     "text": [
      "1 hour(s) simulated\n",
      "2 hour(s) simulated\n",
      "3 hour(s) simulated\n",
      "4 hour(s) simulated\n",
      "5 hour(s) simulated\n",
      "6 hour(s) simulated\n",
      "7 hour(s) simulated\n",
      "8 hour(s) simulated\n",
      "9 hour(s) simulated\n",
      "10 hour(s) simulated\n",
      "11 hour(s) simulated\n",
      "12 hour(s) simulated\n",
      "13 hour(s) simulated\n",
      "14 hour(s) simulated\n"
     ]
    }
   ],
   "source": [
    "# tmax is in seconds. This is a simulation for flow condition i.\n",
    "# 1 hr of simulation takes just under 20s\n",
    "# 180 hr of virtual time (180*3600 sec) expected to take about an hr \n",
    "t0 = time.time()\n",
    "S = simulate(param,tmax=3600*2500) # run the simulation for 500 hr \n",
    "np.save('../simulations/flow_i-l_2.199-time_2500hr-rate_5Hz',S)\n",
    "print('simulation required ' + str((time.time()-t0)/3600) + ' hours to finish')"
   ]
  },
  {
   "cell_type": "code",
   "execution_count": 36,
   "metadata": {},
   "outputs": [],
   "source": [
    "# load in simulation results to try to get distribution of resting times \n",
    "S = np.load('../simulations/flow_i-l_2.199-time_500hr-rate_5Hz.npy')\n",
    "n,m,t = S"
   ]
  },
  {
   "cell_type": "code",
   "execution_count": 37,
   "metadata": {},
   "outputs": [],
   "source": [
    "def rt_cdf_marginal(t,m,mstar,dt):\n",
    "    \"\"\"compute the return time distribution marginal to (integer) elevation mstar given a time series of transitions t\n",
    "    and a series m(t) of bed elevations across this time series\"\"\"\n",
    "    departures, = np.where( (np.roll(m,1) <= mstar) & (m > mstar) ) # indices of depature from mstar\n",
    "    returns, = np.where( (np.roll(m,1) > mstar) & (m <= mstar)  ) # indices of return to mstar\n",
    "    # must start from a departure\n",
    "    while returns.min()<departures.min():\n",
    "        returns = returns[1:]\n",
    "    # must end at a return\n",
    "    while returns.max()<departures.max():\n",
    "        departures = departures[:-1]\n",
    "    # compute the return times    \n",
    "    rt = t[returns] - t[departures] \n",
    "    # generate a return time distribution to elevation mstar from above\n",
    "    bins = np.arange(0,3600*3, dt)\n",
    "    H,bins = np.histogram( rt , bins = bins, normed = True )\n",
    "    dx = bins[1] - bins[0] # bin size \n",
    "    F = 1-np.cumsum(H)*dx # cumulative distribution of return time \n",
    "    return F  "
   ]
  },
  {
   "cell_type": "code",
   "execution_count": 38,
   "metadata": {},
   "outputs": [],
   "source": [
    "def rt_unconditional(t,m,dt=3.0,dm=5):\n",
    "    \"\"\"compute the unconditional return time from above of the bed elevation time series\n",
    "    dt is the time resolution... suggested 5.0s \n",
    "    dm is the space resolution... suggested 5 (particles)\n",
    "    t is the times at which bed elevations change\n",
    "    m is the time series of bed elevation values at these times\n",
    "    \"\"\"\n",
    "    mmin = round(m.mean()-3*m.std()) # the minimum m value to include \n",
    "    mmax = round(m.mean()+3*m.std()) # the range of m values to include into the computation of the resting time cdf \n",
    "    #dm = 5  # the interval between m values to discretize bed elevations over \n",
    "    mvals = np.arange(mmin,mmax+dm,dm) # the set of values of m over which to calculate the pdf of bed elevations \n",
    "    pm,_ = np.histogram(m,bins=mvals, normed=True)    # the pdf of bed elevations \n",
    "    pm=pm*dm # pdf of bed elevations\n",
    "    mvals = np.arange(mmin,mmax,dm) # the set of m values over which the bed elevation pdf is known\n",
    "    bins = np.arange(0,3600*3, dt)\n",
    "    pTm = np.array([rt_cdf_marginal(t,m,mv,dt) for mv in mvals]) # marginal cdf of return time from above across elevations\n",
    "    cdf = (pTm*pm.reshape(-1,1)).sum(axis=0)  # cumulative resting time distribution -- convolve all bed elevations like Yang and Sayre or Nakagawa Tsujimoto \n",
    "    # or Voepel and Hassan \n",
    "    return bins[1:],cdf # return times t and cumulative distribution P(T>t) "
   ]
  },
  {
   "cell_type": "code",
   "execution_count": 39,
   "metadata": {},
   "outputs": [
    {
     "name": "stderr",
     "output_type": "stream",
     "text": [
      "/home/kp/anaconda3/lib/python3.7/site-packages/ipykernel_launcher.py:12: VisibleDeprecationWarning: Passing `normed=True` on non-uniform bins has always been broken, and computes neither the probability density function nor the probability mass function. The result is only correct if the bins are uniform, when density=True will produce the same result anyway. The argument will be removed in a future version of numpy.\n",
      "  if sys.path[0] == '':\n",
      "/home/kp/anaconda3/lib/python3.7/site-packages/ipykernel_launcher.py:16: VisibleDeprecationWarning: Passing `normed=True` on non-uniform bins has always been broken, and computes neither the probability density function nor the probability mass function. The result is only correct if the bins are uniform, when density=True will produce the same result anyway. The argument will be removed in a future version of numpy.\n",
      "  app.launch_new_instance()\n"
     ]
    }
   ],
   "source": [
    "T,F = rt_unconditional(t,m)"
   ]
  },
  {
   "cell_type": "code",
   "execution_count": 41,
   "metadata": {},
   "outputs": [
    {
     "data": {
      "text/plain": [
       "[<matplotlib.lines.Line2D at 0x7f8bce6a5550>]"
      ]
     },
     "execution_count": 41,
     "metadata": {},
     "output_type": "execute_result"
    },
    {
     "data": {
      "image/png": "[encoded data removed]",
      "text/plain": [
       "<Figure size 432x288 with 1 Axes>"
      ]
     },
     "metadata": {
      "needs_background": "light"
     },
     "output_type": "display_data"
    }
   ],
   "source": [
    "plt.loglog(TT,FF)\n",
    "plt.ylim(1e-3,2)\n",
    "plt.xlim(1,2e4)\n",
    "plt.loglog(T,F)"
   ]
  },
  {
   "cell_type": "code",
   "execution_count": 149,
   "metadata": {},
   "outputs": [
    {
     "data": {
      "image/png": "[encoded data removed]",
      "text/plain": [
       "<Figure size 432x288 with 1 Axes>"
      ]
     },
     "metadata": {
      "needs_background": "light"
     },
     "output_type": "display_data"
    }
   ],
   "source": [
    "# tt = T[(T>3e3) & (T<7e3)]\n",
    "def power(tt,a=1.0,x1=3e3,y1=1e-1):\n",
    "    x1,y1 = 3e3, 1e-1 # point it passes thru\n",
    "    A = y1*x1**a\n",
    "    y = A*tt**(-a)\n",
    "    return y\n",
    "\n",
    "plt.loglog(T,F,'x')\n",
    "plt.loglog(tt,power(tt))\n",
    "plt.loglog(T,pareto(T,a=3,b=1.07e4,c=0.6),color='black',lw=3)\n",
    "plt.ylim(1e-5,2)\n",
    "plt.xlim(1,2e4)\n",
    "plt.ylabel('cumulative resting time: $P(T>t)$')\n",
    "plt.xlabel('resting time $T$ [s]')\n",
    "plt.text(1e1,1e-3,'Black is tempered Pareto like Bradley 2017')\n",
    "plt.text(8e1,5e-1, 'Orange is $T^{-1}$ like Martin 2014')\n",
    "plt.text(4e0,3e-5,'No exponential crossover like Voepel 2013')\n",
    "plt.title(' unconditional resting time distribution (accounting for resting at all elevations)')\n",
    "plt.savefig('/home/kp/Desktop/temperedpareto.png')"
   ]
  },
  {
   "cell_type": "code",
   "execution_count": 64,
   "metadata": {},
   "outputs": [],
   "source": [
    "def pareto(x,a=3.0,b=1.1e4,c=0.56):\n",
    "    return a*(x**(-c)-b**(-c))/(1-(a/b)**c)"
   ]
  },
  {
   "cell_type": "code",
   "execution_count": null,
   "metadata": {
    "collapsed": true
   },
   "outputs": [],
   "source": []
  }
 ],
 "metadata": {
  "kernelspec": {
   "display_name": "Python 3",
   "language": "python",
   "name": "python3"
  },
  "language_info": {
   "codemirror_mode": {
    "name": "ipython",
    "version": 3
   },
   "file_extension": ".py",
   "mimetype": "text/x-python",
   "name": "python",
   "nbconvert_exporter": "python",
   "pygments_lexer": "ipython3",
   "version": "3.7.0"
  }
 },
 "nbformat": 4,
 "nbformat_minor": 2
}
