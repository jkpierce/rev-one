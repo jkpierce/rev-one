{
 "cells": [
  {
   "cell_type": "code",
   "execution_count": null,
   "metadata": {
    "collapsed": true
   },
   "outputs": [],
   "source": [
    "import numpy as np \n",
    "import matplotlib.pyplot as plt \n",
    "import os\n",
    "import matplotlib as mpl\n",
    "import gc # for clearing plots \n",
    "%matplotlib inline "
   ]
  },
  {
   "cell_type": "code",
   "execution_count": null,
   "metadata": {
    "collapsed": true
   },
   "outputs": [],
   "source": [
    "z1 = 0.020943951023931956\n",
    "files = [f for f in os.listdir('./') if f.endswith('.npy')]\n",
    "lvals = [f.split('-')[1].split('_')[1] for f in files]\n",
    "flows = [f.split('_')[1][0] for f in files]\n",
    "cm = plt.get_cmap('cool')\n",
    "colors = [cm(1.*i/5.0) for i in range(5)]\n",
    "colors = {x[0]:x[1] for x in zip(sorted(np.unique(flows)),colors)}\n",
    "colors = [colors[f] for f in flows]\n",
    "bins = np.load(files[0]).T[0]\n",
    "bins = bins-bins.min()\n",
    "cdfs = [np.load(f).T[1] for f in files]\n",
    "Evals = []\n",
    "for f in flows: \n",
    "    if f=='a':\n",
    "        Evals.append(33.0)\n",
    "    elif f=='g':\n",
    "        Evals.append(68.1)\n",
    "    elif f=='i':\n",
    "        Evals.append(103.2)\n",
    "    elif f=='l':\n",
    "        Evals.append(154.6)\n",
    "    elif f=='n':\n",
    "        Evals.append(182.2)"
   ]
  },
  {
   "cell_type": "code",
   "execution_count": null,
   "metadata": {
    "scrolled": false
   },
   "outputs": [],
   "source": [
    "for E,l, cdf, color in zip(Evals,lvals, cdfs, colors):\n",
    "    plt.loglog(bins*(z1/(2*float(l)))**2*E,cdf/cdf.max())\n",
    "plt.ylim(1e-8,2)\n",
    "plt.xlim(1e-3,1e3)\n",
    "plt.show()\n",
    "gc.collect()"
   ]
  },
  {
   "cell_type": "code",
   "execution_count": null,
   "metadata": {
    "collapsed": true
   },
   "outputs": [],
   "source": [
    "v = 'n'\n",
    "cdfs = [c for c,f in zip(cdfs,flows) if f==v]\n",
    "lvals = [l for l,f in zip(lvals,flows) if f==v]"
   ]
  },
  {
   "cell_type": "code",
   "execution_count": null,
   "metadata": {},
   "outputs": [],
   "source": [
    "for l,c in zip(lvals,cdfs):\n",
    "    plt.loglog(bins*(z1/(2*float(l)))**2,c/c.max(),label=l)\n",
    "plt.legend()\n",
    "plt.ylim(1e-5,2)\n",
    "plt.xlim(1e-5,1e2)"
   ]
  },
  {
   "cell_type": "code",
   "execution_count": null,
   "metadata": {
    "collapsed": true
   },
   "outputs": [],
   "source": []
  }
 ],
 "metadata": {
  "kernelspec": {
   "display_name": "Python [default]",
   "language": "python",
   "name": "python3"
  },
  "language_info": {
   "codemirror_mode": {
    "name": "ipython",
    "version": 3
   },
   "file_extension": ".py",
   "mimetype": "text/x-python",
   "name": "python",
   "nbconvert_exporter": "python",
   "pygments_lexer": "ipython3",
   "version": "3.6.6"
  }
 },
 "nbformat": 4,
 "nbformat_minor": 2
}
